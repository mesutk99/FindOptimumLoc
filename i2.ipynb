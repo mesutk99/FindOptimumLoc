{
 "cells": [
  {
   "cell_type": "code",
   "execution_count": 2,
   "metadata": {},
   "outputs": [],
   "source": [
    "import pandas as pd"
   ]
  },
  {
   "cell_type": "code",
   "execution_count": 7,
   "metadata": {},
   "outputs": [],
   "source": [
    "df = pd.read_csv(\"trafik yoğunluk verisi/traffic_density_202001.csv \")"
   ]
  },
  {
   "cell_type": "code",
   "execution_count": 8,
   "metadata": {},
   "outputs": [
    {
     "data": {
      "text/html": [
       "<div>\n",
       "<style scoped>\n",
       "    .dataframe tbody tr th:only-of-type {\n",
       "        vertical-align: middle;\n",
       "    }\n",
       "\n",
       "    .dataframe tbody tr th {\n",
       "        vertical-align: top;\n",
       "    }\n",
       "\n",
       "    .dataframe thead th {\n",
       "        text-align: right;\n",
       "    }\n",
       "</style>\n",
       "<table border=\"1\" class=\"dataframe\">\n",
       "  <thead>\n",
       "    <tr style=\"text-align: right;\">\n",
       "      <th></th>\n",
       "      <th>DATE_TIME</th>\n",
       "      <th>LONGITUDE</th>\n",
       "      <th>LATITUDE</th>\n",
       "      <th>GEOHASH</th>\n",
       "      <th>MINIMUM_SPEED</th>\n",
       "      <th>MAXIMUM_SPEED</th>\n",
       "      <th>AVERAGE_SPEED</th>\n",
       "      <th>NUMBER_OF_VEHICLES</th>\n",
       "    </tr>\n",
       "  </thead>\n",
       "  <tbody>\n",
       "    <tr>\n",
       "      <th>0</th>\n",
       "      <td>2020-01-03 13:00:00</td>\n",
       "      <td>28.844604</td>\n",
       "      <td>41.113586</td>\n",
       "      <td>sxk9bk</td>\n",
       "      <td>9</td>\n",
       "      <td>78</td>\n",
       "      <td>53</td>\n",
       "      <td>105</td>\n",
       "    </tr>\n",
       "    <tr>\n",
       "      <th>1</th>\n",
       "      <td>2020-01-16 07:00:00</td>\n",
       "      <td>29.152222</td>\n",
       "      <td>41.009216</td>\n",
       "      <td>sxk9r3</td>\n",
       "      <td>6</td>\n",
       "      <td>64</td>\n",
       "      <td>27</td>\n",
       "      <td>68</td>\n",
       "    </tr>\n",
       "    <tr>\n",
       "      <th>2</th>\n",
       "      <td>2020-01-17 20:00:00</td>\n",
       "      <td>28.471069</td>\n",
       "      <td>41.042175</td>\n",
       "      <td>sxk1rz</td>\n",
       "      <td>53</td>\n",
       "      <td>96</td>\n",
       "      <td>72</td>\n",
       "      <td>11</td>\n",
       "    </tr>\n",
       "    <tr>\n",
       "      <th>3</th>\n",
       "      <td>2020-01-14 22:00:00</td>\n",
       "      <td>29.360962</td>\n",
       "      <td>40.816956</td>\n",
       "      <td>sxkbhn</td>\n",
       "      <td>17</td>\n",
       "      <td>128</td>\n",
       "      <td>73</td>\n",
       "      <td>216</td>\n",
       "    </tr>\n",
       "    <tr>\n",
       "      <th>4</th>\n",
       "      <td>2020-01-17 20:00:00</td>\n",
       "      <td>28.844604</td>\n",
       "      <td>40.970764</td>\n",
       "      <td>sxk906</td>\n",
       "      <td>16</td>\n",
       "      <td>82</td>\n",
       "      <td>55</td>\n",
       "      <td>123</td>\n",
       "    </tr>\n",
       "    <tr>\n",
       "      <th>...</th>\n",
       "      <td>...</td>\n",
       "      <td>...</td>\n",
       "      <td>...</td>\n",
       "      <td>...</td>\n",
       "      <td>...</td>\n",
       "      <td>...</td>\n",
       "      <td>...</td>\n",
       "      <td>...</td>\n",
       "    </tr>\n",
       "    <tr>\n",
       "      <th>95</th>\n",
       "      <td>2020-01-10 15:00:00</td>\n",
       "      <td>28.811646</td>\n",
       "      <td>41.097107</td>\n",
       "      <td>sxk3z9</td>\n",
       "      <td>15</td>\n",
       "      <td>149</td>\n",
       "      <td>86</td>\n",
       "      <td>107</td>\n",
       "    </tr>\n",
       "    <tr>\n",
       "      <th>96</th>\n",
       "      <td>2020-01-12 15:00:00</td>\n",
       "      <td>28.031616</td>\n",
       "      <td>41.042175</td>\n",
       "      <td>sx7cmz</td>\n",
       "      <td>33</td>\n",
       "      <td>117</td>\n",
       "      <td>91</td>\n",
       "      <td>23</td>\n",
       "    </tr>\n",
       "    <tr>\n",
       "      <th>97</th>\n",
       "      <td>2020-01-07 14:00:00</td>\n",
       "      <td>28.965454</td>\n",
       "      <td>41.102600</td>\n",
       "      <td>sxk9g4</td>\n",
       "      <td>8</td>\n",
       "      <td>113</td>\n",
       "      <td>63</td>\n",
       "      <td>236</td>\n",
       "    </tr>\n",
       "    <tr>\n",
       "      <th>98</th>\n",
       "      <td>2020-01-27 06:00:00</td>\n",
       "      <td>29.284058</td>\n",
       "      <td>40.959778</td>\n",
       "      <td>sxkc42</td>\n",
       "      <td>7</td>\n",
       "      <td>152</td>\n",
       "      <td>92</td>\n",
       "      <td>434</td>\n",
       "    </tr>\n",
       "    <tr>\n",
       "      <th>99</th>\n",
       "      <td>2020-01-15 13:00:00</td>\n",
       "      <td>28.844604</td>\n",
       "      <td>41.091614</td>\n",
       "      <td>sxk9b2</td>\n",
       "      <td>50</td>\n",
       "      <td>99</td>\n",
       "      <td>68</td>\n",
       "      <td>44</td>\n",
       "    </tr>\n",
       "  </tbody>\n",
       "</table>\n",
       "<p>100 rows × 8 columns</p>\n",
       "</div>"
      ],
      "text/plain": [
       "              DATE_TIME  LONGITUDE   LATITUDE GEOHASH  MINIMUM_SPEED  \\\n",
       "0   2020-01-03 13:00:00  28.844604  41.113586  sxk9bk              9   \n",
       "1   2020-01-16 07:00:00  29.152222  41.009216  sxk9r3              6   \n",
       "2   2020-01-17 20:00:00  28.471069  41.042175  sxk1rz             53   \n",
       "3   2020-01-14 22:00:00  29.360962  40.816956  sxkbhn             17   \n",
       "4   2020-01-17 20:00:00  28.844604  40.970764  sxk906             16   \n",
       "..                  ...        ...        ...     ...            ...   \n",
       "95  2020-01-10 15:00:00  28.811646  41.097107  sxk3z9             15   \n",
       "96  2020-01-12 15:00:00  28.031616  41.042175  sx7cmz             33   \n",
       "97  2020-01-07 14:00:00  28.965454  41.102600  sxk9g4              8   \n",
       "98  2020-01-27 06:00:00  29.284058  40.959778  sxkc42              7   \n",
       "99  2020-01-15 13:00:00  28.844604  41.091614  sxk9b2             50   \n",
       "\n",
       "    MAXIMUM_SPEED  AVERAGE_SPEED  NUMBER_OF_VEHICLES  \n",
       "0              78             53                 105  \n",
       "1              64             27                  68  \n",
       "2              96             72                  11  \n",
       "3             128             73                 216  \n",
       "4              82             55                 123  \n",
       "..            ...            ...                 ...  \n",
       "95            149             86                 107  \n",
       "96            117             91                  23  \n",
       "97            113             63                 236  \n",
       "98            152             92                 434  \n",
       "99             99             68                  44  \n",
       "\n",
       "[100 rows x 8 columns]"
      ]
     },
     "execution_count": 8,
     "metadata": {},
     "output_type": "execute_result"
    }
   ],
   "source": [
    "df.head(100)"
   ]
  },
  {
   "cell_type": "code",
   "execution_count": 9,
   "metadata": {},
   "outputs": [
    {
     "name": "stdout",
     "output_type": "stream",
     "text": [
      "<class 'pandas.core.frame.DataFrame'>\n",
      "RangeIndex: 1328624 entries, 0 to 1328623\n",
      "Data columns (total 8 columns):\n",
      " #   Column              Non-Null Count    Dtype  \n",
      "---  ------              --------------    -----  \n",
      " 0   DATE_TIME           1328624 non-null  object \n",
      " 1   LONGITUDE           1328624 non-null  float64\n",
      " 2   LATITUDE            1328624 non-null  float64\n",
      " 3   GEOHASH             1328624 non-null  object \n",
      " 4   MINIMUM_SPEED       1328624 non-null  int64  \n",
      " 5   MAXIMUM_SPEED       1328624 non-null  int64  \n",
      " 6   AVERAGE_SPEED       1328624 non-null  int64  \n",
      " 7   NUMBER_OF_VEHICLES  1328624 non-null  int64  \n",
      "dtypes: float64(2), int64(4), object(2)\n",
      "memory usage: 81.1+ MB\n"
     ]
    }
   ],
   "source": [
    "df.info()"
   ]
  },
  {
   "cell_type": "code",
   "execution_count": 10,
   "metadata": {},
   "outputs": [
    {
     "data": {
      "text/html": [
       "<div>\n",
       "<style scoped>\n",
       "    .dataframe tbody tr th:only-of-type {\n",
       "        vertical-align: middle;\n",
       "    }\n",
       "\n",
       "    .dataframe tbody tr th {\n",
       "        vertical-align: top;\n",
       "    }\n",
       "\n",
       "    .dataframe thead th {\n",
       "        text-align: right;\n",
       "    }\n",
       "</style>\n",
       "<table border=\"1\" class=\"dataframe\">\n",
       "  <thead>\n",
       "    <tr style=\"text-align: right;\">\n",
       "      <th></th>\n",
       "      <th>DATE_TIME</th>\n",
       "      <th>LONGITUDE</th>\n",
       "      <th>LATITUDE</th>\n",
       "      <th>NUMBER_OF_VEHICLES</th>\n",
       "    </tr>\n",
       "  </thead>\n",
       "  <tbody>\n",
       "    <tr>\n",
       "      <th>0</th>\n",
       "      <td>2020-01-03 13:00:00</td>\n",
       "      <td>28.844604</td>\n",
       "      <td>41.113586</td>\n",
       "      <td>105</td>\n",
       "    </tr>\n",
       "    <tr>\n",
       "      <th>1</th>\n",
       "      <td>2020-01-16 07:00:00</td>\n",
       "      <td>29.152222</td>\n",
       "      <td>41.009216</td>\n",
       "      <td>68</td>\n",
       "    </tr>\n",
       "    <tr>\n",
       "      <th>2</th>\n",
       "      <td>2020-01-17 20:00:00</td>\n",
       "      <td>28.471069</td>\n",
       "      <td>41.042175</td>\n",
       "      <td>11</td>\n",
       "    </tr>\n",
       "    <tr>\n",
       "      <th>3</th>\n",
       "      <td>2020-01-14 22:00:00</td>\n",
       "      <td>29.360962</td>\n",
       "      <td>40.816956</td>\n",
       "      <td>216</td>\n",
       "    </tr>\n",
       "    <tr>\n",
       "      <th>4</th>\n",
       "      <td>2020-01-17 20:00:00</td>\n",
       "      <td>28.844604</td>\n",
       "      <td>40.970764</td>\n",
       "      <td>123</td>\n",
       "    </tr>\n",
       "  </tbody>\n",
       "</table>\n",
       "</div>"
      ],
      "text/plain": [
       "             DATE_TIME  LONGITUDE   LATITUDE  NUMBER_OF_VEHICLES\n",
       "0  2020-01-03 13:00:00  28.844604  41.113586                 105\n",
       "1  2020-01-16 07:00:00  29.152222  41.009216                  68\n",
       "2  2020-01-17 20:00:00  28.471069  41.042175                  11\n",
       "3  2020-01-14 22:00:00  29.360962  40.816956                 216\n",
       "4  2020-01-17 20:00:00  28.844604  40.970764                 123"
      ]
     },
     "execution_count": 10,
     "metadata": {},
     "output_type": "execute_result"
    }
   ],
   "source": [
    "df1 = df[['DATE_TIME', 'LONGITUDE', 'LATITUDE', 'NUMBER_OF_VEHICLES']]      \n",
    "df1.head()"
   ]
  },
  {
   "cell_type": "code",
   "execution_count": 11,
   "metadata": {},
   "outputs": [],
   "source": [
    "import matplotlib as mpl\n",
    "import matplotlib.pyplot as plt\n",
    "import numpy as np\n",
    "%matplotlib inline"
   ]
  },
  {
   "cell_type": "code",
   "execution_count": 12,
   "metadata": {},
   "outputs": [
    {
     "data": {
      "image/png": "[encoded data removed]",
      "text/plain": [
       "<Figure size 720x360 with 1 Axes>"
      ]
     },
     "metadata": {
      "needs_background": "light"
     },
     "output_type": "display_data"
    }
   ],
   "source": [
    "#İstanbulu sınırladık \n",
    "plt.figure(figsize = (10, 5))\n",
    "x = df1[(df1[\"LONGITUDE\"] > 27.941666) & (df1[\"LONGITUDE\"] < 29.973888)][\"LONGITUDE\"][::]\n",
    "y = df1[(df1[\"LATITUDE\"] > 40.796666) & df1[\"LATITUDE\"] < 41.619888][\"LATITUDE\"][::]\n",
    "plt.plot(x, y, 'go')\n",
    "plt.xlabel(\"X-Axis\")\n",
    "plt.ylabel(\"Y-Axis\")\n",
    "plt.show()"
   ]
  },
  {
   "cell_type": "code",
   "execution_count": 13,
   "metadata": {},
   "outputs": [
    {
     "data": {
      "image/png": "[encoded data removed]",
      "text/plain": [
       "<Figure size 432x288 with 1 Axes>"
      ]
     },
     "metadata": {
      "needs_background": "light"
     },
     "output_type": "display_data"
    }
   ],
   "source": [
    "x1 = df1[\"LONGITUDE\"][:100]\n",
    "y1 = df1[\"LATITUDE\"][:100]\n",
    "\n",
    "plt.scatter(x1, y1)\n",
    "plt.xlabel('long', fontsize = 12)\n",
    "plt.ylabel('lat', fontsize = 12)\n",
    "plt.title('Scatter Graph')\n",
    "plt.show()"
   ]
  },
  {
   "cell_type": "code",
   "execution_count": 5,
   "metadata": {},
   "outputs": [
    {
     "data": {
      "text/html": [
       "<div>\n",
       "<style scoped>\n",
       "    .dataframe tbody tr th:only-of-type {\n",
       "        vertical-align: middle;\n",
       "    }\n",
       "\n",
       "    .dataframe tbody tr th {\n",
       "        vertical-align: top;\n",
       "    }\n",
       "\n",
       "    .dataframe thead th {\n",
       "        text-align: right;\n",
       "    }\n",
       "</style>\n",
       "<table border=\"1\" class=\"dataframe\">\n",
       "  <thead>\n",
       "    <tr style=\"text-align: right;\">\n",
       "      <th></th>\n",
       "      <th>ILCE</th>\n",
       "      <th>Lokasyon</th>\n",
       "      <th>LATITUDE</th>\n",
       "      <th>LONGITUDE</th>\n",
       "    </tr>\n",
       "  </thead>\n",
       "  <tbody>\n",
       "    <tr>\n",
       "      <th>0</th>\n",
       "      <td>BAGCILAR</td>\n",
       "      <td>Yavuz SelIm Ilkokulu</td>\n",
       "      <td>41.037205</td>\n",
       "      <td>28.850899</td>\n",
       "    </tr>\n",
       "    <tr>\n",
       "      <th>1</th>\n",
       "      <td>BAGCILAR</td>\n",
       "      <td>15 Temmuz Ilkokulu</td>\n",
       "      <td>41.042879</td>\n",
       "      <td>28.812941</td>\n",
       "    </tr>\n",
       "    <tr>\n",
       "      <th>2</th>\n",
       "      <td>BAGCILAR</td>\n",
       "      <td>ICtaS Ilkokulu</td>\n",
       "      <td>41.041705</td>\n",
       "      <td>28.820821</td>\n",
       "    </tr>\n",
       "    <tr>\n",
       "      <th>3</th>\n",
       "      <td>BAGCILAR</td>\n",
       "      <td>Anafartalar Ilkokulu</td>\n",
       "      <td>41.027057</td>\n",
       "      <td>28.560229</td>\n",
       "    </tr>\n",
       "    <tr>\n",
       "      <th>4</th>\n",
       "      <td>BAGCILAR</td>\n",
       "      <td>Isa Yusuf AlptekIn Ilkokulu</td>\n",
       "      <td>41.025615</td>\n",
       "      <td>28.139876</td>\n",
       "    </tr>\n",
       "    <tr>\n",
       "      <th>5</th>\n",
       "      <td>BAGCILAR</td>\n",
       "      <td>TIryakI HasanpaSa Ilkokulu</td>\n",
       "      <td>41.047158</td>\n",
       "      <td>28.854822</td>\n",
       "    </tr>\n",
       "    <tr>\n",
       "      <th>6</th>\n",
       "      <td>BAGCILAR</td>\n",
       "      <td>ErtuGrul GazI Ilkokulu</td>\n",
       "      <td>41.065851</td>\n",
       "      <td>28.914146</td>\n",
       "    </tr>\n",
       "    <tr>\n",
       "      <th>7</th>\n",
       "      <td>BAGCILAR</td>\n",
       "      <td>KIrazlï¿½ Ilkokulu</td>\n",
       "      <td>41.036740</td>\n",
       "      <td>28.832001</td>\n",
       "    </tr>\n",
       "    <tr>\n",
       "      <th>8</th>\n",
       "      <td>BAGCILAR</td>\n",
       "      <td>NevrIm Mehmet BIlgenur Ilkokulu</td>\n",
       "      <td>41.023464</td>\n",
       "      <td>28.831483</td>\n",
       "    </tr>\n",
       "    <tr>\n",
       "      <th>9</th>\n",
       "      <td>BAGCILAR</td>\n",
       "      <td>EskI Kï¿½y</td>\n",
       "      <td>41.030590</td>\n",
       "      <td>28.854291</td>\n",
       "    </tr>\n",
       "    <tr>\n",
       "      <th>10</th>\n",
       "      <td>BAGCILAR</td>\n",
       "      <td>Kuyumcukent</td>\n",
       "      <td>41.004430</td>\n",
       "      <td>28.810890</td>\n",
       "    </tr>\n",
       "    <tr>\n",
       "      <th>11</th>\n",
       "      <td>BAGCILAR</td>\n",
       "      <td>Cï¿½nar MahallesI</td>\n",
       "      <td>41.036739</td>\n",
       "      <td>28.860333</td>\n",
       "    </tr>\n",
       "    <tr>\n",
       "      <th>12</th>\n",
       "      <td>BAGCILAR</td>\n",
       "      <td>BaGcï¿½lar CIftlIk</td>\n",
       "      <td>41.042834</td>\n",
       "      <td>28.832186</td>\n",
       "    </tr>\n",
       "    <tr>\n",
       "      <th>13</th>\n",
       "      <td>BAGCILAR</td>\n",
       "      <td>Dereyolu</td>\n",
       "      <td>41.046460</td>\n",
       "      <td>28.846429</td>\n",
       "    </tr>\n",
       "    <tr>\n",
       "      <th>14</th>\n",
       "      <td>BAGCILAR</td>\n",
       "      <td>Gï¿½neStepe</td>\n",
       "      <td>41.025987</td>\n",
       "      <td>28.856760</td>\n",
       "    </tr>\n",
       "    <tr>\n",
       "      <th>15</th>\n",
       "      <td>BAGCILAR</td>\n",
       "      <td>BaGcï¿½lar BeledIyesI</td>\n",
       "      <td>41.037187</td>\n",
       "      <td>28.827353</td>\n",
       "    </tr>\n",
       "    <tr>\n",
       "      <th>16</th>\n",
       "      <td>BAGCILAR</td>\n",
       "      <td>Gï¿½ztepe Meydan DuraGï¿½</td>\n",
       "      <td>41.054460</td>\n",
       "      <td>28.836571</td>\n",
       "    </tr>\n",
       "    <tr>\n",
       "      <th>17</th>\n",
       "      <td>BAGCILAR</td>\n",
       "      <td>Mahmutbey</td>\n",
       "      <td>41.054789</td>\n",
       "      <td>28.814183</td>\n",
       "    </tr>\n",
       "    <tr>\n",
       "      <th>18</th>\n",
       "      <td>BAGCILAR</td>\n",
       "      <td>YenI Mahalle Metro</td>\n",
       "      <td>41.040690</td>\n",
       "      <td>28.833726</td>\n",
       "    </tr>\n",
       "    <tr>\n",
       "      <th>19</th>\n",
       "      <td>BAGCILAR</td>\n",
       "      <td>KIrazlï¿½ Metro</td>\n",
       "      <td>41.040690</td>\n",
       "      <td>28.827160</td>\n",
       "    </tr>\n",
       "    <tr>\n",
       "      <th>20</th>\n",
       "      <td>BAGCILAR</td>\n",
       "      <td>BaGcï¿½lar Meydan Metro</td>\n",
       "      <td>41.034700</td>\n",
       "      <td>28.854221</td>\n",
       "    </tr>\n",
       "    <tr>\n",
       "      <th>21</th>\n",
       "      <td>BAGCILAR</td>\n",
       "      <td>ï¿½Cyï¿½zlï¿½ Metro</td>\n",
       "      <td>41.037290</td>\n",
       "      <td>28.868901</td>\n",
       "    </tr>\n",
       "    <tr>\n",
       "      <th>22</th>\n",
       "      <td>BAGCILAR</td>\n",
       "      <td>BaGcï¿½lar BeledIyesI Kestane BahCesI</td>\n",
       "      <td>41.035023</td>\n",
       "      <td>28.847717</td>\n",
       "    </tr>\n",
       "    <tr>\n",
       "      <th>23</th>\n",
       "      <td>BAGCILAR</td>\n",
       "      <td>Yï¿½ldï¿½ztepe Park</td>\n",
       "      <td>41.024135</td>\n",
       "      <td>28.848452</td>\n",
       "    </tr>\n",
       "    <tr>\n",
       "      <th>24</th>\n",
       "      <td>BAGCILAR</td>\n",
       "      <td>Kazï¿½m KarabekIr Parkï¿½</td>\n",
       "      <td>41.038639</td>\n",
       "      <td>28.832078</td>\n",
       "    </tr>\n",
       "    <tr>\n",
       "      <th>25</th>\n",
       "      <td>BAGCILAR</td>\n",
       "      <td>IBB-Azerbaycan Dostluk Parkï¿½</td>\n",
       "      <td>41.042054</td>\n",
       "      <td>28.851659</td>\n",
       "    </tr>\n",
       "    <tr>\n",
       "      <th>26</th>\n",
       "      <td>BAGCILAR</td>\n",
       "      <td>Mevlana Parkï¿½</td>\n",
       "      <td>41.042032</td>\n",
       "      <td>28.783807</td>\n",
       "    </tr>\n",
       "    <tr>\n",
       "      <th>27</th>\n",
       "      <td>BAGCILAR</td>\n",
       "      <td>BagcIlar MunIcIpalIty of Sultan SelIm Park</td>\n",
       "      <td>41.034232</td>\n",
       "      <td>28.850936</td>\n",
       "    </tr>\n",
       "    <tr>\n",
       "      <th>28</th>\n",
       "      <td>BAGCILAR</td>\n",
       "      <td>Dr. Sadï¿½k Ahmet Parkï¿½</td>\n",
       "      <td>41.009262</td>\n",
       "      <td>28.917560</td>\n",
       "    </tr>\n",
       "    <tr>\n",
       "      <th>29</th>\n",
       "      <td>BAGCILAR</td>\n",
       "      <td>BaGcï¿½lar Bï¿½lge Parkï¿½</td>\n",
       "      <td>41.033524</td>\n",
       "      <td>28.866499</td>\n",
       "    </tr>\n",
       "    <tr>\n",
       "      <th>30</th>\n",
       "      <td>BAGCILAR</td>\n",
       "      <td>BagcIlar MunIcIpalIty Osman GazI Park</td>\n",
       "      <td>41.053349</td>\n",
       "      <td>28.854634</td>\n",
       "    </tr>\n",
       "    <tr>\n",
       "      <th>31</th>\n",
       "      <td>BAHCELIEVLER</td>\n",
       "      <td>75.Yï¿½l CumhurIyet Ilkokulu</td>\n",
       "      <td>41.017576</td>\n",
       "      <td>28.836471</td>\n",
       "    </tr>\n",
       "    <tr>\n",
       "      <th>32</th>\n",
       "      <td>BAHCELIEVLER</td>\n",
       "      <td>Mustafa Kemal Ilkokulu</td>\n",
       "      <td>41.017575</td>\n",
       "      <td>28.821150</td>\n",
       "    </tr>\n",
       "    <tr>\n",
       "      <th>33</th>\n",
       "      <td>BAHCELIEVLER</td>\n",
       "      <td>Zafer Ilkokulu</td>\n",
       "      <td>40.996783</td>\n",
       "      <td>24.621265</td>\n",
       "    </tr>\n",
       "    <tr>\n",
       "      <th>34</th>\n",
       "      <td>BAHCELIEVLER</td>\n",
       "      <td>Koza Ilkokulu</td>\n",
       "      <td>41.006173</td>\n",
       "      <td>28.872530</td>\n",
       "    </tr>\n",
       "  </tbody>\n",
       "</table>\n",
       "</div>"
      ],
      "text/plain": [
       "            ILCE                                    Lokasyon   LATITUDE  \\\n",
       "0       BAGCILAR                        Yavuz SelIm Ilkokulu  41.037205   \n",
       "1       BAGCILAR                          15 Temmuz Ilkokulu  41.042879   \n",
       "2       BAGCILAR                              ICtaS Ilkokulu  41.041705   \n",
       "3       BAGCILAR                        Anafartalar Ilkokulu  41.027057   \n",
       "4       BAGCILAR                 Isa Yusuf AlptekIn Ilkokulu  41.025615   \n",
       "5       BAGCILAR                  TIryakI HasanpaSa Ilkokulu  41.047158   \n",
       "6       BAGCILAR                      ErtuGrul GazI Ilkokulu  41.065851   \n",
       "7       BAGCILAR                          KIrazlï¿½ Ilkokulu  41.036740   \n",
       "8       BAGCILAR             NevrIm Mehmet BIlgenur Ilkokulu  41.023464   \n",
       "9       BAGCILAR                                  EskI Kï¿½y  41.030590   \n",
       "10      BAGCILAR                                 Kuyumcukent  41.004430   \n",
       "11      BAGCILAR                           Cï¿½nar MahallesI  41.036739   \n",
       "12      BAGCILAR                          BaGcï¿½lar CIftlIk  41.042834   \n",
       "13      BAGCILAR                                    Dereyolu  41.046460   \n",
       "14      BAGCILAR                                 Gï¿½neStepe  41.025987   \n",
       "15      BAGCILAR                       BaGcï¿½lar BeledIyesI  41.037187   \n",
       "16      BAGCILAR                   Gï¿½ztepe Meydan DuraGï¿½  41.054460   \n",
       "17      BAGCILAR                                   Mahmutbey  41.054789   \n",
       "18      BAGCILAR                          YenI Mahalle Metro  41.040690   \n",
       "19      BAGCILAR                             KIrazlï¿½ Metro  41.040690   \n",
       "20      BAGCILAR                     BaGcï¿½lar Meydan Metro  41.034700   \n",
       "21      BAGCILAR                         ï¿½Cyï¿½zlï¿½ Metro  41.037290   \n",
       "22      BAGCILAR       BaGcï¿½lar BeledIyesI Kestane BahCesI  41.035023   \n",
       "23      BAGCILAR                         Yï¿½ldï¿½ztepe Park  41.024135   \n",
       "24      BAGCILAR                   Kazï¿½m KarabekIr Parkï¿½  41.038639   \n",
       "25      BAGCILAR              IBB-Azerbaycan Dostluk Parkï¿½  41.042054   \n",
       "26      BAGCILAR                             Mevlana Parkï¿½  41.042032   \n",
       "27      BAGCILAR  BagcIlar MunIcIpalIty of Sultan SelIm Park  41.034232   \n",
       "28      BAGCILAR                   Dr. Sadï¿½k Ahmet Parkï¿½  41.009262   \n",
       "29      BAGCILAR                  BaGcï¿½lar Bï¿½lge Parkï¿½  41.033524   \n",
       "30      BAGCILAR       BagcIlar MunIcIpalIty Osman GazI Park  41.053349   \n",
       "31  BAHCELIEVLER                75.Yï¿½l CumhurIyet Ilkokulu  41.017576   \n",
       "32  BAHCELIEVLER                      Mustafa Kemal Ilkokulu  41.017575   \n",
       "33  BAHCELIEVLER                              Zafer Ilkokulu  40.996783   \n",
       "34  BAHCELIEVLER                               Koza Ilkokulu  41.006173   \n",
       "\n",
       "    LONGITUDE  \n",
       "0   28.850899  \n",
       "1   28.812941  \n",
       "2   28.820821  \n",
       "3   28.560229  \n",
       "4   28.139876  \n",
       "5   28.854822  \n",
       "6   28.914146  \n",
       "7   28.832001  \n",
       "8   28.831483  \n",
       "9   28.854291  \n",
       "10  28.810890  \n",
       "11  28.860333  \n",
       "12  28.832186  \n",
       "13  28.846429  \n",
       "14  28.856760  \n",
       "15  28.827353  \n",
       "16  28.836571  \n",
       "17  28.814183  \n",
       "18  28.833726  \n",
       "19  28.827160  \n",
       "20  28.854221  \n",
       "21  28.868901  \n",
       "22  28.847717  \n",
       "23  28.848452  \n",
       "24  28.832078  \n",
       "25  28.851659  \n",
       "26  28.783807  \n",
       "27  28.850936  \n",
       "28  28.917560  \n",
       "29  28.866499  \n",
       "30  28.854634  \n",
       "31  28.836471  \n",
       "32  28.821150  \n",
       "33  24.621265  \n",
       "34  28.872530  "
      ]
     },
     "execution_count": 5,
     "metadata": {},
     "output_type": "execute_result"
    }
   ],
   "source": [
    "df2 = pd.read_csv(\"ibb-Loc_1.csv\", sep=';', encoding='latin-1')\n",
    "df2.head()\n"
   ]
  },
  {
   "cell_type": "code",
   "execution_count": 16,
   "metadata": {},
   "outputs": [
    {
     "data": {
      "text/html": [
       "<div>\n",
       "<style scoped>\n",
       "    .dataframe tbody tr th:only-of-type {\n",
       "        vertical-align: middle;\n",
       "    }\n",
       "\n",
       "    .dataframe tbody tr th {\n",
       "        vertical-align: top;\n",
       "    }\n",
       "\n",
       "    .dataframe thead th {\n",
       "        text-align: right;\n",
       "    }\n",
       "</style>\n",
       "<table border=\"1\" class=\"dataframe\">\n",
       "  <thead>\n",
       "    <tr style=\"text-align: right;\">\n",
       "      <th></th>\n",
       "      <th>ILCE</th>\n",
       "      <th>Lokasyon</th>\n",
       "      <th>LATITUDE</th>\n",
       "      <th>LONGITUDE</th>\n",
       "    </tr>\n",
       "  </thead>\n",
       "  <tbody>\n",
       "    <tr>\n",
       "      <th>0</th>\n",
       "      <td>BAGCILAR</td>\n",
       "      <td>Yavuz SelIm Ilkokulu</td>\n",
       "      <td>41.037205</td>\n",
       "      <td>28.850899</td>\n",
       "    </tr>\n",
       "    <tr>\n",
       "      <th>1</th>\n",
       "      <td>BAGCILAR</td>\n",
       "      <td>15 Temmuz Ilkokulu</td>\n",
       "      <td>41.042879</td>\n",
       "      <td>28.812941</td>\n",
       "    </tr>\n",
       "    <tr>\n",
       "      <th>2</th>\n",
       "      <td>BAGCILAR</td>\n",
       "      <td>ICtaS Ilkokulu</td>\n",
       "      <td>41.041705</td>\n",
       "      <td>28.820821</td>\n",
       "    </tr>\n",
       "    <tr>\n",
       "      <th>3</th>\n",
       "      <td>BAGCILAR</td>\n",
       "      <td>Anafartalar Ilkokulu</td>\n",
       "      <td>41.027057</td>\n",
       "      <td>28.560229</td>\n",
       "    </tr>\n",
       "    <tr>\n",
       "      <th>4</th>\n",
       "      <td>BAGCILAR</td>\n",
       "      <td>Isa Yusuf AlptekIn Ilkokulu</td>\n",
       "      <td>41.025615</td>\n",
       "      <td>28.139876</td>\n",
       "    </tr>\n",
       "    <tr>\n",
       "      <th>5</th>\n",
       "      <td>BAGCILAR</td>\n",
       "      <td>TIryakI HasanpaSa Ilkokulu</td>\n",
       "      <td>41.047158</td>\n",
       "      <td>28.854822</td>\n",
       "    </tr>\n",
       "    <tr>\n",
       "      <th>6</th>\n",
       "      <td>BAGCILAR</td>\n",
       "      <td>ErtuGrul GazI Ilkokulu</td>\n",
       "      <td>41.065851</td>\n",
       "      <td>28.914146</td>\n",
       "    </tr>\n",
       "    <tr>\n",
       "      <th>7</th>\n",
       "      <td>BAGCILAR</td>\n",
       "      <td>KIrazlï¿½ Ilkokulu</td>\n",
       "      <td>41.036740</td>\n",
       "      <td>28.832001</td>\n",
       "    </tr>\n",
       "    <tr>\n",
       "      <th>8</th>\n",
       "      <td>BAGCILAR</td>\n",
       "      <td>NevrIm Mehmet BIlgenur Ilkokulu</td>\n",
       "      <td>41.023464</td>\n",
       "      <td>28.831483</td>\n",
       "    </tr>\n",
       "    <tr>\n",
       "      <th>9</th>\n",
       "      <td>BAGCILAR</td>\n",
       "      <td>EskI Kï¿½y</td>\n",
       "      <td>41.030590</td>\n",
       "      <td>28.854291</td>\n",
       "    </tr>\n",
       "    <tr>\n",
       "      <th>10</th>\n",
       "      <td>BAGCILAR</td>\n",
       "      <td>Kuyumcukent</td>\n",
       "      <td>41.004430</td>\n",
       "      <td>28.810890</td>\n",
       "    </tr>\n",
       "    <tr>\n",
       "      <th>11</th>\n",
       "      <td>BAGCILAR</td>\n",
       "      <td>Cï¿½nar MahallesI</td>\n",
       "      <td>41.036739</td>\n",
       "      <td>28.860333</td>\n",
       "    </tr>\n",
       "    <tr>\n",
       "      <th>12</th>\n",
       "      <td>BAGCILAR</td>\n",
       "      <td>BaGcï¿½lar CIftlIk</td>\n",
       "      <td>41.042834</td>\n",
       "      <td>28.832186</td>\n",
       "    </tr>\n",
       "    <tr>\n",
       "      <th>13</th>\n",
       "      <td>BAGCILAR</td>\n",
       "      <td>Dereyolu</td>\n",
       "      <td>41.046460</td>\n",
       "      <td>28.846429</td>\n",
       "    </tr>\n",
       "    <tr>\n",
       "      <th>14</th>\n",
       "      <td>BAGCILAR</td>\n",
       "      <td>Gï¿½neStepe</td>\n",
       "      <td>41.025987</td>\n",
       "      <td>28.856760</td>\n",
       "    </tr>\n",
       "    <tr>\n",
       "      <th>15</th>\n",
       "      <td>BAGCILAR</td>\n",
       "      <td>BaGcï¿½lar BeledIyesI</td>\n",
       "      <td>41.037187</td>\n",
       "      <td>28.827353</td>\n",
       "    </tr>\n",
       "    <tr>\n",
       "      <th>16</th>\n",
       "      <td>BAGCILAR</td>\n",
       "      <td>Gï¿½ztepe Meydan DuraGï¿½</td>\n",
       "      <td>41.054460</td>\n",
       "      <td>28.836571</td>\n",
       "    </tr>\n",
       "    <tr>\n",
       "      <th>17</th>\n",
       "      <td>BAGCILAR</td>\n",
       "      <td>Mahmutbey</td>\n",
       "      <td>41.054789</td>\n",
       "      <td>28.814183</td>\n",
       "    </tr>\n",
       "    <tr>\n",
       "      <th>18</th>\n",
       "      <td>BAGCILAR</td>\n",
       "      <td>YenI Mahalle Metro</td>\n",
       "      <td>41.040690</td>\n",
       "      <td>28.833726</td>\n",
       "    </tr>\n",
       "    <tr>\n",
       "      <th>19</th>\n",
       "      <td>BAGCILAR</td>\n",
       "      <td>KIrazlï¿½ Metro</td>\n",
       "      <td>41.040690</td>\n",
       "      <td>28.827160</td>\n",
       "    </tr>\n",
       "    <tr>\n",
       "      <th>20</th>\n",
       "      <td>BAGCILAR</td>\n",
       "      <td>BaGcï¿½lar Meydan Metro</td>\n",
       "      <td>41.034700</td>\n",
       "      <td>28.854221</td>\n",
       "    </tr>\n",
       "    <tr>\n",
       "      <th>21</th>\n",
       "      <td>BAGCILAR</td>\n",
       "      <td>ï¿½Cyï¿½zlï¿½ Metro</td>\n",
       "      <td>41.037290</td>\n",
       "      <td>28.868901</td>\n",
       "    </tr>\n",
       "    <tr>\n",
       "      <th>22</th>\n",
       "      <td>BAGCILAR</td>\n",
       "      <td>BaGcï¿½lar BeledIyesI Kestane BahCesI</td>\n",
       "      <td>41.035023</td>\n",
       "      <td>28.847717</td>\n",
       "    </tr>\n",
       "    <tr>\n",
       "      <th>23</th>\n",
       "      <td>BAGCILAR</td>\n",
       "      <td>Yï¿½ldï¿½ztepe Park</td>\n",
       "      <td>41.024135</td>\n",
       "      <td>28.848452</td>\n",
       "    </tr>\n",
       "    <tr>\n",
       "      <th>24</th>\n",
       "      <td>BAGCILAR</td>\n",
       "      <td>Kazï¿½m KarabekIr Parkï¿½</td>\n",
       "      <td>41.038639</td>\n",
       "      <td>28.832078</td>\n",
       "    </tr>\n",
       "    <tr>\n",
       "      <th>25</th>\n",
       "      <td>BAGCILAR</td>\n",
       "      <td>IBB-Azerbaycan Dostluk Parkï¿½</td>\n",
       "      <td>41.042054</td>\n",
       "      <td>28.851659</td>\n",
       "    </tr>\n",
       "    <tr>\n",
       "      <th>26</th>\n",
       "      <td>BAGCILAR</td>\n",
       "      <td>Mevlana Parkï¿½</td>\n",
       "      <td>41.042032</td>\n",
       "      <td>28.783807</td>\n",
       "    </tr>\n",
       "    <tr>\n",
       "      <th>27</th>\n",
       "      <td>BAGCILAR</td>\n",
       "      <td>BagcIlar MunIcIpalIty of Sultan SelIm Park</td>\n",
       "      <td>41.034232</td>\n",
       "      <td>28.850936</td>\n",
       "    </tr>\n",
       "    <tr>\n",
       "      <th>28</th>\n",
       "      <td>BAGCILAR</td>\n",
       "      <td>Dr. Sadï¿½k Ahmet Parkï¿½</td>\n",
       "      <td>41.009262</td>\n",
       "      <td>28.917560</td>\n",
       "    </tr>\n",
       "    <tr>\n",
       "      <th>29</th>\n",
       "      <td>BAGCILAR</td>\n",
       "      <td>BaGcï¿½lar Bï¿½lge Parkï¿½</td>\n",
       "      <td>41.033524</td>\n",
       "      <td>28.866499</td>\n",
       "    </tr>\n",
       "    <tr>\n",
       "      <th>30</th>\n",
       "      <td>BAGCILAR</td>\n",
       "      <td>BagcIlar MunIcIpalIty Osman GazI Park</td>\n",
       "      <td>41.053349</td>\n",
       "      <td>28.854634</td>\n",
       "    </tr>\n",
       "  </tbody>\n",
       "</table>\n",
       "</div>"
      ],
      "text/plain": [
       "        ILCE                                    Lokasyon   LATITUDE  LONGITUDE\n",
       "0   BAGCILAR                        Yavuz SelIm Ilkokulu  41.037205  28.850899\n",
       "1   BAGCILAR                          15 Temmuz Ilkokulu  41.042879  28.812941\n",
       "2   BAGCILAR                              ICtaS Ilkokulu  41.041705  28.820821\n",
       "3   BAGCILAR                        Anafartalar Ilkokulu  41.027057  28.560229\n",
       "4   BAGCILAR                 Isa Yusuf AlptekIn Ilkokulu  41.025615  28.139876\n",
       "5   BAGCILAR                  TIryakI HasanpaSa Ilkokulu  41.047158  28.854822\n",
       "6   BAGCILAR                      ErtuGrul GazI Ilkokulu  41.065851  28.914146\n",
       "7   BAGCILAR                          KIrazlï¿½ Ilkokulu  41.036740  28.832001\n",
       "8   BAGCILAR             NevrIm Mehmet BIlgenur Ilkokulu  41.023464  28.831483\n",
       "9   BAGCILAR                                  EskI Kï¿½y  41.030590  28.854291\n",
       "10  BAGCILAR                                 Kuyumcukent  41.004430  28.810890\n",
       "11  BAGCILAR                           Cï¿½nar MahallesI  41.036739  28.860333\n",
       "12  BAGCILAR                          BaGcï¿½lar CIftlIk  41.042834  28.832186\n",
       "13  BAGCILAR                                    Dereyolu  41.046460  28.846429\n",
       "14  BAGCILAR                                 Gï¿½neStepe  41.025987  28.856760\n",
       "15  BAGCILAR                       BaGcï¿½lar BeledIyesI  41.037187  28.827353\n",
       "16  BAGCILAR                   Gï¿½ztepe Meydan DuraGï¿½  41.054460  28.836571\n",
       "17  BAGCILAR                                   Mahmutbey  41.054789  28.814183\n",
       "18  BAGCILAR                          YenI Mahalle Metro  41.040690  28.833726\n",
       "19  BAGCILAR                             KIrazlï¿½ Metro  41.040690  28.827160\n",
       "20  BAGCILAR                     BaGcï¿½lar Meydan Metro  41.034700  28.854221\n",
       "21  BAGCILAR                         ï¿½Cyï¿½zlï¿½ Metro  41.037290  28.868901\n",
       "22  BAGCILAR       BaGcï¿½lar BeledIyesI Kestane BahCesI  41.035023  28.847717\n",
       "23  BAGCILAR                         Yï¿½ldï¿½ztepe Park  41.024135  28.848452\n",
       "24  BAGCILAR                   Kazï¿½m KarabekIr Parkï¿½  41.038639  28.832078\n",
       "25  BAGCILAR              IBB-Azerbaycan Dostluk Parkï¿½  41.042054  28.851659\n",
       "26  BAGCILAR                             Mevlana Parkï¿½  41.042032  28.783807\n",
       "27  BAGCILAR  BagcIlar MunIcIpalIty of Sultan SelIm Park  41.034232  28.850936\n",
       "28  BAGCILAR                   Dr. Sadï¿½k Ahmet Parkï¿½  41.009262  28.917560\n",
       "29  BAGCILAR                  BaGcï¿½lar Bï¿½lge Parkï¿½  41.033524  28.866499\n",
       "30  BAGCILAR       BagcIlar MunIcIpalIty Osman GazI Park  41.053349  28.854634"
      ]
     },
     "execution_count": 16,
     "metadata": {},
     "output_type": "execute_result"
    }
   ],
   "source": [
    "df3 = df2[(df2.ILCE\t== \"BAGCILAR\")]\n",
    "df3"
   ]
  },
  {
   "cell_type": "code",
   "execution_count": 17,
   "metadata": {},
   "outputs": [
    {
     "name": "stdout",
     "output_type": "stream",
     "text": [
      "Min latitude for Bağcılar : 41.00443\n",
      "Max latitude for Bağcılar : 41.0658507\n",
      "Min longitude for Bağcılar : 28.139876\n",
      "Max latitude for Bağcılar : 28.9175603\n"
     ]
    }
   ],
   "source": [
    "print(f\"Min latitude for Bağcılar : {df3.LATITUDE.min()}\")\n",
    "print(f\"Max latitude for Bağcılar : {df3.LATITUDE.max()}\")\n",
    "print(f\"Min longitude for Bağcılar : {df3.LONGITUDE.min()}\")\n",
    "print(f\"Max latitude for Bağcılar : {df3.LONGITUDE.max()}\")"
   ]
  },
  {
   "cell_type": "code",
   "execution_count": 18,
   "metadata": {},
   "outputs": [
    {
     "data": {
      "text/plain": [
       "1216"
      ]
     },
     "execution_count": 18,
     "metadata": {},
     "output_type": "execute_result"
    }
   ],
   "source": [
    "df1.NUMBER_OF_VEHICLES.max()"
   ]
  },
  {
   "cell_type": "code",
   "execution_count": 19,
   "metadata": {},
   "outputs": [
    {
     "data": {
      "application/vnd.plotly.v1+json": {
       "config": {
        "plotlyServerURL": "https://plot.ly"
       },
       "data": [
        {
         "hovertemplate": "LATITUDE=%{x}<br>LONGITUDE=%{y}<extra></extra>",
         "legendgroup": "",
         "marker": {
          "color": "#636efa",
          "symbol": "circle"
         },
         "mode": "markers",
         "name": "",
         "orientation": "v",
         "showlegend": false,
         "type": "scatter",
         "x": [
          41.037205,
          41.042879,
          41.0417052,
          41.027057,
          41.0256149,
          41.047158,
          41.0658507,
          41.03674,
          41.0234637,
          41.03059,
          41.00443,
          41.0367394,
          41.042834,
          41.0464602,
          41.0259872,
          41.0371874,
          41.05446,
          41.0547894,
          41.04069,
          41.0406896,
          41.0347,
          41.03729,
          41.0350228,
          41.024135,
          41.0386388,
          41.0420536,
          41.0420324,
          41.0342317,
          41.0092624,
          41.0335241,
          41.0533493,
          41.0175761,
          41.0175747,
          40.996783,
          41.0061732,
          41.004349,
          41.0102821,
          41.0150959,
          41.00086,
          41.00819,
          40.9974991,
          41.00244,
          41.0009885,
          40.9990131,
          41.007843,
          40.9953225,
          40.9913836,
          40.882411,
          40.9973742,
          41.017175,
          41.000025,
          40.9979306,
          41.0054318,
          41.00009,
          41.065706,
          41.0700795,
          41.0510235,
          41.0485034,
          41.0484819,
          41.0640631,
          41.0323199,
          41.0490764,
          41.0688472,
          41.0460578,
          41.0339181,
          41.043577,
          41.061372,
          41.0636084,
          41.0636031,
          41.0395923,
          41.056461,
          41.0285168,
          41.03443,
          41.0385735,
          41.048358,
          41.0503423,
          41.0304122,
          41.0490397,
          41.0490383,
          41.03533,
          41.0353088,
          41.0390442,
          41.039023,
          41.0550494,
          41.0552596,
          41.04881,
          41.0249585,
          41.02836,
          41.0370014,
          41.0407635,
          41.0121729,
          41.0270963,
          41.0527299,
          41.0448663,
          41.0388324,
          41.0355325,
          41.042858,
          41.0432178,
          41.0374139,
          41.0627246,
          41.0375638,
          41.044061,
          41.0440557,
          41.033401,
          41.038853,
          41.0580094,
          41.0322327,
          41.0338078,
          41.0285063,
          41.027046,
          41.0528718,
          41.046445,
          41.055397,
          41.0506633,
          41.050658,
          41.0399088,
          41.0381,
          41.04155,
          41.0501949,
          41.04626,
          41.0376099,
          41.0428421,
          41.0517847,
          41.08406,
          41.0621241,
          41.0586781,
          41.057686,
          41.0592492,
          41.049314,
          41.0346543,
          41.0246296
         ],
         "xaxis": "x",
         "y": [
          28.850899,
          28.812941,
          28.820821,
          28.5602292,
          28.139876,
          28.8548222,
          28.9141459,
          28.8320013,
          28.8314834,
          28.8542913,
          28.8108901,
          28.8603332,
          28.8321864,
          28.8464294,
          28.8567602,
          28.8273527,
          28.8365713,
          28.8141833,
          28.8337263,
          28.8271602,
          28.8542213,
          28.8689013,
          28.8477168,
          28.8484524,
          28.8320781,
          28.8516587,
          28.7838074,
          28.8509364,
          28.9175603,
          28.8664987,
          28.8546345,
          28.8364713,
          28.8211504,
          24.621265,
          28.8725296,
          28.8152454,
          28.8415498,
          28.8160313,
          28.8499913,
          28.7287241,
          28.8418012,
          28.8671363,
          28.8456118,
          28.8382323,
          28.8513129,
          28.8620794,
          28.8435652,
          29.2365343,
          28.5874011,
          28.7088159,
          28.8617427,
          28.8471907,
          28.8726167,
          28.8578515,
          28.8870223,
          28.8855084,
          28.9032916,
          28.8827267,
          28.8214415,
          28.8866926,
          28.9003928,
          28.9044091,
          28.8620932,
          28.9136941,
          28.9181226,
          28.9063471,
          28.7117834,
          28.8840088,
          28.851178,
          28.9742158,
          28.9498506,
          28.9669761,
          28.9617653,
          28.9639269,
          28.9566943,
          28.9413093,
          28.9797418,
          28.961978,
          28.9466571,
          28.9855013,
          28.91765,
          28.9814498,
          28.9135985,
          28.9679178,
          28.9692825,
          28.9415713,
          28.9670312,
          28.9688301,
          28.9763369,
          28.9266468,
          28.9572116,
          28.9719596,
          28.9528137,
          28.9616242,
          28.9540392,
          28.9578494,
          28.9483976,
          28.9476796,
          28.9694269,
          28.9459346,
          28.9598183,
          28.9459133,
          28.9130825,
          28.9819346,
          28.9715703,
          28.9488386,
          28.9865799,
          28.9823003,
          28.9700063,
          28.9689378,
          28.8594506,
          28.8506795,
          28.8660764,
          28.8814839,
          28.8486531,
          28.8914835,
          28.8788513,
          28.8787113,
          28.8668746,
          28.8692813,
          28.8863816,
          28.8621596,
          28.8504815,
          28.8698813,
          28.8530235,
          28.8696588,
          28.8767609,
          28.847941,
          28.8759133,
          28.8733802,
          28.8894028
         ],
         "yaxis": "y"
        }
       ],
       "layout": {
        "legend": {
         "tracegroupgap": 0
        },
        "margin": {
         "t": 60
        },
        "template": {
         "data": {
          "bar": [
           {
            "error_x": {
             "color": "#2a3f5f"
            },
            "error_y": {
             "color": "#2a3f5f"
            },
            "marker": {
             "line": {
              "color": "#E5ECF6",
              "width": 0.5
             },
             "pattern": {
              "fillmode": "overlay",
              "size": 10,
              "solidity": 0.2
             }
            },
            "type": "bar"
           }
          ],
          "barpolar": [
           {
            "marker": {
             "line": {
              "color": "#E5ECF6",
              "width": 0.5
             },
             "pattern": {
              "fillmode": "overlay",
              "size": 10,
              "solidity": 0.2
             }
            },
            "type": "barpolar"
           }
          ],
          "carpet": [
           {
            "aaxis": {
             "endlinecolor": "#2a3f5f",
             "gridcolor": "white",
             "linecolor": "white",
             "minorgridcolor": "white",
             "startlinecolor": "#2a3f5f"
            },
            "baxis": {
             "endlinecolor": "#2a3f5f",
             "gridcolor": "white",
             "linecolor": "white",
             "minorgridcolor": "white",
             "startlinecolor": "#2a3f5f"
            },
            "type": "carpet"
           }
          ],
          "choropleth": [
           {
            "colorbar": {
             "outlinewidth": 0,
             "ticks": ""
            },
            "type": "choropleth"
           }
          ],
          "contour": [
           {
            "colorbar": {
             "outlinewidth": 0,
             "ticks": ""
            },
            "colorscale": [
             [
              0,
              "#0d0887"
             ],
             [
              0.1111111111111111,
              "#46039f"
             ],
             [
              0.2222222222222222,
              "#7201a8"
             ],
             [
              0.3333333333333333,
              "#9c179e"
             ],
             [
              0.4444444444444444,
              "#bd3786"
             ],
             [
              0.5555555555555556,
              "#d8576b"
             ],
             [
              0.6666666666666666,
              "#ed7953"
             ],
             [
              0.7777777777777778,
              "#fb9f3a"
             ],
             [
              0.8888888888888888,
              "#fdca26"
             ],
             [
              1,
              "#f0f921"
             ]
            ],
            "type": "contour"
           }
          ],
          "contourcarpet": [
           {
            "colorbar": {
             "outlinewidth": 0,
             "ticks": ""
            },
            "type": "contourcarpet"
           }
          ],
          "heatmap": [
           {
            "colorbar": {
             "outlinewidth": 0,
             "ticks": ""
            },
            "colorscale": [
             [
              0,
              "#0d0887"
             ],
             [
              0.1111111111111111,
              "#46039f"
             ],
             [
              0.2222222222222222,
              "#7201a8"
             ],
             [
              0.3333333333333333,
              "#9c179e"
             ],
             [
              0.4444444444444444,
              "#bd3786"
             ],
             [
              0.5555555555555556,
              "#d8576b"
             ],
             [
              0.6666666666666666,
              "#ed7953"
             ],
             [
              0.7777777777777778,
              "#fb9f3a"
             ],
             [
              0.8888888888888888,
              "#fdca26"
             ],
             [
              1,
              "#f0f921"
             ]
            ],
            "type": "heatmap"
           }
          ],
          "heatmapgl": [
           {
            "colorbar": {
             "outlinewidth": 0,
             "ticks": ""
            },
            "colorscale": [
             [
              0,
              "#0d0887"
             ],
             [
              0.1111111111111111,
              "#46039f"
             ],
             [
              0.2222222222222222,
              "#7201a8"
             ],
             [
              0.3333333333333333,
              "#9c179e"
             ],
             [
              0.4444444444444444,
              "#bd3786"
             ],
             [
              0.5555555555555556,
              "#d8576b"
             ],
             [
              0.6666666666666666,
              "#ed7953"
             ],
             [
              0.7777777777777778,
              "#fb9f3a"
             ],
             [
              0.8888888888888888,
              "#fdca26"
             ],
             [
              1,
              "#f0f921"
             ]
            ],
            "type": "heatmapgl"
           }
          ],
          "histogram": [
           {
            "marker": {
             "pattern": {
              "fillmode": "overlay",
              "size": 10,
              "solidity": 0.2
             }
            },
            "type": "histogram"
           }
          ],
          "histogram2d": [
           {
            "colorbar": {
             "outlinewidth": 0,
             "ticks": ""
            },
            "colorscale": [
             [
              0,
              "#0d0887"
             ],
             [
              0.1111111111111111,
              "#46039f"
             ],
             [
              0.2222222222222222,
              "#7201a8"
             ],
             [
              0.3333333333333333,
              "#9c179e"
             ],
             [
              0.4444444444444444,
              "#bd3786"
             ],
             [
              0.5555555555555556,
              "#d8576b"
             ],
             [
              0.6666666666666666,
              "#ed7953"
             ],
             [
              0.7777777777777778,
              "#fb9f3a"
             ],
             [
              0.8888888888888888,
              "#fdca26"
             ],
             [
              1,
              "#f0f921"
             ]
            ],
            "type": "histogram2d"
           }
          ],
          "histogram2dcontour": [
           {
            "colorbar": {
             "outlinewidth": 0,
             "ticks": ""
            },
            "colorscale": [
             [
              0,
              "#0d0887"
             ],
             [
              0.1111111111111111,
              "#46039f"
             ],
             [
              0.2222222222222222,
              "#7201a8"
             ],
             [
              0.3333333333333333,
              "#9c179e"
             ],
             [
              0.4444444444444444,
              "#bd3786"
             ],
             [
              0.5555555555555556,
              "#d8576b"
             ],
             [
              0.6666666666666666,
              "#ed7953"
             ],
             [
              0.7777777777777778,
              "#fb9f3a"
             ],
             [
              0.8888888888888888,
              "#fdca26"
             ],
             [
              1,
              "#f0f921"
             ]
            ],
            "type": "histogram2dcontour"
           }
          ],
          "mesh3d": [
           {
            "colorbar": {
             "outlinewidth": 0,
             "ticks": ""
            },
            "type": "mesh3d"
           }
          ],
          "parcoords": [
           {
            "line": {
             "colorbar": {
              "outlinewidth": 0,
              "ticks": ""
             }
            },
            "type": "parcoords"
           }
          ],
          "pie": [
           {
            "automargin": true,
            "type": "pie"
           }
          ],
          "scatter": [
           {
            "fillpattern": {
             "fillmode": "overlay",
             "size": 10,
             "solidity": 0.2
            },
            "type": "scatter"
           }
          ],
          "scatter3d": [
           {
            "line": {
             "colorbar": {
              "outlinewidth": 0,
              "ticks": ""
             }
            },
            "marker": {
             "colorbar": {
              "outlinewidth": 0,
              "ticks": ""
             }
            },
            "type": "scatter3d"
           }
          ],
          "scattercarpet": [
           {
            "marker": {
             "colorbar": {
              "outlinewidth": 0,
              "ticks": ""
             }
            },
            "type": "scattercarpet"
           }
          ],
          "scattergeo": [
           {
            "marker": {
             "colorbar": {
              "outlinewidth": 0,
              "ticks": ""
             }
            },
            "type": "scattergeo"
           }
          ],
          "scattergl": [
           {
            "marker": {
             "colorbar": {
              "outlinewidth": 0,
              "ticks": ""
             }
            },
            "type": "scattergl"
           }
          ],
          "scattermapbox": [
           {
            "marker": {
             "colorbar": {
              "outlinewidth": 0,
              "ticks": ""
             }
            },
            "type": "scattermapbox"
           }
          ],
          "scatterpolar": [
           {
            "marker": {
             "colorbar": {
              "outlinewidth": 0,
              "ticks": ""
             }
            },
            "type": "scatterpolar"
           }
          ],
          "scatterpolargl": [
           {
            "marker": {
             "colorbar": {
              "outlinewidth": 0,
              "ticks": ""
             }
            },
            "type": "scatterpolargl"
           }
          ],
          "scatterternary": [
           {
            "marker": {
             "colorbar": {
              "outlinewidth": 0,
              "ticks": ""
             }
            },
            "type": "scatterternary"
           }
          ],
          "surface": [
           {
            "colorbar": {
             "outlinewidth": 0,
             "ticks": ""
            },
            "colorscale": [
             [
              0,
              "#0d0887"
             ],
             [
              0.1111111111111111,
              "#46039f"
             ],
             [
              0.2222222222222222,
              "#7201a8"
             ],
             [
              0.3333333333333333,
              "#9c179e"
             ],
             [
              0.4444444444444444,
              "#bd3786"
             ],
             [
              0.5555555555555556,
              "#d8576b"
             ],
             [
              0.6666666666666666,
              "#ed7953"
             ],
             [
              0.7777777777777778,
              "#fb9f3a"
             ],
             [
              0.8888888888888888,
              "#fdca26"
             ],
             [
              1,
              "#f0f921"
             ]
            ],
            "type": "surface"
           }
          ],
          "table": [
           {
            "cells": {
             "fill": {
              "color": "#EBF0F8"
             },
             "line": {
              "color": "white"
             }
            },
            "header": {
             "fill": {
              "color": "#C8D4E3"
             },
             "line": {
              "color": "white"
             }
            },
            "type": "table"
           }
          ]
         },
         "layout": {
          "annotationdefaults": {
           "arrowcolor": "#2a3f5f",
           "arrowhead": 0,
           "arrowwidth": 1
          },
          "autotypenumbers": "strict",
          "coloraxis": {
           "colorbar": {
            "outlinewidth": 0,
            "ticks": ""
           }
          },
          "colorscale": {
           "diverging": [
            [
             0,
             "#8e0152"
            ],
            [
             0.1,
             "#c51b7d"
            ],
            [
             0.2,
             "#de77ae"
            ],
            [
             0.3,
             "#f1b6da"
            ],
            [
             0.4,
             "#fde0ef"
            ],
            [
             0.5,
             "#f7f7f7"
            ],
            [
             0.6,
             "#e6f5d0"
            ],
            [
             0.7,
             "#b8e186"
            ],
            [
             0.8,
             "#7fbc41"
            ],
            [
             0.9,
             "#4d9221"
            ],
            [
             1,
             "#276419"
            ]
           ],
           "sequential": [
            [
             0,
             "#0d0887"
            ],
            [
             0.1111111111111111,
             "#46039f"
            ],
            [
             0.2222222222222222,
             "#7201a8"
            ],
            [
             0.3333333333333333,
             "#9c179e"
            ],
            [
             0.4444444444444444,
             "#bd3786"
            ],
            [
             0.5555555555555556,
             "#d8576b"
            ],
            [
             0.6666666666666666,
             "#ed7953"
            ],
            [
             0.7777777777777778,
             "#fb9f3a"
            ],
            [
             0.8888888888888888,
             "#fdca26"
            ],
            [
             1,
             "#f0f921"
            ]
           ],
           "sequentialminus": [
            [
             0,
             "#0d0887"
            ],
            [
             0.1111111111111111,
             "#46039f"
            ],
            [
             0.2222222222222222,
             "#7201a8"
            ],
            [
             0.3333333333333333,
             "#9c179e"
            ],
            [
             0.4444444444444444,
             "#bd3786"
            ],
            [
             0.5555555555555556,
             "#d8576b"
            ],
            [
             0.6666666666666666,
             "#ed7953"
            ],
            [
             0.7777777777777778,
             "#fb9f3a"
            ],
            [
             0.8888888888888888,
             "#fdca26"
            ],
            [
             1,
             "#f0f921"
            ]
           ]
          },
          "colorway": [
           "#636efa",
           "#EF553B",
           "#00cc96",
           "#ab63fa",
           "#FFA15A",
           "#19d3f3",
           "#FF6692",
           "#B6E880",
           "#FF97FF",
           "#FECB52"
          ],
          "font": {
           "color": "#2a3f5f"
          },
          "geo": {
           "bgcolor": "white",
           "lakecolor": "white",
           "landcolor": "#E5ECF6",
           "showlakes": true,
           "showland": true,
           "subunitcolor": "white"
          },
          "hoverlabel": {
           "align": "left"
          },
          "hovermode": "closest",
          "mapbox": {
           "style": "light"
          },
          "paper_bgcolor": "white",
          "plot_bgcolor": "#E5ECF6",
          "polar": {
           "angularaxis": {
            "gridcolor": "white",
            "linecolor": "white",
            "ticks": ""
           },
           "bgcolor": "#E5ECF6",
           "radialaxis": {
            "gridcolor": "white",
            "linecolor": "white",
            "ticks": ""
           }
          },
          "scene": {
           "xaxis": {
            "backgroundcolor": "#E5ECF6",
            "gridcolor": "white",
            "gridwidth": 2,
            "linecolor": "white",
            "showbackground": true,
            "ticks": "",
            "zerolinecolor": "white"
           },
           "yaxis": {
            "backgroundcolor": "#E5ECF6",
            "gridcolor": "white",
            "gridwidth": 2,
            "linecolor": "white",
            "showbackground": true,
            "ticks": "",
            "zerolinecolor": "white"
           },
           "zaxis": {
            "backgroundcolor": "#E5ECF6",
            "gridcolor": "white",
            "gridwidth": 2,
            "linecolor": "white",
            "showbackground": true,
            "ticks": "",
            "zerolinecolor": "white"
           }
          },
          "shapedefaults": {
           "line": {
            "color": "#2a3f5f"
           }
          },
          "ternary": {
           "aaxis": {
            "gridcolor": "white",
            "linecolor": "white",
            "ticks": ""
           },
           "baxis": {
            "gridcolor": "white",
            "linecolor": "white",
            "ticks": ""
           },
           "bgcolor": "#E5ECF6",
           "caxis": {
            "gridcolor": "white",
            "linecolor": "white",
            "ticks": ""
           }
          },
          "title": {
           "x": 0.05
          },
          "xaxis": {
           "automargin": true,
           "gridcolor": "white",
           "linecolor": "white",
           "ticks": "",
           "title": {
            "standoff": 15
           },
           "zerolinecolor": "white",
           "zerolinewidth": 2
          },
          "yaxis": {
           "automargin": true,
           "gridcolor": "white",
           "linecolor": "white",
           "ticks": "",
           "title": {
            "standoff": 15
           },
           "zerolinecolor": "white",
           "zerolinewidth": 2
          }
         }
        },
        "xaxis": {
         "anchor": "y",
         "domain": [
          0,
          1
         ],
         "title": {
          "text": "LATITUDE"
         }
        },
        "yaxis": {
         "anchor": "x",
         "domain": [
          0,
          1
         ],
         "title": {
          "text": "LONGITUDE"
         }
        }
       }
      }
     },
     "metadata": {},
     "output_type": "display_data"
    }
   ],
   "source": [
    "import plotly.express as px\n",
    "import pandas as pd\n",
    "\n",
    "# Load the dataset\n",
    "data = pd.read_csv(\"ibb-Loc_1.csv\", sep=';', encoding='latin-1')\n",
    "# Create the scatter plot\n",
    "fig = px.scatter(data, x='LATITUDE', y='LONGITUDE')\n",
    "\n",
    "# Show the plot\n",
    "fig.show()\n"
   ]
  },
  {
   "cell_type": "code",
   "execution_count": 20,
   "metadata": {},
   "outputs": [
    {
     "name": "stderr",
     "output_type": "stream",
     "text": [
      "<ipython-input-20-a78e6ff5ef59>:6: FutureWarning:\n",
      "\n",
      "The behavior of `series[i:j]` with an integer-dtype index is deprecated. In a future version, this will be treated as *label-based* indexing, consistent with e.g. `series[i]` lookups. To retain the old behavior, use `series.iloc[i:j]`. To get the future behavior, use `series.loc[i:j]`.\n",
      "\n",
      "<ipython-input-20-a78e6ff5ef59>:7: FutureWarning:\n",
      "\n",
      "The behavior of `series[i:j]` with an integer-dtype index is deprecated. In a future version, this will be treated as *label-based* indexing, consistent with e.g. `series[i]` lookups. To retain the old behavior, use `series.iloc[i:j]`. To get the future behavior, use `series.loc[i:j]`.\n",
      "\n"
     ]
    },
    {
     "data": {
      "image/png": "[encoded data removed]",
      "text/plain": [
       "<Figure size 720x360 with 1 Axes>"
      ]
     },
     "metadata": {
      "needs_background": "light"
     },
     "output_type": "display_data"
    }
   ],
   "source": [
    "df = pd.read_csv(\"trafik yoğunluk verisi/density_202001.csv \")\n",
    "df1 = df[['DATE_TIME', 'LONGITUDE', 'LATITUDE', 'NUMBER_OF_VEHICLES']]      \n",
    "\n",
    "#Bağcıları sınırladık \n",
    "plt.figure(figsize = (10, 5))\n",
    "x = df1[(df1[\"LONGITUDE\"] > 28.139876) & (df1[\"LONGITUDE\"] < 28.9175603) & (df1.NUMBER_OF_VEHICLES > 800)][\"LONGITUDE\"][:850]\n",
    "y = df1[(df1[\"LATITUDE\"] > 41.00443) & (df1[\"LATITUDE\"] < 41.0658507) & (df1.NUMBER_OF_VEHICLES > 800)][\"LATITUDE\"][:850]\n",
    "plt.plot(x, y, 'go')\n",
    "plt.xlabel(\"X-Axis\")\n",
    "plt.ylabel(\"Y-Axis\")\n",
    "plt.show()"
   ]
  },
  {
   "cell_type": "code",
   "execution_count": 21,
   "metadata": {},
   "outputs": [
    {
     "data": {
      "application/vnd.plotly.v1+json": {
       "config": {
        "plotlyServerURL": "https://plot.ly"
       },
       "data": [
        {
         "hovertemplate": "LONGITUDE=%{x}<br>LATITUDE=%{y}<extra></extra>",
         "legendgroup": "",
         "marker": {
          "color": "#636efa",
          "symbol": "circle"
         },
         "mode": "markers",
         "name": "",
         "orientation": "v",
         "showlegend": false,
         "type": "scatter",
         "x": [
          28.8226318359375,
          28.8116455078125,
          28.8116455078125,
          28.8116455078125,
          28.8116455078125,
          28.8116455078125,
          28.8006591796875,
          28.8116455078125,
          28.8226318359375,
          28.8006591796875,
          28.8336181640625,
          28.8226318359375,
          28.8116455078125,
          28.8116455078125,
          28.8116455078125,
          28.8116455078125,
          28.8116455078125,
          28.8226318359375,
          28.8226318359375,
          28.7237548828125,
          28.8116455078125,
          28.8116455078125,
          28.8006591796875,
          28.8336181640625,
          28.8116455078125,
          28.7786865234375,
          28.8116455078125,
          28.8336181640625,
          28.8336181640625,
          28.7896728515625,
          28.8116455078125,
          28.8116455078125,
          28.8116455078125,
          28.8336181640625,
          28.8116455078125,
          28.8116455078125,
          28.8006591796875,
          28.8116455078125,
          28.8116455078125,
          28.7457275390625,
          28.8006591796875,
          28.8116455078125,
          28.8116455078125,
          28.8116455078125,
          28.8336181640625,
          28.8116455078125,
          28.8226318359375,
          28.8006591796875,
          28.8116455078125,
          28.8336181640625,
          28.8006591796875,
          28.8116455078125,
          28.8006591796875,
          28.8336181640625,
          28.8336181640625,
          28.8336181640625,
          28.8116455078125,
          28.8116455078125,
          28.8116455078125,
          28.8006591796875,
          28.8336181640625,
          28.8116455078125,
          28.8006591796875,
          28.8006591796875,
          28.8336181640625,
          28.8116455078125,
          28.8006591796875,
          28.8336181640625,
          28.7896728515625,
          28.8116455078125,
          28.8116455078125,
          28.8116455078125,
          28.7896728515625,
          28.8336181640625,
          28.8116455078125,
          28.8006591796875,
          28.8336181640625,
          28.8116455078125,
          28.8336181640625,
          28.8116455078125,
          28.8336181640625,
          28.8116455078125,
          28.8116455078125,
          28.8116455078125,
          28.8336181640625,
          28.8006591796875,
          28.8116455078125,
          28.8116455078125,
          28.8226318359375,
          28.8226318359375,
          28.8116455078125,
          28.8116455078125,
          28.8336181640625,
          28.7896728515625,
          28.8116455078125,
          28.8116455078125,
          28.8116455078125,
          28.8336181640625,
          28.8116455078125,
          28.8116455078125,
          28.8116455078125,
          28.8116455078125,
          28.8336181640625,
          28.8116455078125,
          28.8116455078125,
          28.8116455078125,
          28.8116455078125,
          28.8336181640625,
          28.8116455078125,
          28.8116455078125,
          28.8116455078125,
          28.8006591796875,
          28.8336181640625,
          28.8336181640625,
          28.8116455078125,
          28.8116455078125,
          28.8116455078125,
          28.8006591796875,
          28.8116455078125,
          28.8336181640625,
          28.7896728515625,
          28.8336181640625,
          28.8116455078125,
          28.8116455078125,
          28.8336181640625,
          28.8336181640625,
          28.8116455078125,
          28.8116455078125,
          28.8116455078125,
          28.8116455078125,
          28.8116455078125,
          28.8116455078125,
          28.7896728515625,
          28.8446044921875,
          28.8226318359375,
          28.8116455078125,
          28.8116455078125,
          28.8116455078125,
          28.8116455078125,
          28.8116455078125,
          28.8116455078125,
          28.8116455078125,
          28.8336181640625,
          28.7896728515625,
          28.8336181640625,
          28.8116455078125,
          28.8116455078125,
          28.8006591796875,
          28.8116455078125,
          28.8336181640625,
          28.8116455078125,
          28.8116455078125,
          28.8336181640625,
          28.7677001953125,
          28.8116455078125,
          28.8116455078125,
          28.8116455078125,
          28.8336181640625,
          28.8116455078125,
          28.8336181640625,
          28.8116455078125,
          28.8116455078125,
          28.8116455078125,
          28.8116455078125,
          28.8116455078125,
          28.8116455078125,
          28.8116455078125,
          28.8116455078125,
          28.8116455078125,
          28.8006591796875,
          28.8116455078125,
          28.8006591796875,
          28.8006591796875,
          28.8116455078125,
          28.8116455078125,
          28.8336181640625,
          28.8116455078125,
          28.8006591796875,
          28.8336181640625,
          28.8116455078125,
          28.8336181640625,
          28.8116455078125,
          28.8336181640625,
          28.8336181640625,
          28.8116455078125,
          28.8336181640625,
          28.8116455078125,
          28.8116455078125,
          28.8336181640625,
          28.8116455078125,
          28.8336181640625,
          28.8116455078125,
          28.8336181640625,
          28.8116455078125,
          28.8116455078125,
          28.8116455078125,
          28.8116455078125,
          28.8336181640625,
          28.8116455078125,
          28.8006591796875,
          28.8116455078125,
          28.8116455078125,
          28.8116455078125,
          28.8116455078125,
          28.8006591796875,
          28.8006591796875,
          28.8006591796875,
          28.8116455078125,
          28.8116455078125,
          28.8116455078125,
          28.8116455078125,
          28.8116455078125,
          28.8336181640625,
          28.8116455078125,
          28.8116455078125,
          28.8116455078125,
          28.8116455078125,
          28.8336181640625,
          28.8116455078125,
          28.8116455078125,
          28.8336181640625,
          28.8116455078125,
          28.8116455078125,
          28.8336181640625,
          28.8116455078125,
          28.7347412109375,
          28.8116455078125,
          28.8006591796875,
          28.8336181640625,
          28.8336181640625,
          28.8116455078125,
          28.8006591796875,
          28.8116455078125,
          28.8116455078125,
          28.8116455078125,
          28.8116455078125,
          28.8116455078125,
          28.8116455078125,
          28.8116455078125,
          28.8116455078125,
          28.8336181640625,
          28.8336181640625,
          28.8006591796875,
          28.8116455078125,
          28.8116455078125,
          28.8116455078125,
          28.8116455078125,
          28.8116455078125,
          28.8336181640625,
          28.8116455078125,
          28.8116455078125,
          28.8116455078125,
          28.8336181640625,
          28.8116455078125,
          28.8116455078125,
          28.8116455078125,
          28.8336181640625,
          28.8116455078125,
          28.8336181640625,
          28.8116455078125,
          28.8116455078125,
          28.8446044921875,
          28.8446044921875,
          28.8116455078125,
          28.8116455078125,
          28.8006591796875,
          28.8116455078125,
          28.7896728515625,
          28.8116455078125,
          28.8336181640625,
          28.8116455078125,
          28.8116455078125,
          28.8116455078125,
          28.8336181640625,
          28.8336181640625,
          28.8116455078125,
          28.8336181640625,
          28.8116455078125,
          28.8116455078125,
          28.8226318359375,
          28.8006591796875,
          28.8116455078125,
          28.8336181640625,
          28.8116455078125,
          28.8116455078125,
          28.8116455078125,
          28.8446044921875,
          28.8116455078125,
          28.8226318359375,
          28.8116455078125,
          28.8006591796875,
          28.8116455078125,
          28.8006591796875,
          28.8116455078125,
          28.8116455078125,
          28.8116455078125,
          28.7896728515625,
          28.8116455078125,
          28.8006591796875,
          28.8336181640625,
          28.8336181640625,
          28.7896728515625,
          28.8116455078125,
          28.8116455078125,
          28.8116455078125,
          28.8006591796875,
          28.8116455078125,
          28.8116455078125,
          28.8116455078125,
          28.8226318359375,
          28.8336181640625,
          28.8116455078125,
          28.8116455078125,
          28.8116455078125,
          28.8116455078125,
          28.8116455078125,
          28.8336181640625,
          28.8336181640625,
          28.8336181640625,
          28.8336181640625,
          28.8336181640625,
          28.8446044921875,
          28.8116455078125,
          28.8116455078125,
          28.8116455078125,
          28.8116455078125,
          28.8116455078125,
          28.8116455078125,
          28.8116455078125,
          28.8006591796875,
          28.8006591796875,
          28.8116455078125,
          28.7347412109375,
          28.8116455078125,
          28.8116455078125,
          28.8336181640625,
          28.8336181640625,
          28.8336181640625,
          28.8116455078125,
          28.8116455078125,
          28.8116455078125,
          28.8116455078125,
          28.8116455078125,
          28.7896728515625,
          28.8116455078125,
          28.7896728515625,
          28.8116455078125,
          28.8116455078125,
          28.8116455078125,
          28.7896728515625,
          28.8336181640625,
          28.8116455078125,
          28.8006591796875,
          28.8116455078125,
          28.8116455078125,
          28.8116455078125,
          28.8336181640625,
          28.8116455078125,
          28.8116455078125,
          28.8116455078125,
          28.8116455078125,
          28.8336181640625,
          28.8116455078125,
          28.8116455078125,
          28.8116455078125,
          28.7347412109375,
          28.8116455078125,
          28.8116455078125,
          28.8116455078125,
          28.8336181640625,
          28.8116455078125,
          28.8336181640625,
          28.8116455078125,
          28.8336181640625,
          28.8116455078125,
          28.8116455078125,
          28.8116455078125,
          28.8116455078125,
          28.8116455078125,
          28.8116455078125,
          28.8116455078125,
          28.8116455078125,
          28.8116455078125,
          28.8116455078125,
          28.8116455078125,
          28.8006591796875,
          28.8116455078125,
          28.8006591796875,
          28.8116455078125,
          28.8226318359375,
          28.8116455078125,
          28.8116455078125,
          28.8336181640625,
          28.8116455078125,
          28.8116455078125,
          28.8116455078125,
          28.8116455078125,
          28.8006591796875,
          28.8336181640625,
          28.8116455078125,
          28.8006591796875,
          28.8336181640625,
          28.8116455078125,
          28.8116455078125,
          28.8116455078125,
          28.8116455078125,
          28.8006591796875,
          28.8006591796875,
          28.8116455078125,
          28.8116455078125,
          28.8116455078125,
          28.8116455078125,
          28.8116455078125,
          28.8116455078125,
          28.8116455078125,
          28.8116455078125,
          28.8116455078125,
          28.8006591796875,
          28.8006591796875,
          28.8116455078125,
          28.8336181640625,
          28.8336181640625,
          28.8116455078125,
          28.8006591796875,
          28.8116455078125,
          28.8336181640625,
          28.8116455078125,
          28.8116455078125,
          28.8006591796875,
          28.8116455078125,
          28.8006591796875,
          28.8336181640625,
          28.8116455078125,
          28.8116455078125,
          28.8116455078125,
          28.7896728515625,
          28.8116455078125,
          28.8116455078125,
          28.8116455078125,
          28.8116455078125,
          28.8116455078125,
          28.8116455078125,
          28.7237548828125,
          28.8116455078125,
          28.8116455078125,
          28.8336181640625,
          28.8116455078125,
          28.8116455078125,
          28.8116455078125,
          28.8116455078125,
          28.8116455078125,
          28.8006591796875,
          28.8336181640625,
          28.8006591796875,
          28.8226318359375,
          28.8116455078125,
          28.8116455078125,
          28.8116455078125,
          28.8226318359375,
          28.7896728515625,
          28.8226318359375,
          28.8336181640625,
          28.8336181640625,
          28.7896728515625,
          28.7017822265625,
          28.8006591796875,
          28.8116455078125,
          28.8336181640625,
          28.8116455078125,
          28.8116455078125,
          28.8116455078125,
          28.8006591796875,
          28.8336181640625,
          28.8116455078125,
          28.8116455078125,
          28.8116455078125,
          28.8116455078125,
          28.8116455078125,
          28.8116455078125,
          28.8336181640625,
          28.8116455078125,
          28.8336181640625,
          28.8336181640625,
          28.8116455078125,
          28.8116455078125,
          28.8116455078125,
          28.8336181640625,
          28.8336181640625,
          28.8116455078125,
          28.8226318359375,
          28.8336181640625,
          28.8116455078125,
          28.8336181640625,
          28.8116455078125,
          28.8226318359375,
          28.8116455078125,
          28.8116455078125,
          28.8116455078125,
          28.8116455078125,
          28.8116455078125,
          28.8226318359375,
          28.8336181640625,
          28.8116455078125,
          28.8006591796875,
          28.8116455078125,
          28.7896728515625,
          28.8116455078125,
          28.8116455078125,
          28.8116455078125,
          28.8006591796875,
          28.8336181640625,
          28.7896728515625,
          28.8116455078125,
          28.8116455078125,
          28.8116455078125,
          28.8116455078125,
          28.8116455078125,
          28.8116455078125,
          28.8116455078125,
          28.7896728515625,
          28.8336181640625,
          28.8116455078125,
          28.7237548828125,
          28.8336181640625,
          28.8006591796875,
          28.8336181640625,
          28.8006591796875,
          28.8116455078125,
          28.8446044921875,
          28.8336181640625,
          28.8116455078125,
          28.8116455078125,
          28.7237548828125,
          28.8116455078125,
          28.8006591796875,
          28.8226318359375,
          28.8116455078125,
          28.8116455078125,
          28.8116455078125,
          28.8336181640625,
          28.8116455078125,
          28.7896728515625,
          28.8336181640625,
          28.8116455078125,
          28.8006591796875,
          28.8116455078125,
          28.8006591796875,
          28.8336181640625,
          28.8336181640625,
          28.8116455078125,
          28.8116455078125,
          28.8116455078125,
          28.8116455078125,
          28.8116455078125,
          28.8116455078125,
          28.8116455078125,
          28.8116455078125,
          28.8116455078125,
          28.8116455078125,
          28.8116455078125,
          28.8116455078125,
          28.8116455078125,
          28.8336181640625,
          28.8116455078125,
          28.8336181640625,
          28.8226318359375,
          28.8336181640625,
          28.8006591796875,
          28.8116455078125,
          28.8336181640625,
          28.8336181640625,
          28.8116455078125,
          28.7896728515625,
          28.8116455078125,
          28.8116455078125,
          28.7457275390625,
          28.8006591796875,
          28.8116455078125,
          28.7896728515625,
          28.8116455078125,
          28.8116455078125,
          28.8116455078125,
          28.8116455078125,
          28.8116455078125,
          28.8336181640625,
          28.8116455078125,
          28.8116455078125,
          28.8116455078125,
          28.8116455078125,
          28.8116455078125,
          28.8116455078125,
          28.8116455078125,
          28.8116455078125,
          28.8116455078125,
          28.8336181640625,
          28.8336181640625,
          28.8116455078125,
          28.8116455078125,
          28.8116455078125,
          28.8116455078125,
          28.8116455078125,
          28.8116455078125,
          28.8116455078125,
          28.8116455078125,
          28.8116455078125,
          28.8006591796875,
          28.8116455078125,
          28.7896728515625,
          28.8116455078125,
          28.8006591796875,
          28.8006591796875,
          28.8006591796875,
          28.8116455078125,
          28.8336181640625,
          28.8336181640625,
          28.8116455078125,
          28.8116455078125,
          28.8116455078125,
          28.8116455078125,
          28.8116455078125,
          28.8116455078125,
          28.8006591796875,
          28.8116455078125,
          28.8116455078125,
          28.8116455078125,
          28.8116455078125,
          28.8116455078125,
          28.8116455078125,
          28.8116455078125,
          28.8116455078125,
          28.8006591796875,
          28.8336181640625,
          28.8116455078125,
          28.8226318359375,
          28.8336181640625,
          28.8116455078125,
          28.8116455078125,
          28.8006591796875,
          28.8336181640625,
          28.7896728515625,
          28.7896728515625,
          28.8336181640625,
          28.8116455078125,
          28.8336181640625,
          28.8116455078125,
          28.8116455078125,
          28.8336181640625,
          28.8116455078125,
          28.8116455078125,
          28.8336181640625,
          28.8116455078125,
          28.8116455078125,
          28.8116455078125,
          28.8116455078125,
          28.8116455078125,
          28.8006591796875,
          28.8116455078125,
          28.8006591796875,
          28.8116455078125,
          28.8116455078125,
          28.8336181640625,
          28.8006591796875,
          28.8116455078125,
          28.8336181640625,
          28.8006591796875,
          28.8116455078125,
          28.8116455078125,
          28.8006591796875,
          28.8116455078125,
          28.8116455078125,
          28.8116455078125,
          28.8116455078125,
          28.8336181640625,
          28.8116455078125,
          28.8116455078125,
          28.8336181640625,
          28.8116455078125,
          28.8116455078125,
          28.8116455078125,
          28.7786865234375,
          28.8226318359375,
          28.8116455078125,
          28.8006591796875,
          28.8116455078125,
          28.8336181640625,
          28.8116455078125,
          28.8116455078125,
          28.7237548828125,
          28.8336181640625,
          28.8006591796875,
          28.8116455078125,
          28.8336181640625,
          28.8116455078125,
          28.8116455078125,
          28.7457275390625,
          28.8116455078125,
          28.8116455078125,
          28.8116455078125,
          28.8116455078125,
          28.8116455078125,
          28.8116455078125,
          28.7896728515625,
          28.8006591796875,
          28.8116455078125,
          28.8116455078125,
          28.8116455078125,
          28.8116455078125,
          28.8116455078125,
          28.8116455078125,
          28.8006591796875,
          28.8336181640625,
          28.8336181640625,
          28.8116455078125,
          28.8116455078125,
          28.8226318359375,
          28.8336181640625,
          28.8116455078125,
          28.8116455078125,
          28.8006591796875,
          28.8116455078125,
          28.8116455078125,
          28.8116455078125,
          28.8116455078125,
          28.8336181640625,
          28.8116455078125,
          28.8116455078125,
          28.8116455078125,
          28.8336181640625,
          28.8116455078125,
          28.8116455078125,
          28.8336181640625,
          28.8336181640625,
          28.8336181640625,
          28.8116455078125,
          28.8116455078125,
          28.8116455078125,
          28.8116455078125,
          28.8116455078125,
          28.8116455078125,
          28.8116455078125,
          28.8116455078125,
          28.8116455078125,
          28.8226318359375,
          28.8116455078125,
          28.8226318359375,
          28.8006591796875,
          28.8116455078125,
          28.8116455078125,
          28.8336181640625,
          28.8116455078125,
          28.8116455078125,
          28.8116455078125,
          28.8116455078125,
          28.8336181640625,
          28.8336181640625,
          28.8006591796875,
          28.8116455078125,
          28.8006591796875,
          28.8116455078125,
          28.8116455078125,
          28.7896728515625,
          28.8336181640625,
          28.8116455078125,
          28.8336181640625,
          28.8116455078125,
          28.8116455078125,
          28.7896728515625,
          28.8336181640625,
          28.8116455078125,
          28.8116455078125,
          28.8006591796875,
          28.8116455078125,
          28.8116455078125,
          28.7896728515625,
          28.8336181640625,
          28.8116455078125,
          28.8336181640625,
          28.8116455078125,
          28.8116455078125,
          28.8336181640625,
          28.8336181640625,
          28.8116455078125,
          28.8006591796875,
          28.8006591796875,
          28.8116455078125,
          28.8336181640625,
          28.8116455078125,
          28.7896728515625,
          28.8006591796875,
          28.8116455078125,
          28.8336181640625,
          28.8226318359375,
          28.8116455078125,
          28.8116455078125,
          28.8116455078125,
          28.8006591796875,
          28.8116455078125,
          28.7896728515625,
          28.8116455078125,
          28.8336181640625,
          28.8116455078125,
          28.8006591796875,
          28.8116455078125,
          28.8336181640625,
          28.8336181640625,
          28.7237548828125,
          28.8336181640625,
          28.8116455078125,
          28.8116455078125,
          28.8116455078125,
          28.8006591796875,
          28.8006591796875,
          28.8226318359375,
          28.8116455078125,
          28.8336181640625,
          28.8116455078125,
          28.8116455078125,
          28.7017822265625,
          28.8116455078125,
          28.8116455078125,
          28.8116455078125,
          28.8116455078125,
          28.8116455078125
         ],
         "xaxis": "x",
         "y": [
          41.0641479492188,
          41.0256958007812,
          41.0586547851562,
          41.0641479492188,
          41.0586547851562,
          41.0476684570312,
          41.0641479492188,
          41.0476684570312,
          41.0641479492188,
          41.0641479492188,
          41.0641479492188,
          41.0641479492188,
          41.0641479492188,
          41.0641479492188,
          41.0256958007812,
          41.0641479492188,
          41.0256958007812,
          41.0641479492188,
          41.0641479492188,
          41.0531616210938,
          41.0641479492188,
          41.0586547851562,
          41.0641479492188,
          41.0641479492188,
          41.0641479492188,
          41.0641479492188,
          41.0256958007812,
          41.0641479492188,
          41.0641479492188,
          41.0641479492188,
          41.0641479492188,
          41.0641479492188,
          41.0641479492188,
          41.0641479492188,
          41.0641479492188,
          41.0586547851562,
          41.0641479492188,
          41.0586547851562,
          41.0641479492188,
          41.0641479492188,
          41.0641479492188,
          41.0641479492188,
          41.0641479492188,
          41.0586547851562,
          41.0641479492188,
          41.0641479492188,
          41.0641479492188,
          41.0641479492188,
          41.0641479492188,
          41.0641479492188,
          41.0641479492188,
          41.0586547851562,
          41.0641479492188,
          41.0641479492188,
          41.0641479492188,
          41.0641479492188,
          41.0256958007812,
          41.0641479492188,
          41.0641479492188,
          41.0641479492188,
          41.0641479492188,
          41.0586547851562,
          41.0641479492188,
          41.0641479492188,
          41.0641479492188,
          41.0256958007812,
          41.0641479492188,
          41.0641479492188,
          41.0641479492188,
          41.0586547851562,
          41.0586547851562,
          41.0641479492188,
          41.0641479492188,
          41.0641479492188,
          41.0641479492188,
          41.0641479492188,
          41.0641479492188,
          41.0641479492188,
          41.0641479492188,
          41.0256958007812,
          41.0641479492188,
          41.0641479492188,
          41.0641479492188,
          41.0256958007812,
          41.0641479492188,
          41.0641479492188,
          41.0256958007812,
          41.0641479492188,
          41.0641479492188,
          41.0641479492188,
          41.0586547851562,
          41.0586547851562,
          41.0641479492188,
          41.0641479492188,
          41.0256958007812,
          41.0641479492188,
          41.0256958007812,
          41.0641479492188,
          41.0476684570312,
          41.0586547851562,
          41.0641479492188,
          41.0641479492188,
          41.0641479492188,
          41.0256958007812,
          41.0476684570312,
          41.0586547851562,
          41.0641479492188,
          41.0641479492188,
          41.0476684570312,
          41.0476684570312,
          41.0256958007812,
          41.0641479492188,
          41.0641479492188,
          41.0641479492188,
          41.0586547851562,
          41.0586547851562,
          41.0256958007812,
          41.0641479492188,
          41.0641479492188,
          41.0641479492188,
          41.0641479492188,
          41.0641479492188,
          41.0586547851562,
          41.0586547851562,
          41.0641479492188,
          41.0641479492188,
          41.0476684570312,
          41.0586547851562,
          41.0586547851562,
          41.0641479492188,
          41.0586547851562,
          41.0586547851562,
          41.0641479492188,
          41.0586547851562,
          41.0641479492188,
          41.0586547851562,
          41.0586547851562,
          41.0476684570312,
          41.0586547851562,
          41.0641479492188,
          41.0641479492188,
          41.0641479492188,
          41.0641479492188,
          41.0641479492188,
          41.0641479492188,
          41.0476684570312,
          41.0641479492188,
          41.0641479492188,
          41.0641479492188,
          41.0641479492188,
          41.0586547851562,
          41.0586547851562,
          41.0641479492188,
          41.0641479492188,
          41.0476684570312,
          41.0476684570312,
          41.0586547851562,
          41.0641479492188,
          41.0641479492188,
          41.0641479492188,
          41.0586547851562,
          41.0641479492188,
          41.0641479492188,
          41.0641479492188,
          41.0641479492188,
          41.0641479492188,
          41.0586547851562,
          41.0641479492188,
          41.0641479492188,
          41.0641479492188,
          41.0586547851562,
          41.0641479492188,
          41.0641479492188,
          41.0641479492188,
          41.0476684570312,
          41.0641479492188,
          41.0641479492188,
          41.0641479492188,
          41.0641479492188,
          41.0256958007812,
          41.0641479492188,
          41.0641479492188,
          41.0641479492188,
          41.0641479492188,
          41.0586547851562,
          41.0641479492188,
          41.0641479492188,
          41.0256958007812,
          41.0641479492188,
          41.0256958007812,
          41.0641479492188,
          41.0641479492188,
          41.0641479492188,
          41.0586547851562,
          41.0586547851562,
          41.0586547851562,
          41.0641479492188,
          41.0641479492188,
          41.0586547851562,
          41.0641479492188,
          41.0641479492188,
          41.0586547851562,
          41.0476684570312,
          41.0256958007812,
          41.0641479492188,
          41.0641479492188,
          41.0641479492188,
          41.0586547851562,
          41.0641479492188,
          41.0586547851562,
          41.0586547851562,
          41.0586547851562,
          41.0641479492188,
          41.0256958007812,
          41.0586547851562,
          41.0256958007812,
          41.0586547851562,
          41.0641479492188,
          41.0586547851562,
          41.0641479492188,
          41.0641479492188,
          41.0641479492188,
          41.0641479492188,
          41.0641479492188,
          41.0586547851562,
          41.0586547851562,
          41.0586547851562,
          41.0641479492188,
          41.0641479492188,
          41.0641479492188,
          41.0586547851562,
          41.0641479492188,
          41.0476684570312,
          41.0641479492188,
          41.0641479492188,
          41.0586547851562,
          41.0586547851562,
          41.0641479492188,
          41.0641479492188,
          41.0586547851562,
          41.0641479492188,
          41.0641479492188,
          41.0641479492188,
          41.0641479492188,
          41.0586547851562,
          41.0256958007812,
          41.0476684570312,
          41.0256958007812,
          41.0641479492188,
          41.0586547851562,
          41.0641479492188,
          41.0641479492188,
          41.0641479492188,
          41.0641479492188,
          41.0586547851562,
          41.0641479492188,
          41.0641479492188,
          41.0586547851562,
          41.0641479492188,
          41.0586547851562,
          41.0586547851562,
          41.0641479492188,
          41.0586547851562,
          41.0641479492188,
          41.0641479492188,
          41.0641479492188,
          41.0641479492188,
          41.0641479492188,
          41.0586547851562,
          41.0641479492188,
          41.0586547851562,
          41.0641479492188,
          41.0641479492188,
          41.0641479492188,
          41.0641479492188,
          41.0256958007812,
          41.0641479492188,
          41.0256958007812,
          41.0586547851562,
          41.0641479492188,
          41.0641479492188,
          41.0641479492188,
          41.0641479492188,
          41.0586547851562,
          41.0586547851562,
          41.0256958007812,
          41.0641479492188,
          41.0641479492188,
          41.0641479492188,
          41.0586547851562,
          41.0641479492188,
          41.0586547851562,
          41.0641479492188,
          41.0586547851562,
          41.0256958007812,
          41.0641479492188,
          41.0641479492188,
          41.0586547851562,
          41.0641479492188,
          41.0641479492188,
          41.0641479492188,
          41.0641479492188,
          41.0641479492188,
          41.0586547851562,
          41.0586547851562,
          41.0641479492188,
          41.0586547851562,
          41.0476684570312,
          41.0641479492188,
          41.0641479492188,
          41.0641479492188,
          41.0256958007812,
          41.0641479492188,
          41.0256958007812,
          41.0256958007812,
          41.0476684570312,
          41.0641479492188,
          41.0641479492188,
          41.0641479492188,
          41.0641479492188,
          41.0641479492188,
          41.0641479492188,
          41.0586547851562,
          41.0586547851562,
          41.0641479492188,
          41.0586547851562,
          41.0641479492188,
          41.0256958007812,
          41.0641479492188,
          41.0641479492188,
          41.0641479492188,
          41.0476684570312,
          41.0586547851562,
          41.0586547851562,
          41.0476684570312,
          41.0641479492188,
          41.0641479492188,
          41.0641479492188,
          41.0586547851562,
          41.0586547851562,
          41.0586547851562,
          41.0641479492188,
          41.0641479492188,
          41.0641479492188,
          41.0641479492188,
          41.0641479492188,
          41.0641479492188,
          41.0641479492188,
          41.0586547851562,
          41.0641479492188,
          41.0641479492188,
          41.0256958007812,
          41.0641479492188,
          41.0586547851562,
          41.0586547851562,
          41.0641479492188,
          41.0641479492188,
          41.0586547851562,
          41.0641479492188,
          41.0586547851562,
          41.0641479492188,
          41.0641479492188,
          41.0256958007812,
          41.0586547851562,
          41.0641479492188,
          41.0586547851562,
          41.0586547851562,
          41.0641479492188,
          41.0641479492188,
          41.0641479492188,
          41.0586547851562,
          41.0641479492188,
          41.0641479492188,
          41.0641479492188,
          41.0476684570312,
          41.0586547851562,
          41.0641479492188,
          41.0476684570312,
          41.0586547851562,
          41.0256958007812,
          41.0476684570312,
          41.0586547851562,
          41.0641479492188,
          41.0641479492188,
          41.0641479492188,
          41.0641479492188,
          41.0641479492188,
          41.0641479492188,
          41.0641479492188,
          41.0641479492188,
          41.0641479492188,
          41.0641479492188,
          41.0641479492188,
          41.0641479492188,
          41.0256958007812,
          41.0586547851562,
          41.0586547851562,
          41.0641479492188,
          41.0641479492188,
          41.0641479492188,
          41.0641479492188,
          41.0641479492188,
          41.0586547851562,
          41.0586547851562,
          41.0586547851562,
          41.0641479492188,
          41.0641479492188,
          41.0641479492188,
          41.0586547851562,
          41.0641479492188,
          41.0641479492188,
          41.0586547851562,
          41.0476684570312,
          41.0641479492188,
          41.0641479492188,
          41.0641479492188,
          41.0586547851562,
          41.0641479492188,
          41.0641479492188,
          41.0586547851562,
          41.0641479492188,
          41.0641479492188,
          41.0476684570312,
          41.0641479492188,
          41.0641479492188,
          41.0641479492188,
          41.0641479492188,
          41.0641479492188,
          41.0641479492188,
          41.0641479492188,
          41.0641479492188,
          41.0641479492188,
          41.0256958007812,
          41.0641479492188,
          41.0641479492188,
          41.0641479492188,
          41.0641479492188,
          41.0641479492188,
          41.0586547851562,
          41.0256958007812,
          41.0641479492188,
          41.0586547851562,
          41.0531616210938,
          41.0256958007812,
          41.0256958007812,
          41.0641479492188,
          41.0641479492188,
          41.0641479492188,
          41.0256958007812,
          41.0476684570312,
          41.0476684570312,
          41.0641479492188,
          41.0641479492188,
          41.0641479492188,
          41.0641479492188,
          41.0641479492188,
          41.0476684570312,
          41.0641479492188,
          41.0641479492188,
          41.0641479492188,
          41.0641479492188,
          41.0641479492188,
          41.0641479492188,
          41.0641479492188,
          41.0586547851562,
          41.0641479492188,
          41.0641479492188,
          41.0641479492188,
          41.0256958007812,
          41.0476684570312,
          41.0641479492188,
          41.0641479492188,
          41.0641479492188,
          41.0256958007812,
          41.0256958007812,
          41.0256958007812,
          41.0476684570312,
          41.0586547851562,
          41.0256958007812,
          41.0641479492188,
          41.0641479492188,
          41.0641479492188,
          41.0641479492188,
          41.0256958007812,
          41.0476684570312,
          41.0586547851562,
          41.0641479492188,
          41.0641479492188,
          41.0641479492188,
          41.0641479492188,
          41.0641479492188,
          41.0641479492188,
          41.0641479492188,
          41.0641479492188,
          41.0641479492188,
          41.0641479492188,
          41.0641479492188,
          41.0586547851562,
          41.0641479492188,
          41.0586547851562,
          41.0641479492188,
          41.0641479492188,
          41.0586547851562,
          41.0641479492188,
          41.0586547851562,
          41.0641479492188,
          41.0641479492188,
          41.0641479492188,
          41.0641479492188,
          41.0641479492188,
          41.0641479492188,
          41.0641479492188,
          41.0256958007812,
          41.0641479492188,
          41.0586547851562,
          41.0256958007812,
          41.0586547851562,
          41.0586547851562,
          41.0586547851562,
          41.0641479492188,
          41.0641479492188,
          41.0586547851562,
          41.0531616210938,
          41.0641479492188,
          41.0641479492188,
          41.0641479492188,
          41.0641479492188,
          41.0476684570312,
          41.0586547851562,
          41.0641479492188,
          41.0256958007812,
          41.0641479492188,
          41.0531616210938,
          41.0476684570312,
          41.0641479492188,
          41.0641479492188,
          41.0586547851562,
          41.0641479492188,
          41.0586547851562,
          41.0641479492188,
          41.0586547851562,
          41.0641479492188,
          41.0641479492188,
          41.0586547851562,
          41.0641479492188,
          41.0641479492188,
          41.0641479492188,
          41.0641479492188,
          41.0641479492188,
          41.0641479492188,
          41.0641479492188,
          41.0641479492188,
          41.0641479492188,
          41.0256958007812,
          41.0641479492188,
          41.0641479492188,
          41.0641479492188,
          41.0256958007812,
          41.0586547851562,
          41.0586547851562,
          41.0641479492188,
          41.0586547851562,
          41.0641479492188,
          41.0476684570312,
          41.0641479492188,
          41.0641479492188,
          41.0641479492188,
          41.0641479492188,
          41.0641479492188,
          41.0641479492188,
          41.0641479492188,
          41.0641479492188,
          41.0641479492188,
          41.0586547851562,
          41.0641479492188,
          41.0641479492188,
          41.0641479492188,
          41.0641479492188,
          41.0641479492188,
          41.0586547851562,
          41.0641479492188,
          41.0586547851562,
          41.0256958007812,
          41.0311889648438,
          41.0641479492188,
          41.0586547851562,
          41.0586547851562,
          41.0586547851562,
          41.0586547851562,
          41.0641479492188,
          41.0641479492188,
          41.0586547851562,
          41.0586547851562,
          41.0586547851562,
          41.0641479492188,
          41.0641479492188,
          41.0586547851562,
          41.0641479492188,
          41.0641479492188,
          41.0641479492188,
          41.0256958007812,
          41.0586547851562,
          41.0586547851562,
          41.0641479492188,
          41.0641479492188,
          41.0641479492188,
          41.0256958007812,
          41.0641479492188,
          41.0641479492188,
          41.0641479492188,
          41.0641479492188,
          41.0641479492188,
          41.0641479492188,
          41.0641479492188,
          41.0641479492188,
          41.0641479492188,
          41.0641479492188,
          41.0641479492188,
          41.0641479492188,
          41.0256958007812,
          41.0586547851562,
          41.0641479492188,
          41.0641479492188,
          41.0476684570312,
          41.0641479492188,
          41.0641479492188,
          41.0586547851562,
          41.0641479492188,
          41.0256958007812,
          41.0641479492188,
          41.0641479492188,
          41.0641479492188,
          41.0476684570312,
          41.0641479492188,
          41.0641479492188,
          41.0586547851562,
          41.0641479492188,
          41.0641479492188,
          41.0641479492188,
          41.0641479492188,
          41.0641479492188,
          41.0641479492188,
          41.0641479492188,
          41.0641479492188,
          41.0641479492188,
          41.0586547851562,
          41.0641479492188,
          41.0586547851562,
          41.0586547851562,
          41.0641479492188,
          41.0586547851562,
          41.0586547851562,
          41.0641479492188,
          41.0586547851562,
          41.0641479492188,
          41.0641479492188,
          41.0641479492188,
          41.0641479492188,
          41.0641479492188,
          41.0256958007812,
          41.0641479492188,
          41.0641479492188,
          41.0641479492188,
          41.0641479492188,
          41.0641479492188,
          41.0641479492188,
          41.0586547851562,
          41.0641479492188,
          41.0586547851562,
          41.0641479492188,
          41.0476684570312,
          41.0641479492188,
          41.0641479492188,
          41.0586547851562,
          41.0641479492188,
          41.0641479492188,
          41.0641479492188,
          41.0641479492188,
          41.0641479492188,
          41.0641479492188,
          41.0641479492188,
          41.0476684570312,
          41.0641479492188,
          41.0586547851562,
          41.0641479492188,
          41.0641479492188,
          41.0256958007812,
          41.0531616210938,
          41.0641479492188,
          41.0641479492188,
          41.0586547851562,
          41.0641479492188,
          41.0641479492188,
          41.0641479492188,
          41.0641479492188,
          41.0586547851562,
          41.0641479492188,
          41.0476684570312,
          41.0256958007812,
          41.0256958007812,
          41.0586547851562,
          41.0641479492188,
          41.0641479492188,
          41.0641479492188,
          41.0641479492188,
          41.0476684570312,
          41.0641479492188,
          41.0586547851562,
          41.0641479492188,
          41.0641479492188,
          41.0641479492188,
          41.0641479492188,
          41.0586547851562,
          41.0641479492188,
          41.0641479492188,
          41.0641479492188,
          41.0476684570312,
          41.0586547851562,
          41.0641479492188,
          41.0586547851562,
          41.0476684570312,
          41.0641479492188,
          41.0641479492188,
          41.0641479492188,
          41.0256958007812,
          41.0586547851562,
          41.0586547851562,
          41.0641479492188,
          41.0641479492188,
          41.0256958007812,
          41.0641479492188,
          41.0641479492188,
          41.0641479492188,
          41.0641479492188,
          41.0586547851562,
          41.0641479492188,
          41.0641479492188,
          41.0586547851562,
          41.0641479492188,
          41.0586547851562,
          41.0641479492188,
          41.0586547851562,
          41.0641479492188,
          41.0641479492188,
          41.0641479492188,
          41.0641479492188,
          41.0256958007812,
          41.0256958007812,
          41.0641479492188,
          41.0641479492188,
          41.0256958007812,
          41.0586547851562,
          41.0641479492188,
          41.0641479492188,
          41.0641479492188,
          41.0641479492188,
          41.0641479492188,
          41.0641479492188,
          41.0586547851562,
          41.0641479492188,
          41.0641479492188,
          41.0641479492188,
          41.0641479492188,
          41.0641479492188,
          41.0641479492188,
          41.0641479492188,
          41.0641479492188,
          41.0641479492188,
          41.0641479492188,
          41.0256958007812,
          41.0641479492188,
          41.0641479492188,
          41.0641479492188,
          41.0641479492188,
          41.0641479492188,
          41.0641479492188,
          41.0641479492188,
          41.0256958007812,
          41.0256958007812,
          41.0641479492188,
          41.0641479492188,
          41.0586547851562,
          41.0641479492188,
          41.0641479492188,
          41.0586547851562,
          41.0641479492188,
          41.0256958007812,
          41.0641479492188,
          41.0641479492188,
          41.0586547851562,
          41.0641479492188,
          41.0641479492188,
          41.0641479492188,
          41.0586547851562,
          41.0586547851562,
          41.0641479492188,
          41.0641479492188,
          41.0641479492188,
          41.0256958007812,
          41.0641479492188,
          41.0641479492188,
          41.0641479492188,
          41.0641479492188,
          41.0641479492188,
          41.0641479492188,
          41.0531616210938,
          41.0641479492188,
          41.0641479492188,
          41.0586547851562,
          41.0641479492188,
          41.0641479492188,
          41.0641479492188,
          41.0641479492188,
          41.0641479492188,
          41.0641479492188,
          41.0476684570312,
          41.0586547851562,
          41.0586547851562,
          41.0476684570312,
          41.0586547851562,
          41.0586547851562,
          41.0586547851562,
          41.0641479492188
         ],
         "yaxis": "y"
        }
       ],
       "layout": {
        "legend": {
         "tracegroupgap": 0
        },
        "margin": {
         "t": 60
        },
        "template": {
         "data": {
          "bar": [
           {
            "error_x": {
             "color": "#2a3f5f"
            },
            "error_y": {
             "color": "#2a3f5f"
            },
            "marker": {
             "line": {
              "color": "#E5ECF6",
              "width": 0.5
             },
             "pattern": {
              "fillmode": "overlay",
              "size": 10,
              "solidity": 0.2
             }
            },
            "type": "bar"
           }
          ],
          "barpolar": [
           {
            "marker": {
             "line": {
              "color": "#E5ECF6",
              "width": 0.5
             },
             "pattern": {
              "fillmode": "overlay",
              "size": 10,
              "solidity": 0.2
             }
            },
            "type": "barpolar"
           }
          ],
          "carpet": [
           {
            "aaxis": {
             "endlinecolor": "#2a3f5f",
             "gridcolor": "white",
             "linecolor": "white",
             "minorgridcolor": "white",
             "startlinecolor": "#2a3f5f"
            },
            "baxis": {
             "endlinecolor": "#2a3f5f",
             "gridcolor": "white",
             "linecolor": "white",
             "minorgridcolor": "white",
             "startlinecolor": "#2a3f5f"
            },
            "type": "carpet"
           }
          ],
          "choropleth": [
           {
            "colorbar": {
             "outlinewidth": 0,
             "ticks": ""
            },
            "type": "choropleth"
           }
          ],
          "contour": [
           {
            "colorbar": {
             "outlinewidth": 0,
             "ticks": ""
            },
            "colorscale": [
             [
              0,
              "#0d0887"
             ],
             [
              0.1111111111111111,
              "#46039f"
             ],
             [
              0.2222222222222222,
              "#7201a8"
             ],
             [
              0.3333333333333333,
              "#9c179e"
             ],
             [
              0.4444444444444444,
              "#bd3786"
             ],
             [
              0.5555555555555556,
              "#d8576b"
             ],
             [
              0.6666666666666666,
              "#ed7953"
             ],
             [
              0.7777777777777778,
              "#fb9f3a"
             ],
             [
              0.8888888888888888,
              "#fdca26"
             ],
             [
              1,
              "#f0f921"
             ]
            ],
            "type": "contour"
           }
          ],
          "contourcarpet": [
           {
            "colorbar": {
             "outlinewidth": 0,
             "ticks": ""
            },
            "type": "contourcarpet"
           }
          ],
          "heatmap": [
           {
            "colorbar": {
             "outlinewidth": 0,
             "ticks": ""
            },
            "colorscale": [
             [
              0,
              "#0d0887"
             ],
             [
              0.1111111111111111,
              "#46039f"
             ],
             [
              0.2222222222222222,
              "#7201a8"
             ],
             [
              0.3333333333333333,
              "#9c179e"
             ],
             [
              0.4444444444444444,
              "#bd3786"
             ],
             [
              0.5555555555555556,
              "#d8576b"
             ],
             [
              0.6666666666666666,
              "#ed7953"
             ],
             [
              0.7777777777777778,
              "#fb9f3a"
             ],
             [
              0.8888888888888888,
              "#fdca26"
             ],
             [
              1,
              "#f0f921"
             ]
            ],
            "type": "heatmap"
           }
          ],
          "heatmapgl": [
           {
            "colorbar": {
             "outlinewidth": 0,
             "ticks": ""
            },
            "colorscale": [
             [
              0,
              "#0d0887"
             ],
             [
              0.1111111111111111,
              "#46039f"
             ],
             [
              0.2222222222222222,
              "#7201a8"
             ],
             [
              0.3333333333333333,
              "#9c179e"
             ],
             [
              0.4444444444444444,
              "#bd3786"
             ],
             [
              0.5555555555555556,
              "#d8576b"
             ],
             [
              0.6666666666666666,
              "#ed7953"
             ],
             [
              0.7777777777777778,
              "#fb9f3a"
             ],
             [
              0.8888888888888888,
              "#fdca26"
             ],
             [
              1,
              "#f0f921"
             ]
            ],
            "type": "heatmapgl"
           }
          ],
          "histogram": [
           {
            "marker": {
             "pattern": {
              "fillmode": "overlay",
              "size": 10,
              "solidity": 0.2
             }
            },
            "type": "histogram"
           }
          ],
          "histogram2d": [
           {
            "colorbar": {
             "outlinewidth": 0,
             "ticks": ""
            },
            "colorscale": [
             [
              0,
              "#0d0887"
             ],
             [
              0.1111111111111111,
              "#46039f"
             ],
             [
              0.2222222222222222,
              "#7201a8"
             ],
             [
              0.3333333333333333,
              "#9c179e"
             ],
             [
              0.4444444444444444,
              "#bd3786"
             ],
             [
              0.5555555555555556,
              "#d8576b"
             ],
             [
              0.6666666666666666,
              "#ed7953"
             ],
             [
              0.7777777777777778,
              "#fb9f3a"
             ],
             [
              0.8888888888888888,
              "#fdca26"
             ],
             [
              1,
              "#f0f921"
             ]
            ],
            "type": "histogram2d"
           }
          ],
          "histogram2dcontour": [
           {
            "colorbar": {
             "outlinewidth": 0,
             "ticks": ""
            },
            "colorscale": [
             [
              0,
              "#0d0887"
             ],
             [
              0.1111111111111111,
              "#46039f"
             ],
             [
              0.2222222222222222,
              "#7201a8"
             ],
             [
              0.3333333333333333,
              "#9c179e"
             ],
             [
              0.4444444444444444,
              "#bd3786"
             ],
             [
              0.5555555555555556,
              "#d8576b"
             ],
             [
              0.6666666666666666,
              "#ed7953"
             ],
             [
              0.7777777777777778,
              "#fb9f3a"
             ],
             [
              0.8888888888888888,
              "#fdca26"
             ],
             [
              1,
              "#f0f921"
             ]
            ],
            "type": "histogram2dcontour"
           }
          ],
          "mesh3d": [
           {
            "colorbar": {
             "outlinewidth": 0,
             "ticks": ""
            },
            "type": "mesh3d"
           }
          ],
          "parcoords": [
           {
            "line": {
             "colorbar": {
              "outlinewidth": 0,
              "ticks": ""
             }
            },
            "type": "parcoords"
           }
          ],
          "pie": [
           {
            "automargin": true,
            "type": "pie"
           }
          ],
          "scatter": [
           {
            "fillpattern": {
             "fillmode": "overlay",
             "size": 10,
             "solidity": 0.2
            },
            "type": "scatter"
           }
          ],
          "scatter3d": [
           {
            "line": {
             "colorbar": {
              "outlinewidth": 0,
              "ticks": ""
             }
            },
            "marker": {
             "colorbar": {
              "outlinewidth": 0,
              "ticks": ""
             }
            },
            "type": "scatter3d"
           }
          ],
          "scattercarpet": [
           {
            "marker": {
             "colorbar": {
              "outlinewidth": 0,
              "ticks": ""
             }
            },
            "type": "scattercarpet"
           }
          ],
          "scattergeo": [
           {
            "marker": {
             "colorbar": {
              "outlinewidth": 0,
              "ticks": ""
             }
            },
            "type": "scattergeo"
           }
          ],
          "scattergl": [
           {
            "marker": {
             "colorbar": {
              "outlinewidth": 0,
              "ticks": ""
             }
            },
            "type": "scattergl"
           }
          ],
          "scattermapbox": [
           {
            "marker": {
             "colorbar": {
              "outlinewidth": 0,
              "ticks": ""
             }
            },
            "type": "scattermapbox"
           }
          ],
          "scatterpolar": [
           {
            "marker": {
             "colorbar": {
              "outlinewidth": 0,
              "ticks": ""
             }
            },
            "type": "scatterpolar"
           }
          ],
          "scatterpolargl": [
           {
            "marker": {
             "colorbar": {
              "outlinewidth": 0,
              "ticks": ""
             }
            },
            "type": "scatterpolargl"
           }
          ],
          "scatterternary": [
           {
            "marker": {
             "colorbar": {
              "outlinewidth": 0,
              "ticks": ""
             }
            },
            "type": "scatterternary"
           }
          ],
          "surface": [
           {
            "colorbar": {
             "outlinewidth": 0,
             "ticks": ""
            },
            "colorscale": [
             [
              0,
              "#0d0887"
             ],
             [
              0.1111111111111111,
              "#46039f"
             ],
             [
              0.2222222222222222,
              "#7201a8"
             ],
             [
              0.3333333333333333,
              "#9c179e"
             ],
             [
              0.4444444444444444,
              "#bd3786"
             ],
             [
              0.5555555555555556,
              "#d8576b"
             ],
             [
              0.6666666666666666,
              "#ed7953"
             ],
             [
              0.7777777777777778,
              "#fb9f3a"
             ],
             [
              0.8888888888888888,
              "#fdca26"
             ],
             [
              1,
              "#f0f921"
             ]
            ],
            "type": "surface"
           }
          ],
          "table": [
           {
            "cells": {
             "fill": {
              "color": "#EBF0F8"
             },
             "line": {
              "color": "white"
             }
            },
            "header": {
             "fill": {
              "color": "#C8D4E3"
             },
             "line": {
              "color": "white"
             }
            },
            "type": "table"
           }
          ]
         },
         "layout": {
          "annotationdefaults": {
           "arrowcolor": "#2a3f5f",
           "arrowhead": 0,
           "arrowwidth": 1
          },
          "autotypenumbers": "strict",
          "coloraxis": {
           "colorbar": {
            "outlinewidth": 0,
            "ticks": ""
           }
          },
          "colorscale": {
           "diverging": [
            [
             0,
             "#8e0152"
            ],
            [
             0.1,
             "#c51b7d"
            ],
            [
             0.2,
             "#de77ae"
            ],
            [
             0.3,
             "#f1b6da"
            ],
            [
             0.4,
             "#fde0ef"
            ],
            [
             0.5,
             "#f7f7f7"
            ],
            [
             0.6,
             "#e6f5d0"
            ],
            [
             0.7,
             "#b8e186"
            ],
            [
             0.8,
             "#7fbc41"
            ],
            [
             0.9,
             "#4d9221"
            ],
            [
             1,
             "#276419"
            ]
           ],
           "sequential": [
            [
             0,
             "#0d0887"
            ],
            [
             0.1111111111111111,
             "#46039f"
            ],
            [
             0.2222222222222222,
             "#7201a8"
            ],
            [
             0.3333333333333333,
             "#9c179e"
            ],
            [
             0.4444444444444444,
             "#bd3786"
            ],
            [
             0.5555555555555556,
             "#d8576b"
            ],
            [
             0.6666666666666666,
             "#ed7953"
            ],
            [
             0.7777777777777778,
             "#fb9f3a"
            ],
            [
             0.8888888888888888,
             "#fdca26"
            ],
            [
             1,
             "#f0f921"
            ]
           ],
           "sequentialminus": [
            [
             0,
             "#0d0887"
            ],
            [
             0.1111111111111111,
             "#46039f"
            ],
            [
             0.2222222222222222,
             "#7201a8"
            ],
            [
             0.3333333333333333,
             "#9c179e"
            ],
            [
             0.4444444444444444,
             "#bd3786"
            ],
            [
             0.5555555555555556,
             "#d8576b"
            ],
            [
             0.6666666666666666,
             "#ed7953"
            ],
            [
             0.7777777777777778,
             "#fb9f3a"
            ],
            [
             0.8888888888888888,
             "#fdca26"
            ],
            [
             1,
             "#f0f921"
            ]
           ]
          },
          "colorway": [
           "#636efa",
           "#EF553B",
           "#00cc96",
           "#ab63fa",
           "#FFA15A",
           "#19d3f3",
           "#FF6692",
           "#B6E880",
           "#FF97FF",
           "#FECB52"
          ],
          "font": {
           "color": "#2a3f5f"
          },
          "geo": {
           "bgcolor": "white",
           "lakecolor": "white",
           "landcolor": "#E5ECF6",
           "showlakes": true,
           "showland": true,
           "subunitcolor": "white"
          },
          "hoverlabel": {
           "align": "left"
          },
          "hovermode": "closest",
          "mapbox": {
           "style": "light"
          },
          "paper_bgcolor": "white",
          "plot_bgcolor": "#E5ECF6",
          "polar": {
           "angularaxis": {
            "gridcolor": "white",
            "linecolor": "white",
            "ticks": ""
           },
           "bgcolor": "#E5ECF6",
           "radialaxis": {
            "gridcolor": "white",
            "linecolor": "white",
            "ticks": ""
           }
          },
          "scene": {
           "xaxis": {
            "backgroundcolor": "#E5ECF6",
            "gridcolor": "white",
            "gridwidth": 2,
            "linecolor": "white",
            "showbackground": true,
            "ticks": "",
            "zerolinecolor": "white"
           },
           "yaxis": {
            "backgroundcolor": "#E5ECF6",
            "gridcolor": "white",
            "gridwidth": 2,
            "linecolor": "white",
            "showbackground": true,
            "ticks": "",
            "zerolinecolor": "white"
           },
           "zaxis": {
            "backgroundcolor": "#E5ECF6",
            "gridcolor": "white",
            "gridwidth": 2,
            "linecolor": "white",
            "showbackground": true,
            "ticks": "",
            "zerolinecolor": "white"
           }
          },
          "shapedefaults": {
           "line": {
            "color": "#2a3f5f"
           }
          },
          "ternary": {
           "aaxis": {
            "gridcolor": "white",
            "linecolor": "white",
            "ticks": ""
           },
           "baxis": {
            "gridcolor": "white",
            "linecolor": "white",
            "ticks": ""
           },
           "bgcolor": "#E5ECF6",
           "caxis": {
            "gridcolor": "white",
            "linecolor": "white",
            "ticks": ""
           }
          },
          "title": {
           "x": 0.05
          },
          "xaxis": {
           "automargin": true,
           "gridcolor": "white",
           "linecolor": "white",
           "ticks": "",
           "title": {
            "standoff": 15
           },
           "zerolinecolor": "white",
           "zerolinewidth": 2
          },
          "yaxis": {
           "automargin": true,
           "gridcolor": "white",
           "linecolor": "white",
           "ticks": "",
           "title": {
            "standoff": 15
           },
           "zerolinecolor": "white",
           "zerolinewidth": 2
          }
         }
        },
        "xaxis": {
         "anchor": "y",
         "domain": [
          0,
          1
         ],
         "title": {
          "text": "LONGITUDE"
         }
        },
        "yaxis": {
         "anchor": "x",
         "domain": [
          0,
          1
         ],
         "title": {
          "text": "LATITUDE"
         }
        }
       }
      }
     },
     "metadata": {},
     "output_type": "display_data"
    }
   ],
   "source": [
    "import plotly.express as px\n",
    "\n",
    "# Load the dataset and select the columns of interest\n",
    "df = pd.read_csv(\"trafik yoğunluk verisi/traffic_density_202001.csv\")\n",
    "df1 = df[['DATE_TIME', 'LONGITUDE', 'LATITUDE', 'NUMBER_OF_VEHICLES']]\n",
    "\n",
    "# Filter the data to include only rows with longitude and latitude values within the specified range and number of vehicles greater than 800\n",
    "df1 = df1[(df1[\"LONGITUDE\"] > 28.139876) & (df1[\"LONGITUDE\"] < 28.9175603) & \n",
    "          (df1[\"LATITUDE\"] > 41.00443) & (df1[\"LATITUDE\"] < 41.0658507) &\n",
    "          (df1.NUMBER_OF_VEHICLES > 800)]\n",
    "\n",
    "# Create the scatter plot\n",
    "fig = px.scatter(df1, x='LONGITUDE', y='LATITUDE')\n",
    "\n",
    "# Show the plot\n",
    "fig.show()\n"
   ]
  },
  {
   "cell_type": "code",
   "execution_count": 22,
   "metadata": {},
   "outputs": [
    {
     "data": {
      "image/png": "[encoded data removed]",
      "text/plain": [
       "<Figure size 720x360 with 1 Axes>"
      ]
     },
     "metadata": {
      "needs_background": "light"
     },
     "output_type": "display_data"
    }
   ],
   "source": [
    "plt.figure(figsize = (10, 5))\n",
    "x = df3[\"LONGITUDE\"][:100] \n",
    "y = df3[\"LATITUDE\"][:100]\n",
    "#plt.plot(x, y, 'go',c = 'r')\n",
    "plt.scatter(df3[\"LONGITUDE\"][:8], df3[\"LATITUDE\"][:8], c = 'r', s = 70, alpha = 0.6, label = 'One')\n",
    "plt.scatter(df3[\"LONGITUDE\"][8:30], df3[\"LATITUDE\"][8:30], c = 'b', s = 70, alpha = 0.6, label = 'One')\n",
    "plt.xlabel(\"X-Axis\")\n",
    "plt.ylabel(\"Y-Axis\")\n",
    "plt.show()"
   ]
  },
  {
   "cell_type": "code",
   "execution_count": 37,
   "metadata": {},
   "outputs": [
    {
     "data": {
      "application/vnd.plotly.v1+json": {
       "config": {
        "plotlyServerURL": "https://plot.ly"
       },
       "data": [
        {
         "hovertemplate": "LONGITUDE=%{x}<br>LATITUDE=%{marker.size}<br>NUMBER_OF_VEHICLES=%{marker.color}<extra></extra>",
         "legendgroup": "",
         "marker": {
          "color": [
           834,
           841,
           896,
           824,
           1028,
           885,
           862,
           836,
           829,
           836,
           837,
           809,
           841,
           823,
           804,
           974,
           884,
           807,
           815,
           819,
           870,
           956,
           909,
           975,
           936,
           809,
           811,
           916,
           922,
           804,
           1031,
           814,
           1034,
           902,
           1015,
           865,
           882,
           958,
           1216,
           817,
           857,
           1127,
           982,
           847,
           862,
           1068,
           832,
           827,
           830,
           801,
           833,
           883,
           845,
           824,
           851,
           925,
           819,
           1137,
           833,
           936,
           845,
           1039,
           883,
           849,
           921,
           855,
           846,
           999,
           809,
           921,
           912,
           841,
           808,
           951,
           823,
           884,
           902,
           806,
           927,
           818,
           890,
           859,
           842,
           807,
           960,
           819,
           805,
           926,
           801,
           849,
           849,
           910,
           1020,
           816,
           869,
           820,
           883,
           888,
           801,
           969
          ],
          "coloraxis": "coloraxis",
          "size": [
           41.0641479492188,
           41.0256958007812,
           41.0586547851562,
           41.0641479492188,
           41.0586547851562,
           41.0476684570312,
           41.0641479492188,
           41.0476684570312,
           41.0641479492188,
           41.0641479492188,
           41.0641479492188,
           41.0641479492188,
           41.0641479492188,
           41.0641479492188,
           41.0256958007812,
           41.0641479492188,
           41.0256958007812,
           41.0641479492188,
           41.0641479492188,
           41.0531616210938,
           41.0641479492188,
           41.0586547851562,
           41.0641479492188,
           41.0641479492188,
           41.0641479492188,
           41.0641479492188,
           41.0256958007812,
           41.0641479492188,
           41.0641479492188,
           41.0641479492188,
           41.0641479492188,
           41.0641479492188,
           41.0641479492188,
           41.0641479492188,
           41.0641479492188,
           41.0586547851562,
           41.0641479492188,
           41.0586547851562,
           41.0641479492188,
           41.0641479492188,
           41.0641479492188,
           41.0641479492188,
           41.0641479492188,
           41.0586547851562,
           41.0641479492188,
           41.0641479492188,
           41.0641479492188,
           41.0641479492188,
           41.0641479492188,
           41.0641479492188,
           41.0641479492188,
           41.0586547851562,
           41.0641479492188,
           41.0641479492188,
           41.0641479492188,
           41.0641479492188,
           41.0256958007812,
           41.0641479492188,
           41.0641479492188,
           41.0641479492188,
           41.0641479492188,
           41.0586547851562,
           41.0641479492188,
           41.0641479492188,
           41.0641479492188,
           41.0256958007812,
           41.0641479492188,
           41.0641479492188,
           41.0641479492188,
           41.0586547851562,
           41.0586547851562,
           41.0641479492188,
           41.0641479492188,
           41.0641479492188,
           41.0641479492188,
           41.0641479492188,
           41.0641479492188,
           41.0641479492188,
           41.0641479492188,
           41.0256958007812,
           41.0641479492188,
           41.0641479492188,
           41.0641479492188,
           41.0256958007812,
           41.0641479492188,
           41.0641479492188,
           41.0256958007812,
           41.0641479492188,
           41.0641479492188,
           41.0641479492188,
           41.0586547851562,
           41.0586547851562,
           41.0641479492188,
           41.0641479492188,
           41.0256958007812,
           41.0641479492188,
           41.0256958007812,
           41.0641479492188,
           41.0476684570312,
           41.0586547851562
          ],
          "sizemode": "area",
          "sizeref": 0.102660369873047,
          "symbol": "circle"
         },
         "mode": "markers",
         "name": "",
         "orientation": "v",
         "showlegend": false,
         "type": "scatter",
         "x": [
          28.8226318359375,
          28.8116455078125,
          28.8116455078125,
          28.8116455078125,
          28.8116455078125,
          28.8116455078125,
          28.8006591796875,
          28.8116455078125,
          28.8226318359375,
          28.8006591796875,
          28.8336181640625,
          28.8226318359375,
          28.8116455078125,
          28.8116455078125,
          28.8116455078125,
          28.8116455078125,
          28.8116455078125,
          28.8226318359375,
          28.8226318359375,
          28.7237548828125,
          28.8116455078125,
          28.8116455078125,
          28.8006591796875,
          28.8336181640625,
          28.8116455078125,
          28.7786865234375,
          28.8116455078125,
          28.8336181640625,
          28.8336181640625,
          28.7896728515625,
          28.8116455078125,
          28.8116455078125,
          28.8116455078125,
          28.8336181640625,
          28.8116455078125,
          28.8116455078125,
          28.8006591796875,
          28.8116455078125,
          28.8116455078125,
          28.7457275390625,
          28.8006591796875,
          28.8116455078125,
          28.8116455078125,
          28.8116455078125,
          28.8336181640625,
          28.8116455078125,
          28.8226318359375,
          28.8006591796875,
          28.8116455078125,
          28.8336181640625,
          28.8006591796875,
          28.8116455078125,
          28.8006591796875,
          28.8336181640625,
          28.8336181640625,
          28.8336181640625,
          28.8116455078125,
          28.8116455078125,
          28.8116455078125,
          28.8006591796875,
          28.8336181640625,
          28.8116455078125,
          28.8006591796875,
          28.8006591796875,
          28.8336181640625,
          28.8116455078125,
          28.8006591796875,
          28.8336181640625,
          28.7896728515625,
          28.8116455078125,
          28.8116455078125,
          28.8116455078125,
          28.7896728515625,
          28.8336181640625,
          28.8116455078125,
          28.8006591796875,
          28.8336181640625,
          28.8116455078125,
          28.8336181640625,
          28.8116455078125,
          28.8336181640625,
          28.8116455078125,
          28.8116455078125,
          28.8116455078125,
          28.8336181640625,
          28.8006591796875,
          28.8116455078125,
          28.8116455078125,
          28.8226318359375,
          28.8226318359375,
          28.8116455078125,
          28.8116455078125,
          28.8336181640625,
          28.7896728515625,
          28.8116455078125,
          28.8116455078125,
          28.8116455078125,
          28.8336181640625,
          28.8116455078125,
          28.8116455078125
         ],
         "xaxis": "x",
         "y": [
          41.0641479492188,
          41.0256958007812,
          41.0586547851562,
          41.0641479492188,
          41.0586547851562,
          41.0476684570312,
          41.0641479492188,
          41.0476684570312,
          41.0641479492188,
          41.0641479492188,
          41.0641479492188,
          41.0641479492188,
          41.0641479492188,
          41.0641479492188,
          41.0256958007812,
          41.0641479492188,
          41.0256958007812,
          41.0641479492188,
          41.0641479492188,
          41.0531616210938,
          41.0641479492188,
          41.0586547851562,
          41.0641479492188,
          41.0641479492188,
          41.0641479492188,
          41.0641479492188,
          41.0256958007812,
          41.0641479492188,
          41.0641479492188,
          41.0641479492188,
          41.0641479492188,
          41.0641479492188,
          41.0641479492188,
          41.0641479492188,
          41.0641479492188,
          41.0586547851562,
          41.0641479492188,
          41.0586547851562,
          41.0641479492188,
          41.0641479492188,
          41.0641479492188,
          41.0641479492188,
          41.0641479492188,
          41.0586547851562,
          41.0641479492188,
          41.0641479492188,
          41.0641479492188,
          41.0641479492188,
          41.0641479492188,
          41.0641479492188,
          41.0641479492188,
          41.0586547851562,
          41.0641479492188,
          41.0641479492188,
          41.0641479492188,
          41.0641479492188,
          41.0256958007812,
          41.0641479492188,
          41.0641479492188,
          41.0641479492188,
          41.0641479492188,
          41.0586547851562,
          41.0641479492188,
          41.0641479492188,
          41.0641479492188,
          41.0256958007812,
          41.0641479492188,
          41.0641479492188,
          41.0641479492188,
          41.0586547851562,
          41.0586547851562,
          41.0641479492188,
          41.0641479492188,
          41.0641479492188,
          41.0641479492188,
          41.0641479492188,
          41.0641479492188,
          41.0641479492188,
          41.0641479492188,
          41.0256958007812,
          41.0641479492188,
          41.0641479492188,
          41.0641479492188,
          41.0256958007812,
          41.0641479492188,
          41.0641479492188,
          41.0256958007812,
          41.0641479492188,
          41.0641479492188,
          41.0641479492188,
          41.0586547851562,
          41.0586547851562,
          41.0641479492188,
          41.0641479492188,
          41.0256958007812,
          41.0641479492188,
          41.0256958007812,
          41.0641479492188,
          41.0476684570312,
          41.0586547851562
         ],
         "yaxis": "y"
        }
       ],
       "layout": {
        "coloraxis": {
         "colorbar": {
          "title": {
           "text": "NUMBER_OF_VEHICLES"
          }
         },
         "colorscale": [
          [
           0,
           "#0d0887"
          ],
          [
           0.1111111111111111,
           "#46039f"
          ],
          [
           0.2222222222222222,
           "#7201a8"
          ],
          [
           0.3333333333333333,
           "#9c179e"
          ],
          [
           0.4444444444444444,
           "#bd3786"
          ],
          [
           0.5555555555555556,
           "#d8576b"
          ],
          [
           0.6666666666666666,
           "#ed7953"
          ],
          [
           0.7777777777777778,
           "#fb9f3a"
          ],
          [
           0.8888888888888888,
           "#fdca26"
          ],
          [
           1,
           "#f0f921"
          ]
         ]
        },
        "legend": {
         "itemsizing": "constant",
         "tracegroupgap": 0
        },
        "template": {
         "data": {
          "bar": [
           {
            "error_x": {
             "color": "#2a3f5f"
            },
            "error_y": {
             "color": "#2a3f5f"
            },
            "marker": {
             "line": {
              "color": "#E5ECF6",
              "width": 0.5
             },
             "pattern": {
              "fillmode": "overlay",
              "size": 10,
              "solidity": 0.2
             }
            },
            "type": "bar"
           }
          ],
          "barpolar": [
           {
            "marker": {
             "line": {
              "color": "#E5ECF6",
              "width": 0.5
             },
             "pattern": {
              "fillmode": "overlay",
              "size": 10,
              "solidity": 0.2
             }
            },
            "type": "barpolar"
           }
          ],
          "carpet": [
           {
            "aaxis": {
             "endlinecolor": "#2a3f5f",
             "gridcolor": "white",
             "linecolor": "white",
             "minorgridcolor": "white",
             "startlinecolor": "#2a3f5f"
            },
            "baxis": {
             "endlinecolor": "#2a3f5f",
             "gridcolor": "white",
             "linecolor": "white",
             "minorgridcolor": "white",
             "startlinecolor": "#2a3f5f"
            },
            "type": "carpet"
           }
          ],
          "choropleth": [
           {
            "colorbar": {
             "outlinewidth": 0,
             "ticks": ""
            },
            "type": "choropleth"
           }
          ],
          "contour": [
           {
            "colorbar": {
             "outlinewidth": 0,
             "ticks": ""
            },
            "colorscale": [
             [
              0,
              "#0d0887"
             ],
             [
              0.1111111111111111,
              "#46039f"
             ],
             [
              0.2222222222222222,
              "#7201a8"
             ],
             [
              0.3333333333333333,
              "#9c179e"
             ],
             [
              0.4444444444444444,
              "#bd3786"
             ],
             [
              0.5555555555555556,
              "#d8576b"
             ],
             [
              0.6666666666666666,
              "#ed7953"
             ],
             [
              0.7777777777777778,
              "#fb9f3a"
             ],
             [
              0.8888888888888888,
              "#fdca26"
             ],
             [
              1,
              "#f0f921"
             ]
            ],
            "type": "contour"
           }
          ],
          "contourcarpet": [
           {
            "colorbar": {
             "outlinewidth": 0,
             "ticks": ""
            },
            "type": "contourcarpet"
           }
          ],
          "heatmap": [
           {
            "colorbar": {
             "outlinewidth": 0,
             "ticks": ""
            },
            "colorscale": [
             [
              0,
              "#0d0887"
             ],
             [
              0.1111111111111111,
              "#46039f"
             ],
             [
              0.2222222222222222,
              "#7201a8"
             ],
             [
              0.3333333333333333,
              "#9c179e"
             ],
             [
              0.4444444444444444,
              "#bd3786"
             ],
             [
              0.5555555555555556,
              "#d8576b"
             ],
             [
              0.6666666666666666,
              "#ed7953"
             ],
             [
              0.7777777777777778,
              "#fb9f3a"
             ],
             [
              0.8888888888888888,
              "#fdca26"
             ],
             [
              1,
              "#f0f921"
             ]
            ],
            "type": "heatmap"
           }
          ],
          "heatmapgl": [
           {
            "colorbar": {
             "outlinewidth": 0,
             "ticks": ""
            },
            "colorscale": [
             [
              0,
              "#0d0887"
             ],
             [
              0.1111111111111111,
              "#46039f"
             ],
             [
              0.2222222222222222,
              "#7201a8"
             ],
             [
              0.3333333333333333,
              "#9c179e"
             ],
             [
              0.4444444444444444,
              "#bd3786"
             ],
             [
              0.5555555555555556,
              "#d8576b"
             ],
             [
              0.6666666666666666,
              "#ed7953"
             ],
             [
              0.7777777777777778,
              "#fb9f3a"
             ],
             [
              0.8888888888888888,
              "#fdca26"
             ],
             [
              1,
              "#f0f921"
             ]
            ],
            "type": "heatmapgl"
           }
          ],
          "histogram": [
           {
            "marker": {
             "pattern": {
              "fillmode": "overlay",
              "size": 10,
              "solidity": 0.2
             }
            },
            "type": "histogram"
           }
          ],
          "histogram2d": [
           {
            "colorbar": {
             "outlinewidth": 0,
             "ticks": ""
            },
            "colorscale": [
             [
              0,
              "#0d0887"
             ],
             [
              0.1111111111111111,
              "#46039f"
             ],
             [
              0.2222222222222222,
              "#7201a8"
             ],
             [
              0.3333333333333333,
              "#9c179e"
             ],
             [
              0.4444444444444444,
              "#bd3786"
             ],
             [
              0.5555555555555556,
              "#d8576b"
             ],
             [
              0.6666666666666666,
              "#ed7953"
             ],
             [
              0.7777777777777778,
              "#fb9f3a"
             ],
             [
              0.8888888888888888,
              "#fdca26"
             ],
             [
              1,
              "#f0f921"
             ]
            ],
            "type": "histogram2d"
           }
          ],
          "histogram2dcontour": [
           {
            "colorbar": {
             "outlinewidth": 0,
             "ticks": ""
            },
            "colorscale": [
             [
              0,
              "#0d0887"
             ],
             [
              0.1111111111111111,
              "#46039f"
             ],
             [
              0.2222222222222222,
              "#7201a8"
             ],
             [
              0.3333333333333333,
              "#9c179e"
             ],
             [
              0.4444444444444444,
              "#bd3786"
             ],
             [
              0.5555555555555556,
              "#d8576b"
             ],
             [
              0.6666666666666666,
              "#ed7953"
             ],
             [
              0.7777777777777778,
              "#fb9f3a"
             ],
             [
              0.8888888888888888,
              "#fdca26"
             ],
             [
              1,
              "#f0f921"
             ]
            ],
            "type": "histogram2dcontour"
           }
          ],
          "mesh3d": [
           {
            "colorbar": {
             "outlinewidth": 0,
             "ticks": ""
            },
            "type": "mesh3d"
           }
          ],
          "parcoords": [
           {
            "line": {
             "colorbar": {
              "outlinewidth": 0,
              "ticks": ""
             }
            },
            "type": "parcoords"
           }
          ],
          "pie": [
           {
            "automargin": true,
            "type": "pie"
           }
          ],
          "scatter": [
           {
            "fillpattern": {
             "fillmode": "overlay",
             "size": 10,
             "solidity": 0.2
            },
            "type": "scatter"
           }
          ],
          "scatter3d": [
           {
            "line": {
             "colorbar": {
              "outlinewidth": 0,
              "ticks": ""
             }
            },
            "marker": {
             "colorbar": {
              "outlinewidth": 0,
              "ticks": ""
             }
            },
            "type": "scatter3d"
           }
          ],
          "scattercarpet": [
           {
            "marker": {
             "colorbar": {
              "outlinewidth": 0,
              "ticks": ""
             }
            },
            "type": "scattercarpet"
           }
          ],
          "scattergeo": [
           {
            "marker": {
             "colorbar": {
              "outlinewidth": 0,
              "ticks": ""
             }
            },
            "type": "scattergeo"
           }
          ],
          "scattergl": [
           {
            "marker": {
             "colorbar": {
              "outlinewidth": 0,
              "ticks": ""
             }
            },
            "type": "scattergl"
           }
          ],
          "scattermapbox": [
           {
            "marker": {
             "colorbar": {
              "outlinewidth": 0,
              "ticks": ""
             }
            },
            "type": "scattermapbox"
           }
          ],
          "scatterpolar": [
           {
            "marker": {
             "colorbar": {
              "outlinewidth": 0,
              "ticks": ""
             }
            },
            "type": "scatterpolar"
           }
          ],
          "scatterpolargl": [
           {
            "marker": {
             "colorbar": {
              "outlinewidth": 0,
              "ticks": ""
             }
            },
            "type": "scatterpolargl"
           }
          ],
          "scatterternary": [
           {
            "marker": {
             "colorbar": {
              "outlinewidth": 0,
              "ticks": ""
             }
            },
            "type": "scatterternary"
           }
          ],
          "surface": [
           {
            "colorbar": {
             "outlinewidth": 0,
             "ticks": ""
            },
            "colorscale": [
             [
              0,
              "#0d0887"
             ],
             [
              0.1111111111111111,
              "#46039f"
             ],
             [
              0.2222222222222222,
              "#7201a8"
             ],
             [
              0.3333333333333333,
              "#9c179e"
             ],
             [
              0.4444444444444444,
              "#bd3786"
             ],
             [
              0.5555555555555556,
              "#d8576b"
             ],
             [
              0.6666666666666666,
              "#ed7953"
             ],
             [
              0.7777777777777778,
              "#fb9f3a"
             ],
             [
              0.8888888888888888,
              "#fdca26"
             ],
             [
              1,
              "#f0f921"
             ]
            ],
            "type": "surface"
           }
          ],
          "table": [
           {
            "cells": {
             "fill": {
              "color": "#EBF0F8"
             },
             "line": {
              "color": "white"
             }
            },
            "header": {
             "fill": {
              "color": "#C8D4E3"
             },
             "line": {
              "color": "white"
             }
            },
            "type": "table"
           }
          ]
         },
         "layout": {
          "annotationdefaults": {
           "arrowcolor": "#2a3f5f",
           "arrowhead": 0,
           "arrowwidth": 1
          },
          "autotypenumbers": "strict",
          "coloraxis": {
           "colorbar": {
            "outlinewidth": 0,
            "ticks": ""
           }
          },
          "colorscale": {
           "diverging": [
            [
             0,
             "#8e0152"
            ],
            [
             0.1,
             "#c51b7d"
            ],
            [
             0.2,
             "#de77ae"
            ],
            [
             0.3,
             "#f1b6da"
            ],
            [
             0.4,
             "#fde0ef"
            ],
            [
             0.5,
             "#f7f7f7"
            ],
            [
             0.6,
             "#e6f5d0"
            ],
            [
             0.7,
             "#b8e186"
            ],
            [
             0.8,
             "#7fbc41"
            ],
            [
             0.9,
             "#4d9221"
            ],
            [
             1,
             "#276419"
            ]
           ],
           "sequential": [
            [
             0,
             "#0d0887"
            ],
            [
             0.1111111111111111,
             "#46039f"
            ],
            [
             0.2222222222222222,
             "#7201a8"
            ],
            [
             0.3333333333333333,
             "#9c179e"
            ],
            [
             0.4444444444444444,
             "#bd3786"
            ],
            [
             0.5555555555555556,
             "#d8576b"
            ],
            [
             0.6666666666666666,
             "#ed7953"
            ],
            [
             0.7777777777777778,
             "#fb9f3a"
            ],
            [
             0.8888888888888888,
             "#fdca26"
            ],
            [
             1,
             "#f0f921"
            ]
           ],
           "sequentialminus": [
            [
             0,
             "#0d0887"
            ],
            [
             0.1111111111111111,
             "#46039f"
            ],
            [
             0.2222222222222222,
             "#7201a8"
            ],
            [
             0.3333333333333333,
             "#9c179e"
            ],
            [
             0.4444444444444444,
             "#bd3786"
            ],
            [
             0.5555555555555556,
             "#d8576b"
            ],
            [
             0.6666666666666666,
             "#ed7953"
            ],
            [
             0.7777777777777778,
             "#fb9f3a"
            ],
            [
             0.8888888888888888,
             "#fdca26"
            ],
            [
             1,
             "#f0f921"
            ]
           ]
          },
          "colorway": [
           "#636efa",
           "#EF553B",
           "#00cc96",
           "#ab63fa",
           "#FFA15A",
           "#19d3f3",
           "#FF6692",
           "#B6E880",
           "#FF97FF",
           "#FECB52"
          ],
          "font": {
           "color": "#2a3f5f"
          },
          "geo": {
           "bgcolor": "white",
           "lakecolor": "white",
           "landcolor": "#E5ECF6",
           "showlakes": true,
           "showland": true,
           "subunitcolor": "white"
          },
          "hoverlabel": {
           "align": "left"
          },
          "hovermode": "closest",
          "mapbox": {
           "style": "light"
          },
          "paper_bgcolor": "white",
          "plot_bgcolor": "#E5ECF6",
          "polar": {
           "angularaxis": {
            "gridcolor": "white",
            "linecolor": "white",
            "ticks": ""
           },
           "bgcolor": "#E5ECF6",
           "radialaxis": {
            "gridcolor": "white",
            "linecolor": "white",
            "ticks": ""
           }
          },
          "scene": {
           "xaxis": {
            "backgroundcolor": "#E5ECF6",
            "gridcolor": "white",
            "gridwidth": 2,
            "linecolor": "white",
            "showbackground": true,
            "ticks": "",
            "zerolinecolor": "white"
           },
           "yaxis": {
            "backgroundcolor": "#E5ECF6",
            "gridcolor": "white",
            "gridwidth": 2,
            "linecolor": "white",
            "showbackground": true,
            "ticks": "",
            "zerolinecolor": "white"
           },
           "zaxis": {
            "backgroundcolor": "#E5ECF6",
            "gridcolor": "white",
            "gridwidth": 2,
            "linecolor": "white",
            "showbackground": true,
            "ticks": "",
            "zerolinecolor": "white"
           }
          },
          "shapedefaults": {
           "line": {
            "color": "#2a3f5f"
           }
          },
          "ternary": {
           "aaxis": {
            "gridcolor": "white",
            "linecolor": "white",
            "ticks": ""
           },
           "baxis": {
            "gridcolor": "white",
            "linecolor": "white",
            "ticks": ""
           },
           "bgcolor": "#E5ECF6",
           "caxis": {
            "gridcolor": "white",
            "linecolor": "white",
            "ticks": ""
           }
          },
          "title": {
           "x": 0.05
          },
          "xaxis": {
           "automargin": true,
           "gridcolor": "white",
           "linecolor": "white",
           "ticks": "",
           "title": {
            "standoff": 15
           },
           "zerolinecolor": "white",
           "zerolinewidth": 2
          },
          "yaxis": {
           "automargin": true,
           "gridcolor": "white",
           "linecolor": "white",
           "ticks": "",
           "title": {
            "standoff": 15
           },
           "zerolinecolor": "white",
           "zerolinewidth": 2
          }
         }
        },
        "title": {
         "text": "Scatter Plot"
        },
        "xaxis": {
         "anchor": "y",
         "domain": [
          0,
          1
         ],
         "title": {
          "text": "LONGITUDE"
         }
        },
        "yaxis": {
         "anchor": "x",
         "domain": [
          0,
          1
         ],
         "title": {
          "text": "LATITUDE"
         }
        }
       }
      }
     },
     "metadata": {},
     "output_type": "display_data"
    }
   ],
   "source": [
    "import plotly.express as px\n",
    "\n",
    "fig = px.scatter(data_frame = df1[:100], x = \"LONGITUDE\", y = \"LATITUDE\", color = 'NUMBER_OF_VEHICLES', size = 'LATITUDE',\n",
    "                 title = \"Scatter Plot\", labels = {\"x\": \"X-Axis\", \"y\": \"Y-Axis\"})\n",
    "fig.show()"
   ]
  },
  {
   "cell_type": "code",
   "execution_count": 36,
   "metadata": {},
   "outputs": [
    {
     "data": {
      "application/vnd.plotly.v1+json": {
       "config": {
        "plotlyServerURL": "https://plot.ly"
       },
       "data": [
        {
         "hovertemplate": "LONGITUDE=%{marker.color}<br>LATITUDE=%{marker.size}<extra></extra>",
         "legendgroup": "",
         "marker": {
          "color": [
           28.850899,
           28.812941,
           28.820821,
           28.5602292,
           28.139876,
           28.8548222,
           28.9141459,
           28.8320013,
           28.8314834,
           28.8542913,
           28.8108901,
           28.8603332,
           28.8321864,
           28.8464294,
           28.8567602,
           28.8273527,
           28.8365713,
           28.8141833,
           28.8337263,
           28.8271602,
           28.8542213,
           28.8689013,
           28.8477168,
           28.8484524,
           28.8320781,
           28.8516587,
           28.7838074,
           28.8509364,
           28.9175603,
           28.8664987,
           28.8546345
          ],
          "coloraxis": "coloraxis",
          "size": [
           41.037205,
           41.042879,
           41.0417052,
           41.027057,
           41.0256149,
           41.047158,
           41.0658507,
           41.03674,
           41.0234637,
           41.03059,
           41.00443,
           41.0367394,
           41.042834,
           41.0464602,
           41.0259872,
           41.0371874,
           41.05446,
           41.0547894,
           41.04069,
           41.0406896,
           41.0347,
           41.03729,
           41.0350228,
           41.024135,
           41.0386388,
           41.0420536,
           41.0420324,
           41.0342317,
           41.0092624,
           41.0335241,
           41.0533493
          ],
          "sizemode": "area",
          "sizeref": 0.10266462675,
          "symbol": "circle"
         },
         "mode": "markers",
         "name": "",
         "orientation": "v",
         "showlegend": false,
         "type": "scatter",
         "x": [
          28.850899,
          28.812941,
          28.820821,
          28.5602292,
          28.139876,
          28.8548222,
          28.9141459,
          28.8320013,
          28.8314834,
          28.8542913,
          28.8108901,
          28.8603332,
          28.8321864,
          28.8464294,
          28.8567602,
          28.8273527,
          28.8365713,
          28.8141833,
          28.8337263,
          28.8271602,
          28.8542213,
          28.8689013,
          28.8477168,
          28.8484524,
          28.8320781,
          28.8516587,
          28.7838074,
          28.8509364,
          28.9175603,
          28.8664987,
          28.8546345
         ],
         "xaxis": "x",
         "y": [
          41.037205,
          41.042879,
          41.0417052,
          41.027057,
          41.0256149,
          41.047158,
          41.0658507,
          41.03674,
          41.0234637,
          41.03059,
          41.00443,
          41.0367394,
          41.042834,
          41.0464602,
          41.0259872,
          41.0371874,
          41.05446,
          41.0547894,
          41.04069,
          41.0406896,
          41.0347,
          41.03729,
          41.0350228,
          41.024135,
          41.0386388,
          41.0420536,
          41.0420324,
          41.0342317,
          41.0092624,
          41.0335241,
          41.0533493
         ],
         "yaxis": "y"
        }
       ],
       "layout": {
        "coloraxis": {
         "colorbar": {
          "title": {
           "text": "LONGITUDE"
          }
         },
         "colorscale": [
          [
           0,
           "#0d0887"
          ],
          [
           0.1111111111111111,
           "#46039f"
          ],
          [
           0.2222222222222222,
           "#7201a8"
          ],
          [
           0.3333333333333333,
           "#9c179e"
          ],
          [
           0.4444444444444444,
           "#bd3786"
          ],
          [
           0.5555555555555556,
           "#d8576b"
          ],
          [
           0.6666666666666666,
           "#ed7953"
          ],
          [
           0.7777777777777778,
           "#fb9f3a"
          ],
          [
           0.8888888888888888,
           "#fdca26"
          ],
          [
           1,
           "#f0f921"
          ]
         ]
        },
        "legend": {
         "itemsizing": "constant",
         "tracegroupgap": 0
        },
        "template": {
         "data": {
          "bar": [
           {
            "error_x": {
             "color": "#2a3f5f"
            },
            "error_y": {
             "color": "#2a3f5f"
            },
            "marker": {
             "line": {
              "color": "#E5ECF6",
              "width": 0.5
             },
             "pattern": {
              "fillmode": "overlay",
              "size": 10,
              "solidity": 0.2
             }
            },
            "type": "bar"
           }
          ],
          "barpolar": [
           {
            "marker": {
             "line": {
              "color": "#E5ECF6",
              "width": 0.5
             },
             "pattern": {
              "fillmode": "overlay",
              "size": 10,
              "solidity": 0.2
             }
            },
            "type": "barpolar"
           }
          ],
          "carpet": [
           {
            "aaxis": {
             "endlinecolor": "#2a3f5f",
             "gridcolor": "white",
             "linecolor": "white",
             "minorgridcolor": "white",
             "startlinecolor": "#2a3f5f"
            },
            "baxis": {
             "endlinecolor": "#2a3f5f",
             "gridcolor": "white",
             "linecolor": "white",
             "minorgridcolor": "white",
             "startlinecolor": "#2a3f5f"
            },
            "type": "carpet"
           }
          ],
          "choropleth": [
           {
            "colorbar": {
             "outlinewidth": 0,
             "ticks": ""
            },
            "type": "choropleth"
           }
          ],
          "contour": [
           {
            "colorbar": {
             "outlinewidth": 0,
             "ticks": ""
            },
            "colorscale": [
             [
              0,
              "#0d0887"
             ],
             [
              0.1111111111111111,
              "#46039f"
             ],
             [
              0.2222222222222222,
              "#7201a8"
             ],
             [
              0.3333333333333333,
              "#9c179e"
             ],
             [
              0.4444444444444444,
              "#bd3786"
             ],
             [
              0.5555555555555556,
              "#d8576b"
             ],
             [
              0.6666666666666666,
              "#ed7953"
             ],
             [
              0.7777777777777778,
              "#fb9f3a"
             ],
             [
              0.8888888888888888,
              "#fdca26"
             ],
             [
              1,
              "#f0f921"
             ]
            ],
            "type": "contour"
           }
          ],
          "contourcarpet": [
           {
            "colorbar": {
             "outlinewidth": 0,
             "ticks": ""
            },
            "type": "contourcarpet"
           }
          ],
          "heatmap": [
           {
            "colorbar": {
             "outlinewidth": 0,
             "ticks": ""
            },
            "colorscale": [
             [
              0,
              "#0d0887"
             ],
             [
              0.1111111111111111,
              "#46039f"
             ],
             [
              0.2222222222222222,
              "#7201a8"
             ],
             [
              0.3333333333333333,
              "#9c179e"
             ],
             [
              0.4444444444444444,
              "#bd3786"
             ],
             [
              0.5555555555555556,
              "#d8576b"
             ],
             [
              0.6666666666666666,
              "#ed7953"
             ],
             [
              0.7777777777777778,
              "#fb9f3a"
             ],
             [
              0.8888888888888888,
              "#fdca26"
             ],
             [
              1,
              "#f0f921"
             ]
            ],
            "type": "heatmap"
           }
          ],
          "heatmapgl": [
           {
            "colorbar": {
             "outlinewidth": 0,
             "ticks": ""
            },
            "colorscale": [
             [
              0,
              "#0d0887"
             ],
             [
              0.1111111111111111,
              "#46039f"
             ],
             [
              0.2222222222222222,
              "#7201a8"
             ],
             [
              0.3333333333333333,
              "#9c179e"
             ],
             [
              0.4444444444444444,
              "#bd3786"
             ],
             [
              0.5555555555555556,
              "#d8576b"
             ],
             [
              0.6666666666666666,
              "#ed7953"
             ],
             [
              0.7777777777777778,
              "#fb9f3a"
             ],
             [
              0.8888888888888888,
              "#fdca26"
             ],
             [
              1,
              "#f0f921"
             ]
            ],
            "type": "heatmapgl"
           }
          ],
          "histogram": [
           {
            "marker": {
             "pattern": {
              "fillmode": "overlay",
              "size": 10,
              "solidity": 0.2
             }
            },
            "type": "histogram"
           }
          ],
          "histogram2d": [
           {
            "colorbar": {
             "outlinewidth": 0,
             "ticks": ""
            },
            "colorscale": [
             [
              0,
              "#0d0887"
             ],
             [
              0.1111111111111111,
              "#46039f"
             ],
             [
              0.2222222222222222,
              "#7201a8"
             ],
             [
              0.3333333333333333,
              "#9c179e"
             ],
             [
              0.4444444444444444,
              "#bd3786"
             ],
             [
              0.5555555555555556,
              "#d8576b"
             ],
             [
              0.6666666666666666,
              "#ed7953"
             ],
             [
              0.7777777777777778,
              "#fb9f3a"
             ],
             [
              0.8888888888888888,
              "#fdca26"
             ],
             [
              1,
              "#f0f921"
             ]
            ],
            "type": "histogram2d"
           }
          ],
          "histogram2dcontour": [
           {
            "colorbar": {
             "outlinewidth": 0,
             "ticks": ""
            },
            "colorscale": [
             [
              0,
              "#0d0887"
             ],
             [
              0.1111111111111111,
              "#46039f"
             ],
             [
              0.2222222222222222,
              "#7201a8"
             ],
             [
              0.3333333333333333,
              "#9c179e"
             ],
             [
              0.4444444444444444,
              "#bd3786"
             ],
             [
              0.5555555555555556,
              "#d8576b"
             ],
             [
              0.6666666666666666,
              "#ed7953"
             ],
             [
              0.7777777777777778,
              "#fb9f3a"
             ],
             [
              0.8888888888888888,
              "#fdca26"
             ],
             [
              1,
              "#f0f921"
             ]
            ],
            "type": "histogram2dcontour"
           }
          ],
          "mesh3d": [
           {
            "colorbar": {
             "outlinewidth": 0,
             "ticks": ""
            },
            "type": "mesh3d"
           }
          ],
          "parcoords": [
           {
            "line": {
             "colorbar": {
              "outlinewidth": 0,
              "ticks": ""
             }
            },
            "type": "parcoords"
           }
          ],
          "pie": [
           {
            "automargin": true,
            "type": "pie"
           }
          ],
          "scatter": [
           {
            "fillpattern": {
             "fillmode": "overlay",
             "size": 10,
             "solidity": 0.2
            },
            "type": "scatter"
           }
          ],
          "scatter3d": [
           {
            "line": {
             "colorbar": {
              "outlinewidth": 0,
              "ticks": ""
             }
            },
            "marker": {
             "colorbar": {
              "outlinewidth": 0,
              "ticks": ""
             }
            },
            "type": "scatter3d"
           }
          ],
          "scattercarpet": [
           {
            "marker": {
             "colorbar": {
              "outlinewidth": 0,
              "ticks": ""
             }
            },
            "type": "scattercarpet"
           }
          ],
          "scattergeo": [
           {
            "marker": {
             "colorbar": {
              "outlinewidth": 0,
              "ticks": ""
             }
            },
            "type": "scattergeo"
           }
          ],
          "scattergl": [
           {
            "marker": {
             "colorbar": {
              "outlinewidth": 0,
              "ticks": ""
             }
            },
            "type": "scattergl"
           }
          ],
          "scattermapbox": [
           {
            "marker": {
             "colorbar": {
              "outlinewidth": 0,
              "ticks": ""
             }
            },
            "type": "scattermapbox"
           }
          ],
          "scatterpolar": [
           {
            "marker": {
             "colorbar": {
              "outlinewidth": 0,
              "ticks": ""
             }
            },
            "type": "scatterpolar"
           }
          ],
          "scatterpolargl": [
           {
            "marker": {
             "colorbar": {
              "outlinewidth": 0,
              "ticks": ""
             }
            },
            "type": "scatterpolargl"
           }
          ],
          "scatterternary": [
           {
            "marker": {
             "colorbar": {
              "outlinewidth": 0,
              "ticks": ""
             }
            },
            "type": "scatterternary"
           }
          ],
          "surface": [
           {
            "colorbar": {
             "outlinewidth": 0,
             "ticks": ""
            },
            "colorscale": [
             [
              0,
              "#0d0887"
             ],
             [
              0.1111111111111111,
              "#46039f"
             ],
             [
              0.2222222222222222,
              "#7201a8"
             ],
             [
              0.3333333333333333,
              "#9c179e"
             ],
             [
              0.4444444444444444,
              "#bd3786"
             ],
             [
              0.5555555555555556,
              "#d8576b"
             ],
             [
              0.6666666666666666,
              "#ed7953"
             ],
             [
              0.7777777777777778,
              "#fb9f3a"
             ],
             [
              0.8888888888888888,
              "#fdca26"
             ],
             [
              1,
              "#f0f921"
             ]
            ],
            "type": "surface"
           }
          ],
          "table": [
           {
            "cells": {
             "fill": {
              "color": "#EBF0F8"
             },
             "line": {
              "color": "white"
             }
            },
            "header": {
             "fill": {
              "color": "#C8D4E3"
             },
             "line": {
              "color": "white"
             }
            },
            "type": "table"
           }
          ]
         },
         "layout": {
          "annotationdefaults": {
           "arrowcolor": "#2a3f5f",
           "arrowhead": 0,
           "arrowwidth": 1
          },
          "autotypenumbers": "strict",
          "coloraxis": {
           "colorbar": {
            "outlinewidth": 0,
            "ticks": ""
           }
          },
          "colorscale": {
           "diverging": [
            [
             0,
             "#8e0152"
            ],
            [
             0.1,
             "#c51b7d"
            ],
            [
             0.2,
             "#de77ae"
            ],
            [
             0.3,
             "#f1b6da"
            ],
            [
             0.4,
             "#fde0ef"
            ],
            [
             0.5,
             "#f7f7f7"
            ],
            [
             0.6,
             "#e6f5d0"
            ],
            [
             0.7,
             "#b8e186"
            ],
            [
             0.8,
             "#7fbc41"
            ],
            [
             0.9,
             "#4d9221"
            ],
            [
             1,
             "#276419"
            ]
           ],
           "sequential": [
            [
             0,
             "#0d0887"
            ],
            [
             0.1111111111111111,
             "#46039f"
            ],
            [
             0.2222222222222222,
             "#7201a8"
            ],
            [
             0.3333333333333333,
             "#9c179e"
            ],
            [
             0.4444444444444444,
             "#bd3786"
            ],
            [
             0.5555555555555556,
             "#d8576b"
            ],
            [
             0.6666666666666666,
             "#ed7953"
            ],
            [
             0.7777777777777778,
             "#fb9f3a"
            ],
            [
             0.8888888888888888,
             "#fdca26"
            ],
            [
             1,
             "#f0f921"
            ]
           ],
           "sequentialminus": [
            [
             0,
             "#0d0887"
            ],
            [
             0.1111111111111111,
             "#46039f"
            ],
            [
             0.2222222222222222,
             "#7201a8"
            ],
            [
             0.3333333333333333,
             "#9c179e"
            ],
            [
             0.4444444444444444,
             "#bd3786"
            ],
            [
             0.5555555555555556,
             "#d8576b"
            ],
            [
             0.6666666666666666,
             "#ed7953"
            ],
            [
             0.7777777777777778,
             "#fb9f3a"
            ],
            [
             0.8888888888888888,
             "#fdca26"
            ],
            [
             1,
             "#f0f921"
            ]
           ]
          },
          "colorway": [
           "#636efa",
           "#EF553B",
           "#00cc96",
           "#ab63fa",
           "#FFA15A",
           "#19d3f3",
           "#FF6692",
           "#B6E880",
           "#FF97FF",
           "#FECB52"
          ],
          "font": {
           "color": "#2a3f5f"
          },
          "geo": {
           "bgcolor": "white",
           "lakecolor": "white",
           "landcolor": "#E5ECF6",
           "showlakes": true,
           "showland": true,
           "subunitcolor": "white"
          },
          "hoverlabel": {
           "align": "left"
          },
          "hovermode": "closest",
          "mapbox": {
           "style": "light"
          },
          "paper_bgcolor": "white",
          "plot_bgcolor": "#E5ECF6",
          "polar": {
           "angularaxis": {
            "gridcolor": "white",
            "linecolor": "white",
            "ticks": ""
           },
           "bgcolor": "#E5ECF6",
           "radialaxis": {
            "gridcolor": "white",
            "linecolor": "white",
            "ticks": ""
           }
          },
          "scene": {
           "xaxis": {
            "backgroundcolor": "#E5ECF6",
            "gridcolor": "white",
            "gridwidth": 2,
            "linecolor": "white",
            "showbackground": true,
            "ticks": "",
            "zerolinecolor": "white"
           },
           "yaxis": {
            "backgroundcolor": "#E5ECF6",
            "gridcolor": "white",
            "gridwidth": 2,
            "linecolor": "white",
            "showbackground": true,
            "ticks": "",
            "zerolinecolor": "white"
           },
           "zaxis": {
            "backgroundcolor": "#E5ECF6",
            "gridcolor": "white",
            "gridwidth": 2,
            "linecolor": "white",
            "showbackground": true,
            "ticks": "",
            "zerolinecolor": "white"
           }
          },
          "shapedefaults": {
           "line": {
            "color": "#2a3f5f"
           }
          },
          "ternary": {
           "aaxis": {
            "gridcolor": "white",
            "linecolor": "white",
            "ticks": ""
           },
           "baxis": {
            "gridcolor": "white",
            "linecolor": "white",
            "ticks": ""
           },
           "bgcolor": "#E5ECF6",
           "caxis": {
            "gridcolor": "white",
            "linecolor": "white",
            "ticks": ""
           }
          },
          "title": {
           "x": 0.05
          },
          "xaxis": {
           "automargin": true,
           "gridcolor": "white",
           "linecolor": "white",
           "ticks": "",
           "title": {
            "standoff": 15
           },
           "zerolinecolor": "white",
           "zerolinewidth": 2
          },
          "yaxis": {
           "automargin": true,
           "gridcolor": "white",
           "linecolor": "white",
           "ticks": "",
           "title": {
            "standoff": 15
           },
           "zerolinecolor": "white",
           "zerolinewidth": 2
          }
         }
        },
        "title": {
         "text": "Scatter Plot"
        },
        "xaxis": {
         "anchor": "y",
         "domain": [
          0,
          1
         ],
         "title": {
          "text": "LONGITUDE"
         }
        },
        "yaxis": {
         "anchor": "x",
         "domain": [
          0,
          1
         ],
         "title": {
          "text": "LATITUDE"
         }
        }
       }
      }
     },
     "metadata": {},
     "output_type": "display_data"
    }
   ],
   "source": [
    "import plotly.express as px\n",
    "\n",
    "fig = px.scatter(data_frame = df3[:100], x = \"LONGITUDE\", y = \"LATITUDE\", color = 'LONGITUDE', size = 'LATITUDE',\n",
    "                 title = \"Scatter Plot\", labels = {\"x\": \"X-Axis\", \"y\": \"Y-Axis\"})\n",
    "fig.show()\n",
    "\n"
   ]
  },
  {
   "cell_type": "code",
   "execution_count": 52,
   "metadata": {},
   "outputs": [
    {
     "data": {
      "application/vnd.plotly.v1+json": {
       "config": {
        "plotlyServerURL": "https://plot.ly"
       },
       "data": [
        {
         "type": "scatter",
         "x": [
          28.8226318359375,
          28.8116455078125,
          28.8116455078125,
          28.8116455078125,
          28.8116455078125,
          28.8116455078125,
          28.8006591796875,
          28.8116455078125,
          28.8226318359375,
          28.8006591796875,
          28.8336181640625,
          28.8226318359375,
          28.8116455078125,
          28.8116455078125,
          28.8116455078125,
          28.8116455078125,
          28.8116455078125,
          28.8226318359375,
          28.8226318359375,
          28.7237548828125,
          28.8116455078125,
          28.8116455078125,
          28.8006591796875,
          28.8336181640625,
          28.8116455078125,
          28.7786865234375,
          28.8116455078125,
          28.8336181640625,
          28.8336181640625,
          28.7896728515625,
          28.8116455078125,
          28.8116455078125,
          28.8116455078125,
          28.8336181640625,
          28.8116455078125,
          28.8116455078125,
          28.8006591796875,
          28.8116455078125,
          28.8116455078125,
          28.7457275390625,
          28.8006591796875,
          28.8116455078125,
          28.8116455078125,
          28.8116455078125,
          28.8336181640625,
          28.8116455078125,
          28.8226318359375,
          28.8006591796875,
          28.8116455078125,
          28.8336181640625,
          28.8006591796875,
          28.8116455078125,
          28.8006591796875,
          28.8336181640625,
          28.8336181640625,
          28.8336181640625,
          28.8116455078125,
          28.8116455078125,
          28.8116455078125,
          28.8006591796875,
          28.8336181640625,
          28.8116455078125,
          28.8006591796875,
          28.8006591796875,
          28.8336181640625,
          28.8116455078125,
          28.8006591796875,
          28.8336181640625,
          28.7896728515625,
          28.8116455078125,
          28.8116455078125,
          28.8116455078125,
          28.7896728515625,
          28.8336181640625,
          28.8116455078125,
          28.8006591796875,
          28.8336181640625,
          28.8116455078125,
          28.8336181640625,
          28.8116455078125,
          28.8336181640625,
          28.8116455078125,
          28.8116455078125,
          28.8116455078125,
          28.8336181640625,
          28.8006591796875,
          28.8116455078125,
          28.8116455078125,
          28.8226318359375,
          28.8226318359375,
          28.8116455078125,
          28.8116455078125,
          28.8336181640625,
          28.7896728515625,
          28.8116455078125,
          28.8116455078125,
          28.8116455078125,
          28.8336181640625,
          28.8116455078125,
          28.8116455078125
         ],
         "y": [
          41.0641479492188,
          41.0256958007812,
          41.0586547851562,
          41.0641479492188,
          41.0586547851562,
          41.0476684570312,
          41.0641479492188,
          41.0476684570312,
          41.0641479492188,
          41.0641479492188,
          41.0641479492188,
          41.0641479492188,
          41.0641479492188,
          41.0641479492188,
          41.0256958007812,
          41.0641479492188,
          41.0256958007812,
          41.0641479492188,
          41.0641479492188,
          41.0531616210938,
          41.0641479492188,
          41.0586547851562,
          41.0641479492188,
          41.0641479492188,
          41.0641479492188,
          41.0641479492188,
          41.0256958007812,
          41.0641479492188,
          41.0641479492188,
          41.0641479492188,
          41.0641479492188,
          41.0641479492188,
          41.0641479492188,
          41.0641479492188,
          41.0641479492188,
          41.0586547851562,
          41.0641479492188,
          41.0586547851562,
          41.0641479492188,
          41.0641479492188,
          41.0641479492188,
          41.0641479492188,
          41.0641479492188,
          41.0586547851562,
          41.0641479492188,
          41.0641479492188,
          41.0641479492188,
          41.0641479492188,
          41.0641479492188,
          41.0641479492188,
          41.0641479492188,
          41.0586547851562,
          41.0641479492188,
          41.0641479492188,
          41.0641479492188,
          41.0641479492188,
          41.0256958007812,
          41.0641479492188,
          41.0641479492188,
          41.0641479492188,
          41.0641479492188,
          41.0586547851562,
          41.0641479492188,
          41.0641479492188,
          41.0641479492188,
          41.0256958007812,
          41.0641479492188,
          41.0641479492188,
          41.0641479492188,
          41.0586547851562,
          41.0586547851562,
          41.0641479492188,
          41.0641479492188,
          41.0641479492188,
          41.0641479492188,
          41.0641479492188,
          41.0641479492188,
          41.0641479492188,
          41.0641479492188,
          41.0256958007812,
          41.0641479492188,
          41.0641479492188,
          41.0641479492188,
          41.0256958007812,
          41.0641479492188,
          41.0641479492188,
          41.0256958007812,
          41.0641479492188,
          41.0641479492188,
          41.0641479492188,
          41.0586547851562,
          41.0586547851562,
          41.0641479492188,
          41.0641479492188,
          41.0256958007812,
          41.0641479492188,
          41.0256958007812,
          41.0641479492188,
          41.0476684570312,
          41.0586547851562
         ]
        },
        {
         "type": "scatter",
         "x": [
          28.850899,
          28.812941,
          28.820821,
          28.5602292,
          28.139876,
          28.8548222,
          28.9141459,
          28.8320013,
          28.8314834,
          28.8542913,
          28.8108901,
          28.8603332,
          28.8321864,
          28.8464294,
          28.8567602,
          28.8273527,
          28.8365713,
          28.8141833,
          28.8337263,
          28.8271602,
          28.8542213,
          28.8689013,
          28.8477168,
          28.8484524,
          28.8320781,
          28.8516587,
          28.7838074,
          28.8509364,
          28.9175603,
          28.8664987,
          28.8546345
         ],
         "y": [
          41.037205,
          41.042879,
          41.0417052,
          41.027057,
          41.0256149,
          41.047158,
          41.0658507,
          41.03674,
          41.0234637,
          41.03059,
          41.00443,
          41.0367394,
          41.042834,
          41.0464602,
          41.0259872,
          41.0371874,
          41.05446,
          41.0547894,
          41.04069,
          41.0406896,
          41.0347,
          41.03729,
          41.0350228,
          41.024135,
          41.0386388,
          41.0420536,
          41.0420324,
          41.0342317,
          41.0092624,
          41.0335241,
          41.0533493
         ]
        }
       ],
       "layout": {
        "template": {
         "data": {
          "bar": [
           {
            "error_x": {
             "color": "#2a3f5f"
            },
            "error_y": {
             "color": "#2a3f5f"
            },
            "marker": {
             "line": {
              "color": "#E5ECF6",
              "width": 0.5
             },
             "pattern": {
              "fillmode": "overlay",
              "size": 10,
              "solidity": 0.2
             }
            },
            "type": "bar"
           }
          ],
          "barpolar": [
           {
            "marker": {
             "line": {
              "color": "#E5ECF6",
              "width": 0.5
             },
             "pattern": {
              "fillmode": "overlay",
              "size": 10,
              "solidity": 0.2
             }
            },
            "type": "barpolar"
           }
          ],
          "carpet": [
           {
            "aaxis": {
             "endlinecolor": "#2a3f5f",
             "gridcolor": "white",
             "linecolor": "white",
             "minorgridcolor": "white",
             "startlinecolor": "#2a3f5f"
            },
            "baxis": {
             "endlinecolor": "#2a3f5f",
             "gridcolor": "white",
             "linecolor": "white",
             "minorgridcolor": "white",
             "startlinecolor": "#2a3f5f"
            },
            "type": "carpet"
           }
          ],
          "choropleth": [
           {
            "colorbar": {
             "outlinewidth": 0,
             "ticks": ""
            },
            "type": "choropleth"
           }
          ],
          "contour": [
           {
            "colorbar": {
             "outlinewidth": 0,
             "ticks": ""
            },
            "colorscale": [
             [
              0,
              "#0d0887"
             ],
             [
              0.1111111111111111,
              "#46039f"
             ],
             [
              0.2222222222222222,
              "#7201a8"
             ],
             [
              0.3333333333333333,
              "#9c179e"
             ],
             [
              0.4444444444444444,
              "#bd3786"
             ],
             [
              0.5555555555555556,
              "#d8576b"
             ],
             [
              0.6666666666666666,
              "#ed7953"
             ],
             [
              0.7777777777777778,
              "#fb9f3a"
             ],
             [
              0.8888888888888888,
              "#fdca26"
             ],
             [
              1,
              "#f0f921"
             ]
            ],
            "type": "contour"
           }
          ],
          "contourcarpet": [
           {
            "colorbar": {
             "outlinewidth": 0,
             "ticks": ""
            },
            "type": "contourcarpet"
           }
          ],
          "heatmap": [
           {
            "colorbar": {
             "outlinewidth": 0,
             "ticks": ""
            },
            "colorscale": [
             [
              0,
              "#0d0887"
             ],
             [
              0.1111111111111111,
              "#46039f"
             ],
             [
              0.2222222222222222,
              "#7201a8"
             ],
             [
              0.3333333333333333,
              "#9c179e"
             ],
             [
              0.4444444444444444,
              "#bd3786"
             ],
             [
              0.5555555555555556,
              "#d8576b"
             ],
             [
              0.6666666666666666,
              "#ed7953"
             ],
             [
              0.7777777777777778,
              "#fb9f3a"
             ],
             [
              0.8888888888888888,
              "#fdca26"
             ],
             [
              1,
              "#f0f921"
             ]
            ],
            "type": "heatmap"
           }
          ],
          "heatmapgl": [
           {
            "colorbar": {
             "outlinewidth": 0,
             "ticks": ""
            },
            "colorscale": [
             [
              0,
              "#0d0887"
             ],
             [
              0.1111111111111111,
              "#46039f"
             ],
             [
              0.2222222222222222,
              "#7201a8"
             ],
             [
              0.3333333333333333,
              "#9c179e"
             ],
             [
              0.4444444444444444,
              "#bd3786"
             ],
             [
              0.5555555555555556,
              "#d8576b"
             ],
             [
              0.6666666666666666,
              "#ed7953"
             ],
             [
              0.7777777777777778,
              "#fb9f3a"
             ],
             [
              0.8888888888888888,
              "#fdca26"
             ],
             [
              1,
              "#f0f921"
             ]
            ],
            "type": "heatmapgl"
           }
          ],
          "histogram": [
           {
            "marker": {
             "pattern": {
              "fillmode": "overlay",
              "size": 10,
              "solidity": 0.2
             }
            },
            "type": "histogram"
           }
          ],
          "histogram2d": [
           {
            "colorbar": {
             "outlinewidth": 0,
             "ticks": ""
            },
            "colorscale": [
             [
              0,
              "#0d0887"
             ],
             [
              0.1111111111111111,
              "#46039f"
             ],
             [
              0.2222222222222222,
              "#7201a8"
             ],
             [
              0.3333333333333333,
              "#9c179e"
             ],
             [
              0.4444444444444444,
              "#bd3786"
             ],
             [
              0.5555555555555556,
              "#d8576b"
             ],
             [
              0.6666666666666666,
              "#ed7953"
             ],
             [
              0.7777777777777778,
              "#fb9f3a"
             ],
             [
              0.8888888888888888,
              "#fdca26"
             ],
             [
              1,
              "#f0f921"
             ]
            ],
            "type": "histogram2d"
           }
          ],
          "histogram2dcontour": [
           {
            "colorbar": {
             "outlinewidth": 0,
             "ticks": ""
            },
            "colorscale": [
             [
              0,
              "#0d0887"
             ],
             [
              0.1111111111111111,
              "#46039f"
             ],
             [
              0.2222222222222222,
              "#7201a8"
             ],
             [
              0.3333333333333333,
              "#9c179e"
             ],
             [
              0.4444444444444444,
              "#bd3786"
             ],
             [
              0.5555555555555556,
              "#d8576b"
             ],
             [
              0.6666666666666666,
              "#ed7953"
             ],
             [
              0.7777777777777778,
              "#fb9f3a"
             ],
             [
              0.8888888888888888,
              "#fdca26"
             ],
             [
              1,
              "#f0f921"
             ]
            ],
            "type": "histogram2dcontour"
           }
          ],
          "mesh3d": [
           {
            "colorbar": {
             "outlinewidth": 0,
             "ticks": ""
            },
            "type": "mesh3d"
           }
          ],
          "parcoords": [
           {
            "line": {
             "colorbar": {
              "outlinewidth": 0,
              "ticks": ""
             }
            },
            "type": "parcoords"
           }
          ],
          "pie": [
           {
            "automargin": true,
            "type": "pie"
           }
          ],
          "scatter": [
           {
            "fillpattern": {
             "fillmode": "overlay",
             "size": 10,
             "solidity": 0.2
            },
            "type": "scatter"
           }
          ],
          "scatter3d": [
           {
            "line": {
             "colorbar": {
              "outlinewidth": 0,
              "ticks": ""
             }
            },
            "marker": {
             "colorbar": {
              "outlinewidth": 0,
              "ticks": ""
             }
            },
            "type": "scatter3d"
           }
          ],
          "scattercarpet": [
           {
            "marker": {
             "colorbar": {
              "outlinewidth": 0,
              "ticks": ""
             }
            },
            "type": "scattercarpet"
           }
          ],
          "scattergeo": [
           {
            "marker": {
             "colorbar": {
              "outlinewidth": 0,
              "ticks": ""
             }
            },
            "type": "scattergeo"
           }
          ],
          "scattergl": [
           {
            "marker": {
             "colorbar": {
              "outlinewidth": 0,
              "ticks": ""
             }
            },
            "type": "scattergl"
           }
          ],
          "scattermapbox": [
           {
            "marker": {
             "colorbar": {
              "outlinewidth": 0,
              "ticks": ""
             }
            },
            "type": "scattermapbox"
           }
          ],
          "scatterpolar": [
           {
            "marker": {
             "colorbar": {
              "outlinewidth": 0,
              "ticks": ""
             }
            },
            "type": "scatterpolar"
           }
          ],
          "scatterpolargl": [
           {
            "marker": {
             "colorbar": {
              "outlinewidth": 0,
              "ticks": ""
             }
            },
            "type": "scatterpolargl"
           }
          ],
          "scatterternary": [
           {
            "marker": {
             "colorbar": {
              "outlinewidth": 0,
              "ticks": ""
             }
            },
            "type": "scatterternary"
           }
          ],
          "surface": [
           {
            "colorbar": {
             "outlinewidth": 0,
             "ticks": ""
            },
            "colorscale": [
             [
              0,
              "#0d0887"
             ],
             [
              0.1111111111111111,
              "#46039f"
             ],
             [
              0.2222222222222222,
              "#7201a8"
             ],
             [
              0.3333333333333333,
              "#9c179e"
             ],
             [
              0.4444444444444444,
              "#bd3786"
             ],
             [
              0.5555555555555556,
              "#d8576b"
             ],
             [
              0.6666666666666666,
              "#ed7953"
             ],
             [
              0.7777777777777778,
              "#fb9f3a"
             ],
             [
              0.8888888888888888,
              "#fdca26"
             ],
             [
              1,
              "#f0f921"
             ]
            ],
            "type": "surface"
           }
          ],
          "table": [
           {
            "cells": {
             "fill": {
              "color": "#EBF0F8"
             },
             "line": {
              "color": "white"
             }
            },
            "header": {
             "fill": {
              "color": "#C8D4E3"
             },
             "line": {
              "color": "white"
             }
            },
            "type": "table"
           }
          ]
         },
         "layout": {
          "annotationdefaults": {
           "arrowcolor": "#2a3f5f",
           "arrowhead": 0,
           "arrowwidth": 1
          },
          "autotypenumbers": "strict",
          "coloraxis": {
           "colorbar": {
            "outlinewidth": 0,
            "ticks": ""
           }
          },
          "colorscale": {
           "diverging": [
            [
             0,
             "#8e0152"
            ],
            [
             0.1,
             "#c51b7d"
            ],
            [
             0.2,
             "#de77ae"
            ],
            [
             0.3,
             "#f1b6da"
            ],
            [
             0.4,
             "#fde0ef"
            ],
            [
             0.5,
             "#f7f7f7"
            ],
            [
             0.6,
             "#e6f5d0"
            ],
            [
             0.7,
             "#b8e186"
            ],
            [
             0.8,
             "#7fbc41"
            ],
            [
             0.9,
             "#4d9221"
            ],
            [
             1,
             "#276419"
            ]
           ],
           "sequential": [
            [
             0,
             "#0d0887"
            ],
            [
             0.1111111111111111,
             "#46039f"
            ],
            [
             0.2222222222222222,
             "#7201a8"
            ],
            [
             0.3333333333333333,
             "#9c179e"
            ],
            [
             0.4444444444444444,
             "#bd3786"
            ],
            [
             0.5555555555555556,
             "#d8576b"
            ],
            [
             0.6666666666666666,
             "#ed7953"
            ],
            [
             0.7777777777777778,
             "#fb9f3a"
            ],
            [
             0.8888888888888888,
             "#fdca26"
            ],
            [
             1,
             "#f0f921"
            ]
           ],
           "sequentialminus": [
            [
             0,
             "#0d0887"
            ],
            [
             0.1111111111111111,
             "#46039f"
            ],
            [
             0.2222222222222222,
             "#7201a8"
            ],
            [
             0.3333333333333333,
             "#9c179e"
            ],
            [
             0.4444444444444444,
             "#bd3786"
            ],
            [
             0.5555555555555556,
             "#d8576b"
            ],
            [
             0.6666666666666666,
             "#ed7953"
            ],
            [
             0.7777777777777778,
             "#fb9f3a"
            ],
            [
             0.8888888888888888,
             "#fdca26"
            ],
            [
             1,
             "#f0f921"
            ]
           ]
          },
          "colorway": [
           "#636efa",
           "#EF553B",
           "#00cc96",
           "#ab63fa",
           "#FFA15A",
           "#19d3f3",
           "#FF6692",
           "#B6E880",
           "#FF97FF",
           "#FECB52"
          ],
          "font": {
           "color": "#2a3f5f"
          },
          "geo": {
           "bgcolor": "white",
           "lakecolor": "white",
           "landcolor": "#E5ECF6",
           "showlakes": true,
           "showland": true,
           "subunitcolor": "white"
          },
          "hoverlabel": {
           "align": "left"
          },
          "hovermode": "closest",
          "mapbox": {
           "style": "light"
          },
          "paper_bgcolor": "white",
          "plot_bgcolor": "#E5ECF6",
          "polar": {
           "angularaxis": {
            "gridcolor": "white",
            "linecolor": "white",
            "ticks": ""
           },
           "bgcolor": "#E5ECF6",
           "radialaxis": {
            "gridcolor": "white",
            "linecolor": "white",
            "ticks": ""
           }
          },
          "scene": {
           "xaxis": {
            "backgroundcolor": "#E5ECF6",
            "gridcolor": "white",
            "gridwidth": 2,
            "linecolor": "white",
            "showbackground": true,
            "ticks": "",
            "zerolinecolor": "white"
           },
           "yaxis": {
            "backgroundcolor": "#E5ECF6",
            "gridcolor": "white",
            "gridwidth": 2,
            "linecolor": "white",
            "showbackground": true,
            "ticks": "",
            "zerolinecolor": "white"
           },
           "zaxis": {
            "backgroundcolor": "#E5ECF6",
            "gridcolor": "white",
            "gridwidth": 2,
            "linecolor": "white",
            "showbackground": true,
            "ticks": "",
            "zerolinecolor": "white"
           }
          },
          "shapedefaults": {
           "line": {
            "color": "#2a3f5f"
           }
          },
          "ternary": {
           "aaxis": {
            "gridcolor": "white",
            "linecolor": "white",
            "ticks": ""
           },
           "baxis": {
            "gridcolor": "white",
            "linecolor": "white",
            "ticks": ""
           },
           "bgcolor": "#E5ECF6",
           "caxis": {
            "gridcolor": "white",
            "linecolor": "white",
            "ticks": ""
           }
          },
          "title": {
           "x": 0.05
          },
          "xaxis": {
           "automargin": true,
           "gridcolor": "white",
           "linecolor": "white",
           "ticks": "",
           "title": {
            "standoff": 15
           },
           "zerolinecolor": "white",
           "zerolinewidth": 2
          },
          "yaxis": {
           "automargin": true,
           "gridcolor": "white",
           "linecolor": "white",
           "ticks": "",
           "title": {
            "standoff": 15
           },
           "zerolinecolor": "white",
           "zerolinewidth": 2
          }
         }
        },
        "xaxis": {
         "anchor": "y",
         "domain": [
          0,
          0.45
         ]
        },
        "xaxis2": {
         "anchor": "y2",
         "domain": [
          0.55,
          1
         ]
        },
        "yaxis": {
         "anchor": "x",
         "domain": [
          0,
          1
         ]
        },
        "yaxis2": {
         "anchor": "x2",
         "domain": [
          0,
          1
         ]
        }
       }
      }
     },
     "metadata": {},
     "output_type": "display_data"
    }
   ],
   "source": [
    "import plotly.subplots as ps\n",
    "\n",
    "# Create a figure with 2 subplots\n",
    "fig = ps.make_subplots(rows=1, cols=2)\n",
    "\n",
    "# Add a scatter plot to the first subplot\n",
    "fig.add_scatter(x=df1['LONGITUDE'].iloc[:100], y=df1['LATITUDE'].iloc[:100],\n",
    "                )\n",
    "\n",
    "# Add a scatter plot to the second subplot\n",
    "fig.add_scatter(x=df3['LONGITUDE'][:100], y=df3['LATITUDE'][:100]\n",
    "                )\n",
    "\n",
    "fig.show()\n"
   ]
  },
  {
   "cell_type": "code",
   "execution_count": 61,
   "metadata": {},
   "outputs": [
    {
     "data": {
      "application/vnd.plotly.v1+json": {
       "config": {
        "plotlyServerURL": "https://plot.ly"
       },
       "data": [
        {
         "mode": "markers",
         "name": "Yoğunluk Based Loc",
         "type": "scatter",
         "x": [
          28.8226318359375,
          28.8116455078125,
          28.8116455078125,
          28.8116455078125,
          28.8116455078125,
          28.8116455078125,
          28.8006591796875,
          28.8116455078125,
          28.8226318359375,
          28.8006591796875,
          28.8336181640625,
          28.8226318359375,
          28.8116455078125,
          28.8116455078125,
          28.8116455078125,
          28.8116455078125,
          28.8116455078125,
          28.8226318359375,
          28.8226318359375,
          28.7237548828125,
          28.8116455078125,
          28.8116455078125,
          28.8006591796875,
          28.8336181640625,
          28.8116455078125,
          28.7786865234375,
          28.8116455078125,
          28.8336181640625,
          28.8336181640625,
          28.7896728515625,
          28.8116455078125,
          28.8116455078125,
          28.8116455078125,
          28.8336181640625,
          28.8116455078125,
          28.8116455078125,
          28.8006591796875,
          28.8116455078125,
          28.8116455078125,
          28.7457275390625,
          28.8006591796875,
          28.8116455078125,
          28.8116455078125,
          28.8116455078125,
          28.8336181640625,
          28.8116455078125,
          28.8226318359375,
          28.8006591796875,
          28.8116455078125,
          28.8336181640625,
          28.8006591796875,
          28.8116455078125,
          28.8006591796875,
          28.8336181640625,
          28.8336181640625,
          28.8336181640625,
          28.8116455078125,
          28.8116455078125,
          28.8116455078125,
          28.8006591796875,
          28.8336181640625,
          28.8116455078125,
          28.8006591796875,
          28.8006591796875,
          28.8336181640625,
          28.8116455078125,
          28.8006591796875,
          28.8336181640625,
          28.7896728515625,
          28.8116455078125,
          28.8116455078125,
          28.8116455078125,
          28.7896728515625,
          28.8336181640625,
          28.8116455078125,
          28.8006591796875,
          28.8336181640625,
          28.8116455078125,
          28.8336181640625,
          28.8116455078125,
          28.8336181640625,
          28.8116455078125,
          28.8116455078125,
          28.8116455078125,
          28.8336181640625,
          28.8006591796875,
          28.8116455078125,
          28.8116455078125,
          28.8226318359375,
          28.8226318359375,
          28.8116455078125,
          28.8116455078125,
          28.8336181640625,
          28.7896728515625,
          28.8116455078125,
          28.8116455078125,
          28.8116455078125,
          28.8336181640625,
          28.8116455078125,
          28.8116455078125
         ],
         "y": [
          41.0641479492188,
          41.0256958007812,
          41.0586547851562,
          41.0641479492188,
          41.0586547851562,
          41.0476684570312,
          41.0641479492188,
          41.0476684570312,
          41.0641479492188,
          41.0641479492188,
          41.0641479492188,
          41.0641479492188,
          41.0641479492188,
          41.0641479492188,
          41.0256958007812,
          41.0641479492188,
          41.0256958007812,
          41.0641479492188,
          41.0641479492188,
          41.0531616210938,
          41.0641479492188,
          41.0586547851562,
          41.0641479492188,
          41.0641479492188,
          41.0641479492188,
          41.0641479492188,
          41.0256958007812,
          41.0641479492188,
          41.0641479492188,
          41.0641479492188,
          41.0641479492188,
          41.0641479492188,
          41.0641479492188,
          41.0641479492188,
          41.0641479492188,
          41.0586547851562,
          41.0641479492188,
          41.0586547851562,
          41.0641479492188,
          41.0641479492188,
          41.0641479492188,
          41.0641479492188,
          41.0641479492188,
          41.0586547851562,
          41.0641479492188,
          41.0641479492188,
          41.0641479492188,
          41.0641479492188,
          41.0641479492188,
          41.0641479492188,
          41.0641479492188,
          41.0586547851562,
          41.0641479492188,
          41.0641479492188,
          41.0641479492188,
          41.0641479492188,
          41.0256958007812,
          41.0641479492188,
          41.0641479492188,
          41.0641479492188,
          41.0641479492188,
          41.0586547851562,
          41.0641479492188,
          41.0641479492188,
          41.0641479492188,
          41.0256958007812,
          41.0641479492188,
          41.0641479492188,
          41.0641479492188,
          41.0586547851562,
          41.0586547851562,
          41.0641479492188,
          41.0641479492188,
          41.0641479492188,
          41.0641479492188,
          41.0641479492188,
          41.0641479492188,
          41.0641479492188,
          41.0641479492188,
          41.0256958007812,
          41.0641479492188,
          41.0641479492188,
          41.0641479492188,
          41.0256958007812,
          41.0641479492188,
          41.0641479492188,
          41.0256958007812,
          41.0641479492188,
          41.0641479492188,
          41.0641479492188,
          41.0586547851562,
          41.0586547851562,
          41.0641479492188,
          41.0641479492188,
          41.0256958007812,
          41.0641479492188,
          41.0256958007812,
          41.0641479492188,
          41.0476684570312,
          41.0586547851562
         ]
        },
        {
         "mode": "markers",
         "name": "Optimum Loc",
         "type": "scatter",
         "x": [
          28.850899,
          28.812941,
          28.820821,
          28.5602292,
          28.139876,
          28.8548222,
          28.9141459,
          28.8320013,
          28.8314834,
          28.8542913,
          28.8108901,
          28.8603332,
          28.8321864,
          28.8464294,
          28.8567602,
          28.8273527,
          28.8365713,
          28.8141833,
          28.8337263,
          28.8271602,
          28.8542213,
          28.8689013,
          28.8477168,
          28.8484524,
          28.8320781,
          28.8516587,
          28.7838074,
          28.8509364,
          28.9175603,
          28.8664987,
          28.8546345
         ],
         "y": [
          41.037205,
          41.042879,
          41.0417052,
          41.027057,
          41.0256149,
          41.047158,
          41.0658507,
          41.03674,
          41.0234637,
          41.03059,
          41.00443,
          41.0367394,
          41.042834,
          41.0464602,
          41.0259872,
          41.0371874,
          41.05446,
          41.0547894,
          41.04069,
          41.0406896,
          41.0347,
          41.03729,
          41.0350228,
          41.024135,
          41.0386388,
          41.0420536,
          41.0420324,
          41.0342317,
          41.0092624,
          41.0335241,
          41.0533493
         ]
        }
       ],
       "layout": {
        "template": {
         "data": {
          "bar": [
           {
            "error_x": {
             "color": "#2a3f5f"
            },
            "error_y": {
             "color": "#2a3f5f"
            },
            "marker": {
             "line": {
              "color": "#E5ECF6",
              "width": 0.5
             },
             "pattern": {
              "fillmode": "overlay",
              "size": 10,
              "solidity": 0.2
             }
            },
            "type": "bar"
           }
          ],
          "barpolar": [
           {
            "marker": {
             "line": {
              "color": "#E5ECF6",
              "width": 0.5
             },
             "pattern": {
              "fillmode": "overlay",
              "size": 10,
              "solidity": 0.2
             }
            },
            "type": "barpolar"
           }
          ],
          "carpet": [
           {
            "aaxis": {
             "endlinecolor": "#2a3f5f",
             "gridcolor": "white",
             "linecolor": "white",
             "minorgridcolor": "white",
             "startlinecolor": "#2a3f5f"
            },
            "baxis": {
             "endlinecolor": "#2a3f5f",
             "gridcolor": "white",
             "linecolor": "white",
             "minorgridcolor": "white",
             "startlinecolor": "#2a3f5f"
            },
            "type": "carpet"
           }
          ],
          "choropleth": [
           {
            "colorbar": {
             "outlinewidth": 0,
             "ticks": ""
            },
            "type": "choropleth"
           }
          ],
          "contour": [
           {
            "colorbar": {
             "outlinewidth": 0,
             "ticks": ""
            },
            "colorscale": [
             [
              0,
              "#0d0887"
             ],
             [
              0.1111111111111111,
              "#46039f"
             ],
             [
              0.2222222222222222,
              "#7201a8"
             ],
             [
              0.3333333333333333,
              "#9c179e"
             ],
             [
              0.4444444444444444,
              "#bd3786"
             ],
             [
              0.5555555555555556,
              "#d8576b"
             ],
             [
              0.6666666666666666,
              "#ed7953"
             ],
             [
              0.7777777777777778,
              "#fb9f3a"
             ],
             [
              0.8888888888888888,
              "#fdca26"
             ],
             [
              1,
              "#f0f921"
             ]
            ],
            "type": "contour"
           }
          ],
          "contourcarpet": [
           {
            "colorbar": {
             "outlinewidth": 0,
             "ticks": ""
            },
            "type": "contourcarpet"
           }
          ],
          "heatmap": [
           {
            "colorbar": {
             "outlinewidth": 0,
             "ticks": ""
            },
            "colorscale": [
             [
              0,
              "#0d0887"
             ],
             [
              0.1111111111111111,
              "#46039f"
             ],
             [
              0.2222222222222222,
              "#7201a8"
             ],
             [
              0.3333333333333333,
              "#9c179e"
             ],
             [
              0.4444444444444444,
              "#bd3786"
             ],
             [
              0.5555555555555556,
              "#d8576b"
             ],
             [
              0.6666666666666666,
              "#ed7953"
             ],
             [
              0.7777777777777778,
              "#fb9f3a"
             ],
             [
              0.8888888888888888,
              "#fdca26"
             ],
             [
              1,
              "#f0f921"
             ]
            ],
            "type": "heatmap"
           }
          ],
          "heatmapgl": [
           {
            "colorbar": {
             "outlinewidth": 0,
             "ticks": ""
            },
            "colorscale": [
             [
              0,
              "#0d0887"
             ],
             [
              0.1111111111111111,
              "#46039f"
             ],
             [
              0.2222222222222222,
              "#7201a8"
             ],
             [
              0.3333333333333333,
              "#9c179e"
             ],
             [
              0.4444444444444444,
              "#bd3786"
             ],
             [
              0.5555555555555556,
              "#d8576b"
             ],
             [
              0.6666666666666666,
              "#ed7953"
             ],
             [
              0.7777777777777778,
              "#fb9f3a"
             ],
             [
              0.8888888888888888,
              "#fdca26"
             ],
             [
              1,
              "#f0f921"
             ]
            ],
            "type": "heatmapgl"
           }
          ],
          "histogram": [
           {
            "marker": {
             "pattern": {
              "fillmode": "overlay",
              "size": 10,
              "solidity": 0.2
             }
            },
            "type": "histogram"
           }
          ],
          "histogram2d": [
           {
            "colorbar": {
             "outlinewidth": 0,
             "ticks": ""
            },
            "colorscale": [
             [
              0,
              "#0d0887"
             ],
             [
              0.1111111111111111,
              "#46039f"
             ],
             [
              0.2222222222222222,
              "#7201a8"
             ],
             [
              0.3333333333333333,
              "#9c179e"
             ],
             [
              0.4444444444444444,
              "#bd3786"
             ],
             [
              0.5555555555555556,
              "#d8576b"
             ],
             [
              0.6666666666666666,
              "#ed7953"
             ],
             [
              0.7777777777777778,
              "#fb9f3a"
             ],
             [
              0.8888888888888888,
              "#fdca26"
             ],
             [
              1,
              "#f0f921"
             ]
            ],
            "type": "histogram2d"
           }
          ],
          "histogram2dcontour": [
           {
            "colorbar": {
             "outlinewidth": 0,
             "ticks": ""
            },
            "colorscale": [
             [
              0,
              "#0d0887"
             ],
             [
              0.1111111111111111,
              "#46039f"
             ],
             [
              0.2222222222222222,
              "#7201a8"
             ],
             [
              0.3333333333333333,
              "#9c179e"
             ],
             [
              0.4444444444444444,
              "#bd3786"
             ],
             [
              0.5555555555555556,
              "#d8576b"
             ],
             [
              0.6666666666666666,
              "#ed7953"
             ],
             [
              0.7777777777777778,
              "#fb9f3a"
             ],
             [
              0.8888888888888888,
              "#fdca26"
             ],
             [
              1,
              "#f0f921"
             ]
            ],
            "type": "histogram2dcontour"
           }
          ],
          "mesh3d": [
           {
            "colorbar": {
             "outlinewidth": 0,
             "ticks": ""
            },
            "type": "mesh3d"
           }
          ],
          "parcoords": [
           {
            "line": {
             "colorbar": {
              "outlinewidth": 0,
              "ticks": ""
             }
            },
            "type": "parcoords"
           }
          ],
          "pie": [
           {
            "automargin": true,
            "type": "pie"
           }
          ],
          "scatter": [
           {
            "fillpattern": {
             "fillmode": "overlay",
             "size": 10,
             "solidity": 0.2
            },
            "type": "scatter"
           }
          ],
          "scatter3d": [
           {
            "line": {
             "colorbar": {
              "outlinewidth": 0,
              "ticks": ""
             }
            },
            "marker": {
             "colorbar": {
              "outlinewidth": 0,
              "ticks": ""
             }
            },
            "type": "scatter3d"
           }
          ],
          "scattercarpet": [
           {
            "marker": {
             "colorbar": {
              "outlinewidth": 0,
              "ticks": ""
             }
            },
            "type": "scattercarpet"
           }
          ],
          "scattergeo": [
           {
            "marker": {
             "colorbar": {
              "outlinewidth": 0,
              "ticks": ""
             }
            },
            "type": "scattergeo"
           }
          ],
          "scattergl": [
           {
            "marker": {
             "colorbar": {
              "outlinewidth": 0,
              "ticks": ""
             }
            },
            "type": "scattergl"
           }
          ],
          "scattermapbox": [
           {
            "marker": {
             "colorbar": {
              "outlinewidth": 0,
              "ticks": ""
             }
            },
            "type": "scattermapbox"
           }
          ],
          "scatterpolar": [
           {
            "marker": {
             "colorbar": {
              "outlinewidth": 0,
              "ticks": ""
             }
            },
            "type": "scatterpolar"
           }
          ],
          "scatterpolargl": [
           {
            "marker": {
             "colorbar": {
              "outlinewidth": 0,
              "ticks": ""
             }
            },
            "type": "scatterpolargl"
           }
          ],
          "scatterternary": [
           {
            "marker": {
             "colorbar": {
              "outlinewidth": 0,
              "ticks": ""
             }
            },
            "type": "scatterternary"
           }
          ],
          "surface": [
           {
            "colorbar": {
             "outlinewidth": 0,
             "ticks": ""
            },
            "colorscale": [
             [
              0,
              "#0d0887"
             ],
             [
              0.1111111111111111,
              "#46039f"
             ],
             [
              0.2222222222222222,
              "#7201a8"
             ],
             [
              0.3333333333333333,
              "#9c179e"
             ],
             [
              0.4444444444444444,
              "#bd3786"
             ],
             [
              0.5555555555555556,
              "#d8576b"
             ],
             [
              0.6666666666666666,
              "#ed7953"
             ],
             [
              0.7777777777777778,
              "#fb9f3a"
             ],
             [
              0.8888888888888888,
              "#fdca26"
             ],
             [
              1,
              "#f0f921"
             ]
            ],
            "type": "surface"
           }
          ],
          "table": [
           {
            "cells": {
             "fill": {
              "color": "#EBF0F8"
             },
             "line": {
              "color": "white"
             }
            },
            "header": {
             "fill": {
              "color": "#C8D4E3"
             },
             "line": {
              "color": "white"
             }
            },
            "type": "table"
           }
          ]
         },
         "layout": {
          "annotationdefaults": {
           "arrowcolor": "#2a3f5f",
           "arrowhead": 0,
           "arrowwidth": 1
          },
          "autotypenumbers": "strict",
          "coloraxis": {
           "colorbar": {
            "outlinewidth": 0,
            "ticks": ""
           }
          },
          "colorscale": {
           "diverging": [
            [
             0,
             "#8e0152"
            ],
            [
             0.1,
             "#c51b7d"
            ],
            [
             0.2,
             "#de77ae"
            ],
            [
             0.3,
             "#f1b6da"
            ],
            [
             0.4,
             "#fde0ef"
            ],
            [
             0.5,
             "#f7f7f7"
            ],
            [
             0.6,
             "#e6f5d0"
            ],
            [
             0.7,
             "#b8e186"
            ],
            [
             0.8,
             "#7fbc41"
            ],
            [
             0.9,
             "#4d9221"
            ],
            [
             1,
             "#276419"
            ]
           ],
           "sequential": [
            [
             0,
             "#0d0887"
            ],
            [
             0.1111111111111111,
             "#46039f"
            ],
            [
             0.2222222222222222,
             "#7201a8"
            ],
            [
             0.3333333333333333,
             "#9c179e"
            ],
            [
             0.4444444444444444,
             "#bd3786"
            ],
            [
             0.5555555555555556,
             "#d8576b"
            ],
            [
             0.6666666666666666,
             "#ed7953"
            ],
            [
             0.7777777777777778,
             "#fb9f3a"
            ],
            [
             0.8888888888888888,
             "#fdca26"
            ],
            [
             1,
             "#f0f921"
            ]
           ],
           "sequentialminus": [
            [
             0,
             "#0d0887"
            ],
            [
             0.1111111111111111,
             "#46039f"
            ],
            [
             0.2222222222222222,
             "#7201a8"
            ],
            [
             0.3333333333333333,
             "#9c179e"
            ],
            [
             0.4444444444444444,
             "#bd3786"
            ],
            [
             0.5555555555555556,
             "#d8576b"
            ],
            [
             0.6666666666666666,
             "#ed7953"
            ],
            [
             0.7777777777777778,
             "#fb9f3a"
            ],
            [
             0.8888888888888888,
             "#fdca26"
            ],
            [
             1,
             "#f0f921"
            ]
           ]
          },
          "colorway": [
           "#636efa",
           "#EF553B",
           "#00cc96",
           "#ab63fa",
           "#FFA15A",
           "#19d3f3",
           "#FF6692",
           "#B6E880",
           "#FF97FF",
           "#FECB52"
          ],
          "font": {
           "color": "#2a3f5f"
          },
          "geo": {
           "bgcolor": "white",
           "lakecolor": "white",
           "landcolor": "#E5ECF6",
           "showlakes": true,
           "showland": true,
           "subunitcolor": "white"
          },
          "hoverlabel": {
           "align": "left"
          },
          "hovermode": "closest",
          "mapbox": {
           "style": "light"
          },
          "paper_bgcolor": "white",
          "plot_bgcolor": "#E5ECF6",
          "polar": {
           "angularaxis": {
            "gridcolor": "white",
            "linecolor": "white",
            "ticks": ""
           },
           "bgcolor": "#E5ECF6",
           "radialaxis": {
            "gridcolor": "white",
            "linecolor": "white",
            "ticks": ""
           }
          },
          "scene": {
           "xaxis": {
            "backgroundcolor": "#E5ECF6",
            "gridcolor": "white",
            "gridwidth": 2,
            "linecolor": "white",
            "showbackground": true,
            "ticks": "",
            "zerolinecolor": "white"
           },
           "yaxis": {
            "backgroundcolor": "#E5ECF6",
            "gridcolor": "white",
            "gridwidth": 2,
            "linecolor": "white",
            "showbackground": true,
            "ticks": "",
            "zerolinecolor": "white"
           },
           "zaxis": {
            "backgroundcolor": "#E5ECF6",
            "gridcolor": "white",
            "gridwidth": 2,
            "linecolor": "white",
            "showbackground": true,
            "ticks": "",
            "zerolinecolor": "white"
           }
          },
          "shapedefaults": {
           "line": {
            "color": "#2a3f5f"
           }
          },
          "ternary": {
           "aaxis": {
            "gridcolor": "white",
            "linecolor": "white",
            "ticks": ""
           },
           "baxis": {
            "gridcolor": "white",
            "linecolor": "white",
            "ticks": ""
           },
           "bgcolor": "#E5ECF6",
           "caxis": {
            "gridcolor": "white",
            "linecolor": "white",
            "ticks": ""
           }
          },
          "title": {
           "x": 0.05
          },
          "xaxis": {
           "automargin": true,
           "gridcolor": "white",
           "linecolor": "white",
           "ticks": "",
           "title": {
            "standoff": 15
           },
           "zerolinecolor": "white",
           "zerolinewidth": 2
          },
          "yaxis": {
           "automargin": true,
           "gridcolor": "white",
           "linecolor": "white",
           "ticks": "",
           "title": {
            "standoff": 15
           },
           "zerolinecolor": "white",
           "zerolinewidth": 2
          }
         }
        }
       }
      }
     },
     "metadata": {},
     "output_type": "display_data"
    }
   ],
   "source": [
    "import plotly.graph_objects as go\n",
    "\n",
    "# Create a figure with 2 subplots\n",
    "fig = go.Figure()\n",
    "\n",
    "# Add a scatter plot to the first subplot\n",
    "fig.add_scatter(x=df1['LONGITUDE'].iloc[:100], y=df1['LATITUDE'].iloc[:100],\n",
    "                mode='markers',\n",
    "                name='Yoğunluk Based Loc')\n",
    "\n",
    "# Add a scatter plot to the second subplot\n",
    "fig.add_scatter(x=df3['LONGITUDE'][:100], y=df3['LATITUDE'][:100],\n",
    "                mode='markers',\n",
    "                name='Optimum Loc')\n",
    "\n",
    "fig.show()\n"
   ]
  },
  {
   "cell_type": "code",
   "execution_count": 62,
   "metadata": {},
   "outputs": [
    {
     "data": {
      "application/vnd.plotly.v1+json": {
       "config": {
        "plotlyServerURL": "https://plot.ly"
       },
       "data": [
        {
         "mode": "markers",
         "name": "Cluster 0",
         "type": "scatter",
         "x": [
          28.8226318359375,
          28.8116455078125,
          28.8116455078125,
          28.8116455078125,
          28.8116455078125,
          28.8116455078125,
          28.8006591796875,
          28.8116455078125,
          28.8226318359375,
          28.8006591796875,
          28.8336181640625,
          28.8226318359375,
          28.8116455078125,
          28.8116455078125,
          28.8116455078125,
          28.8116455078125,
          28.8116455078125,
          28.8226318359375,
          28.8226318359375,
          28.8116455078125,
          28.8116455078125,
          28.8006591796875,
          28.8336181640625,
          28.8116455078125,
          28.7786865234375,
          28.8116455078125,
          28.8336181640625,
          28.8336181640625,
          28.7896728515625,
          28.8116455078125,
          28.8116455078125,
          28.8116455078125,
          28.8336181640625,
          28.8116455078125,
          28.8116455078125,
          28.8006591796875,
          28.8116455078125,
          28.8116455078125,
          28.8006591796875,
          28.8116455078125,
          28.8116455078125,
          28.8116455078125,
          28.8336181640625,
          28.8116455078125,
          28.8226318359375,
          28.8006591796875,
          28.8116455078125,
          28.8336181640625,
          28.8006591796875,
          28.8116455078125,
          28.8006591796875,
          28.8336181640625,
          28.8336181640625,
          28.8336181640625,
          28.8116455078125,
          28.8116455078125,
          28.8116455078125,
          28.8006591796875,
          28.8336181640625,
          28.8116455078125,
          28.8006591796875,
          28.8006591796875,
          28.8336181640625,
          28.8116455078125,
          28.8006591796875,
          28.8336181640625,
          28.7896728515625,
          28.8116455078125,
          28.8116455078125,
          28.8116455078125,
          28.7896728515625,
          28.8336181640625,
          28.8116455078125,
          28.8006591796875,
          28.8336181640625,
          28.8116455078125,
          28.8336181640625,
          28.8116455078125,
          28.8336181640625,
          28.8116455078125,
          28.8116455078125,
          28.8116455078125,
          28.8336181640625,
          28.8006591796875,
          28.8116455078125,
          28.8116455078125,
          28.8226318359375,
          28.8226318359375,
          28.8116455078125,
          28.8116455078125,
          28.8336181640625,
          28.7896728515625,
          28.8116455078125,
          28.8116455078125,
          28.8116455078125,
          28.8336181640625,
          28.8116455078125,
          28.8116455078125,
          28.8116455078125,
          28.8116455078125,
          28.8336181640625,
          28.8116455078125,
          28.8116455078125,
          28.8116455078125,
          28.8116455078125,
          28.8336181640625,
          28.8116455078125,
          28.8116455078125,
          28.8116455078125,
          28.8006591796875,
          28.8336181640625,
          28.8336181640625,
          28.8116455078125,
          28.8116455078125,
          28.8116455078125,
          28.8006591796875,
          28.8116455078125,
          28.8336181640625,
          28.7896728515625,
          28.8336181640625,
          28.8116455078125,
          28.8116455078125,
          28.8336181640625,
          28.8336181640625,
          28.8116455078125,
          28.8116455078125,
          28.8116455078125,
          28.8116455078125,
          28.8116455078125,
          28.8116455078125,
          28.7896728515625,
          28.8446044921875,
          28.8226318359375,
          28.8116455078125,
          28.8116455078125,
          28.8116455078125,
          28.8116455078125,
          28.8116455078125,
          28.8116455078125,
          28.8116455078125,
          28.8336181640625,
          28.7896728515625,
          28.8336181640625,
          28.8116455078125,
          28.8116455078125,
          28.8006591796875,
          28.8116455078125,
          28.8336181640625,
          28.8116455078125,
          28.8116455078125,
          28.8336181640625,
          28.8116455078125,
          28.8116455078125,
          28.8116455078125,
          28.8336181640625,
          28.8116455078125,
          28.8336181640625,
          28.8116455078125,
          28.8116455078125,
          28.8116455078125,
          28.8116455078125,
          28.8116455078125,
          28.8116455078125,
          28.8116455078125,
          28.8116455078125,
          28.8116455078125,
          28.8006591796875,
          28.8116455078125,
          28.8006591796875,
          28.8006591796875,
          28.8116455078125,
          28.8116455078125,
          28.8336181640625,
          28.8116455078125,
          28.8006591796875,
          28.8336181640625,
          28.8116455078125,
          28.8336181640625,
          28.8116455078125,
          28.8336181640625,
          28.8336181640625,
          28.8116455078125,
          28.8336181640625,
          28.8116455078125,
          28.8116455078125,
          28.8336181640625,
          28.8116455078125,
          28.8336181640625,
          28.8116455078125,
          28.8336181640625,
          28.8116455078125,
          28.8116455078125,
          28.8116455078125,
          28.8116455078125,
          28.8336181640625,
          28.8116455078125,
          28.8006591796875,
          28.8116455078125,
          28.8116455078125,
          28.8116455078125,
          28.8116455078125,
          28.8006591796875,
          28.8006591796875,
          28.8006591796875,
          28.8116455078125,
          28.8116455078125,
          28.8116455078125,
          28.8116455078125,
          28.8116455078125,
          28.8336181640625,
          28.8116455078125,
          28.8116455078125,
          28.8116455078125,
          28.8116455078125,
          28.8336181640625,
          28.8116455078125,
          28.8116455078125,
          28.8336181640625,
          28.8116455078125,
          28.8116455078125,
          28.8336181640625,
          28.8116455078125,
          28.8116455078125,
          28.8006591796875,
          28.8336181640625,
          28.8336181640625,
          28.8116455078125,
          28.8006591796875,
          28.8116455078125,
          28.8116455078125,
          28.8116455078125,
          28.8116455078125,
          28.8116455078125,
          28.8116455078125,
          28.8116455078125,
          28.8116455078125,
          28.8336181640625,
          28.8336181640625,
          28.8006591796875,
          28.8116455078125,
          28.8116455078125,
          28.8116455078125,
          28.8116455078125,
          28.8116455078125,
          28.8336181640625,
          28.8116455078125,
          28.8116455078125,
          28.8116455078125,
          28.8336181640625,
          28.8116455078125,
          28.8116455078125,
          28.8116455078125,
          28.8336181640625,
          28.8116455078125,
          28.8336181640625,
          28.8116455078125,
          28.8116455078125,
          28.8446044921875,
          28.8446044921875,
          28.8116455078125,
          28.8116455078125,
          28.8006591796875,
          28.8116455078125,
          28.7896728515625,
          28.8116455078125,
          28.8336181640625,
          28.8116455078125,
          28.8116455078125,
          28.8116455078125,
          28.8336181640625,
          28.8336181640625,
          28.8116455078125,
          28.8336181640625,
          28.8116455078125,
          28.8116455078125,
          28.8226318359375,
          28.8006591796875,
          28.8116455078125,
          28.8336181640625,
          28.8116455078125,
          28.8116455078125,
          28.8116455078125,
          28.8446044921875,
          28.8116455078125,
          28.8226318359375,
          28.8116455078125,
          28.8006591796875,
          28.8116455078125,
          28.8006591796875,
          28.8116455078125,
          28.8116455078125,
          28.8116455078125,
          28.7896728515625,
          28.8116455078125,
          28.8006591796875,
          28.8336181640625,
          28.8336181640625,
          28.7896728515625,
          28.8116455078125,
          28.8116455078125,
          28.8116455078125,
          28.8006591796875,
          28.8116455078125,
          28.8116455078125,
          28.8116455078125,
          28.8226318359375,
          28.8336181640625,
          28.8116455078125,
          28.8116455078125,
          28.8116455078125,
          28.8116455078125,
          28.8116455078125,
          28.8336181640625,
          28.8336181640625,
          28.8336181640625,
          28.8336181640625,
          28.8336181640625,
          28.8446044921875,
          28.8116455078125,
          28.8116455078125,
          28.8116455078125,
          28.8116455078125,
          28.8116455078125,
          28.8116455078125,
          28.8116455078125,
          28.8006591796875,
          28.8006591796875,
          28.8116455078125,
          28.8116455078125,
          28.8116455078125,
          28.8336181640625,
          28.8336181640625,
          28.8336181640625,
          28.8116455078125,
          28.8116455078125,
          28.8116455078125,
          28.8116455078125,
          28.8116455078125,
          28.7896728515625,
          28.8116455078125,
          28.7896728515625,
          28.8116455078125,
          28.8116455078125,
          28.8116455078125,
          28.7896728515625,
          28.8336181640625,
          28.8116455078125,
          28.8006591796875,
          28.8116455078125,
          28.8116455078125,
          28.8116455078125,
          28.8336181640625,
          28.8116455078125,
          28.8116455078125,
          28.8116455078125,
          28.8116455078125,
          28.8336181640625,
          28.8116455078125,
          28.8116455078125,
          28.8116455078125,
          28.8116455078125,
          28.8116455078125,
          28.8116455078125,
          28.8336181640625,
          28.8116455078125,
          28.8336181640625,
          28.8116455078125,
          28.8336181640625,
          28.8116455078125,
          28.8116455078125,
          28.8116455078125,
          28.8116455078125,
          28.8116455078125,
          28.8116455078125,
          28.8116455078125,
          28.8116455078125,
          28.8116455078125,
          28.8116455078125,
          28.8116455078125,
          28.8006591796875,
          28.8116455078125,
          28.8006591796875,
          28.8116455078125,
          28.8226318359375,
          28.8116455078125,
          28.8116455078125,
          28.8336181640625,
          28.8116455078125,
          28.8116455078125,
          28.8116455078125,
          28.8116455078125,
          28.8006591796875,
          28.8336181640625,
          28.8116455078125,
          28.8006591796875,
          28.8336181640625,
          28.8116455078125,
          28.8116455078125,
          28.8116455078125,
          28.8116455078125,
          28.8006591796875,
          28.8006591796875,
          28.8116455078125,
          28.8116455078125,
          28.8116455078125,
          28.8116455078125,
          28.8116455078125,
          28.8116455078125,
          28.8116455078125,
          28.8116455078125,
          28.8116455078125,
          28.8006591796875,
          28.8006591796875,
          28.8116455078125,
          28.8336181640625,
          28.8336181640625,
          28.8116455078125,
          28.8006591796875,
          28.8116455078125,
          28.8336181640625,
          28.8116455078125,
          28.8116455078125,
          28.8006591796875,
          28.8116455078125,
          28.8006591796875,
          28.8336181640625,
          28.8116455078125,
          28.8116455078125,
          28.8116455078125,
          28.7896728515625,
          28.8116455078125,
          28.8116455078125,
          28.8116455078125,
          28.8116455078125,
          28.8116455078125,
          28.8116455078125,
          28.8116455078125,
          28.8116455078125,
          28.8336181640625,
          28.8116455078125,
          28.8116455078125,
          28.8116455078125,
          28.8116455078125,
          28.8116455078125,
          28.8006591796875,
          28.8336181640625,
          28.8006591796875,
          28.8226318359375,
          28.8116455078125,
          28.8116455078125,
          28.8116455078125,
          28.8226318359375,
          28.7896728515625,
          28.8226318359375,
          28.8336181640625,
          28.8336181640625,
          28.7896728515625,
          28.8006591796875,
          28.8116455078125,
          28.8336181640625,
          28.8116455078125,
          28.8116455078125,
          28.8116455078125,
          28.8006591796875,
          28.8336181640625,
          28.8116455078125,
          28.8116455078125,
          28.8116455078125,
          28.8116455078125,
          28.8116455078125,
          28.8116455078125,
          28.8336181640625,
          28.8116455078125,
          28.8336181640625,
          28.8336181640625,
          28.8116455078125,
          28.8116455078125,
          28.8116455078125,
          28.8336181640625,
          28.8336181640625,
          28.8116455078125,
          28.8226318359375,
          28.8336181640625,
          28.8116455078125,
          28.8336181640625,
          28.8116455078125,
          28.8226318359375,
          28.8116455078125,
          28.8116455078125,
          28.8116455078125,
          28.8116455078125,
          28.8116455078125,
          28.8226318359375,
          28.8336181640625,
          28.8116455078125,
          28.8006591796875,
          28.8116455078125,
          28.7896728515625,
          28.8116455078125,
          28.8116455078125,
          28.8116455078125,
          28.8006591796875,
          28.8336181640625,
          28.7896728515625,
          28.8116455078125,
          28.8116455078125,
          28.8116455078125,
          28.8116455078125,
          28.8116455078125,
          28.8116455078125,
          28.8116455078125,
          28.7896728515625,
          28.8336181640625,
          28.8116455078125,
          28.8336181640625,
          28.8006591796875,
          28.8336181640625,
          28.8006591796875,
          28.8116455078125,
          28.8446044921875,
          28.8336181640625,
          28.8116455078125,
          28.8116455078125,
          28.8116455078125,
          28.8006591796875,
          28.8226318359375,
          28.8116455078125,
          28.8116455078125,
          28.8116455078125,
          28.8336181640625,
          28.8116455078125,
          28.7896728515625,
          28.8336181640625,
          28.8116455078125,
          28.8006591796875,
          28.8116455078125,
          28.8006591796875,
          28.8336181640625,
          28.8336181640625,
          28.8116455078125,
          28.8116455078125,
          28.8116455078125,
          28.8116455078125,
          28.8116455078125,
          28.8116455078125,
          28.8116455078125,
          28.8116455078125,
          28.8116455078125,
          28.8116455078125,
          28.8116455078125,
          28.8116455078125,
          28.8116455078125,
          28.8336181640625,
          28.8116455078125,
          28.8336181640625,
          28.8226318359375,
          28.8336181640625,
          28.8006591796875,
          28.8116455078125,
          28.8336181640625,
          28.8336181640625,
          28.8116455078125,
          28.7896728515625,
          28.8116455078125,
          28.8116455078125,
          28.8006591796875,
          28.8116455078125,
          28.7896728515625,
          28.8116455078125,
          28.8116455078125,
          28.8116455078125,
          28.8116455078125,
          28.8116455078125,
          28.8336181640625,
          28.8116455078125,
          28.8116455078125,
          28.8116455078125,
          28.8116455078125,
          28.8116455078125,
          28.8116455078125,
          28.8116455078125,
          28.8116455078125,
          28.8116455078125,
          28.8336181640625,
          28.8336181640625,
          28.8116455078125,
          28.8116455078125,
          28.8116455078125,
          28.8116455078125,
          28.8116455078125,
          28.8116455078125,
          28.8116455078125,
          28.8116455078125,
          28.8116455078125,
          28.8006591796875,
          28.8116455078125,
          28.7896728515625,
          28.8116455078125,
          28.8006591796875,
          28.8006591796875,
          28.8006591796875,
          28.8116455078125,
          28.8336181640625,
          28.8336181640625,
          28.8116455078125,
          28.8116455078125,
          28.8116455078125,
          28.8116455078125,
          28.8116455078125,
          28.8116455078125,
          28.8006591796875,
          28.8116455078125,
          28.8116455078125,
          28.8116455078125,
          28.8116455078125,
          28.8116455078125,
          28.8116455078125,
          28.8116455078125,
          28.8116455078125,
          28.8006591796875,
          28.8336181640625,
          28.8116455078125,
          28.8226318359375,
          28.8336181640625,
          28.8116455078125,
          28.8116455078125,
          28.8006591796875,
          28.8336181640625,
          28.7896728515625,
          28.7896728515625,
          28.8336181640625,
          28.8116455078125,
          28.8336181640625,
          28.8116455078125,
          28.8116455078125,
          28.8336181640625,
          28.8116455078125,
          28.8116455078125,
          28.8336181640625,
          28.8116455078125,
          28.8116455078125,
          28.8116455078125,
          28.8116455078125,
          28.8116455078125,
          28.8006591796875,
          28.8116455078125,
          28.8006591796875,
          28.8116455078125,
          28.8116455078125,
          28.8336181640625,
          28.8006591796875,
          28.8116455078125,
          28.8336181640625,
          28.8006591796875,
          28.8116455078125,
          28.8116455078125,
          28.8006591796875,
          28.8116455078125,
          28.8116455078125,
          28.8116455078125,
          28.8116455078125,
          28.8336181640625,
          28.8116455078125,
          28.8116455078125,
          28.8336181640625,
          28.8116455078125,
          28.8116455078125,
          28.8116455078125,
          28.7786865234375,
          28.8226318359375,
          28.8116455078125,
          28.8006591796875,
          28.8116455078125,
          28.8336181640625,
          28.8116455078125,
          28.8116455078125,
          28.8336181640625,
          28.8006591796875,
          28.8116455078125,
          28.8336181640625,
          28.8116455078125,
          28.8116455078125,
          28.8116455078125,
          28.8116455078125,
          28.8116455078125,
          28.8116455078125,
          28.8116455078125,
          28.8116455078125,
          28.7896728515625,
          28.8006591796875,
          28.8116455078125,
          28.8116455078125,
          28.8116455078125,
          28.8116455078125,
          28.8116455078125,
          28.8116455078125,
          28.8006591796875,
          28.8336181640625,
          28.8336181640625,
          28.8116455078125,
          28.8116455078125,
          28.8226318359375,
          28.8336181640625,
          28.8116455078125,
          28.8116455078125,
          28.8006591796875,
          28.8116455078125,
          28.8116455078125,
          28.8116455078125,
          28.8116455078125,
          28.8336181640625,
          28.8116455078125,
          28.8116455078125,
          28.8116455078125,
          28.8336181640625,
          28.8116455078125,
          28.8116455078125,
          28.8336181640625,
          28.8336181640625,
          28.8336181640625,
          28.8116455078125,
          28.8116455078125,
          28.8116455078125,
          28.8116455078125,
          28.8116455078125,
          28.8116455078125,
          28.8116455078125,
          28.8116455078125,
          28.8116455078125,
          28.8226318359375,
          28.8116455078125,
          28.8226318359375,
          28.8006591796875,
          28.8116455078125,
          28.8116455078125,
          28.8336181640625,
          28.8116455078125,
          28.8116455078125,
          28.8116455078125,
          28.8116455078125,
          28.8336181640625,
          28.8336181640625,
          28.8006591796875,
          28.8116455078125,
          28.8006591796875,
          28.8116455078125,
          28.8116455078125,
          28.7896728515625,
          28.8336181640625,
          28.8116455078125,
          28.8336181640625,
          28.8116455078125,
          28.8116455078125,
          28.7896728515625,
          28.8336181640625,
          28.8116455078125,
          28.8116455078125,
          28.8006591796875,
          28.8116455078125,
          28.8116455078125,
          28.7896728515625,
          28.8336181640625,
          28.8116455078125,
          28.8336181640625,
          28.8116455078125,
          28.8116455078125,
          28.8336181640625,
          28.8336181640625,
          28.8116455078125,
          28.8006591796875,
          28.8006591796875,
          28.8116455078125,
          28.8336181640625,
          28.8116455078125,
          28.7896728515625,
          28.8006591796875,
          28.8116455078125,
          28.8336181640625,
          28.8226318359375,
          28.8116455078125,
          28.8116455078125,
          28.8116455078125,
          28.8006591796875,
          28.8116455078125,
          28.7896728515625,
          28.8116455078125,
          28.8336181640625,
          28.8116455078125,
          28.8006591796875,
          28.8116455078125,
          28.8336181640625,
          28.8336181640625,
          28.8336181640625,
          28.8116455078125,
          28.8116455078125,
          28.8116455078125,
          28.8006591796875,
          28.8006591796875,
          28.8226318359375,
          28.8116455078125,
          28.8336181640625,
          28.8116455078125,
          28.8116455078125,
          28.8116455078125,
          28.8116455078125,
          28.8116455078125,
          28.8116455078125,
          28.8116455078125
         ],
         "y": [
          41.0641479492188,
          41.0256958007812,
          41.0586547851562,
          41.0641479492188,
          41.0586547851562,
          41.0476684570312,
          41.0641479492188,
          41.0476684570312,
          41.0641479492188,
          41.0641479492188,
          41.0641479492188,
          41.0641479492188,
          41.0641479492188,
          41.0641479492188,
          41.0256958007812,
          41.0641479492188,
          41.0256958007812,
          41.0641479492188,
          41.0641479492188,
          41.0641479492188,
          41.0586547851562,
          41.0641479492188,
          41.0641479492188,
          41.0641479492188,
          41.0641479492188,
          41.0256958007812,
          41.0641479492188,
          41.0641479492188,
          41.0641479492188,
          41.0641479492188,
          41.0641479492188,
          41.0641479492188,
          41.0641479492188,
          41.0641479492188,
          41.0586547851562,
          41.0641479492188,
          41.0586547851562,
          41.0641479492188,
          41.0641479492188,
          41.0641479492188,
          41.0641479492188,
          41.0586547851562,
          41.0641479492188,
          41.0641479492188,
          41.0641479492188,
          41.0641479492188,
          41.0641479492188,
          41.0641479492188,
          41.0641479492188,
          41.0586547851562,
          41.0641479492188,
          41.0641479492188,
          41.0641479492188,
          41.0641479492188,
          41.0256958007812,
          41.0641479492188,
          41.0641479492188,
          41.0641479492188,
          41.0641479492188,
          41.0586547851562,
          41.0641479492188,
          41.0641479492188,
          41.0641479492188,
          41.0256958007812,
          41.0641479492188,
          41.0641479492188,
          41.0641479492188,
          41.0586547851562,
          41.0586547851562,
          41.0641479492188,
          41.0641479492188,
          41.0641479492188,
          41.0641479492188,
          41.0641479492188,
          41.0641479492188,
          41.0641479492188,
          41.0641479492188,
          41.0256958007812,
          41.0641479492188,
          41.0641479492188,
          41.0641479492188,
          41.0256958007812,
          41.0641479492188,
          41.0641479492188,
          41.0256958007812,
          41.0641479492188,
          41.0641479492188,
          41.0641479492188,
          41.0586547851562,
          41.0586547851562,
          41.0641479492188,
          41.0641479492188,
          41.0256958007812,
          41.0641479492188,
          41.0256958007812,
          41.0641479492188,
          41.0476684570312,
          41.0586547851562,
          41.0641479492188,
          41.0641479492188,
          41.0641479492188,
          41.0256958007812,
          41.0476684570312,
          41.0586547851562,
          41.0641479492188,
          41.0641479492188,
          41.0476684570312,
          41.0476684570312,
          41.0256958007812,
          41.0641479492188,
          41.0641479492188,
          41.0641479492188,
          41.0586547851562,
          41.0586547851562,
          41.0256958007812,
          41.0641479492188,
          41.0641479492188,
          41.0641479492188,
          41.0641479492188,
          41.0641479492188,
          41.0586547851562,
          41.0586547851562,
          41.0641479492188,
          41.0641479492188,
          41.0476684570312,
          41.0586547851562,
          41.0586547851562,
          41.0641479492188,
          41.0586547851562,
          41.0586547851562,
          41.0641479492188,
          41.0586547851562,
          41.0641479492188,
          41.0586547851562,
          41.0586547851562,
          41.0476684570312,
          41.0586547851562,
          41.0641479492188,
          41.0641479492188,
          41.0641479492188,
          41.0641479492188,
          41.0641479492188,
          41.0641479492188,
          41.0476684570312,
          41.0641479492188,
          41.0641479492188,
          41.0641479492188,
          41.0641479492188,
          41.0586547851562,
          41.0586547851562,
          41.0641479492188,
          41.0476684570312,
          41.0476684570312,
          41.0586547851562,
          41.0641479492188,
          41.0641479492188,
          41.0641479492188,
          41.0586547851562,
          41.0641479492188,
          41.0641479492188,
          41.0641479492188,
          41.0641479492188,
          41.0641479492188,
          41.0586547851562,
          41.0641479492188,
          41.0641479492188,
          41.0641479492188,
          41.0586547851562,
          41.0641479492188,
          41.0641479492188,
          41.0641479492188,
          41.0476684570312,
          41.0641479492188,
          41.0641479492188,
          41.0641479492188,
          41.0641479492188,
          41.0256958007812,
          41.0641479492188,
          41.0641479492188,
          41.0641479492188,
          41.0641479492188,
          41.0586547851562,
          41.0641479492188,
          41.0641479492188,
          41.0256958007812,
          41.0641479492188,
          41.0256958007812,
          41.0641479492188,
          41.0641479492188,
          41.0641479492188,
          41.0586547851562,
          41.0586547851562,
          41.0586547851562,
          41.0641479492188,
          41.0641479492188,
          41.0586547851562,
          41.0641479492188,
          41.0641479492188,
          41.0586547851562,
          41.0476684570312,
          41.0256958007812,
          41.0641479492188,
          41.0641479492188,
          41.0641479492188,
          41.0586547851562,
          41.0641479492188,
          41.0586547851562,
          41.0586547851562,
          41.0586547851562,
          41.0641479492188,
          41.0256958007812,
          41.0586547851562,
          41.0256958007812,
          41.0586547851562,
          41.0641479492188,
          41.0586547851562,
          41.0641479492188,
          41.0641479492188,
          41.0641479492188,
          41.0641479492188,
          41.0641479492188,
          41.0586547851562,
          41.0586547851562,
          41.0641479492188,
          41.0641479492188,
          41.0641479492188,
          41.0586547851562,
          41.0641479492188,
          41.0476684570312,
          41.0641479492188,
          41.0641479492188,
          41.0586547851562,
          41.0586547851562,
          41.0641479492188,
          41.0641479492188,
          41.0586547851562,
          41.0641479492188,
          41.0641479492188,
          41.0641479492188,
          41.0641479492188,
          41.0586547851562,
          41.0256958007812,
          41.0476684570312,
          41.0256958007812,
          41.0641479492188,
          41.0586547851562,
          41.0641479492188,
          41.0641479492188,
          41.0641479492188,
          41.0641479492188,
          41.0586547851562,
          41.0641479492188,
          41.0641479492188,
          41.0586547851562,
          41.0641479492188,
          41.0586547851562,
          41.0586547851562,
          41.0641479492188,
          41.0586547851562,
          41.0641479492188,
          41.0641479492188,
          41.0641479492188,
          41.0641479492188,
          41.0641479492188,
          41.0586547851562,
          41.0641479492188,
          41.0586547851562,
          41.0641479492188,
          41.0641479492188,
          41.0641479492188,
          41.0641479492188,
          41.0256958007812,
          41.0641479492188,
          41.0256958007812,
          41.0586547851562,
          41.0641479492188,
          41.0641479492188,
          41.0641479492188,
          41.0641479492188,
          41.0586547851562,
          41.0586547851562,
          41.0256958007812,
          41.0641479492188,
          41.0641479492188,
          41.0641479492188,
          41.0586547851562,
          41.0641479492188,
          41.0586547851562,
          41.0641479492188,
          41.0586547851562,
          41.0256958007812,
          41.0641479492188,
          41.0641479492188,
          41.0586547851562,
          41.0641479492188,
          41.0641479492188,
          41.0641479492188,
          41.0641479492188,
          41.0641479492188,
          41.0586547851562,
          41.0586547851562,
          41.0641479492188,
          41.0586547851562,
          41.0476684570312,
          41.0641479492188,
          41.0641479492188,
          41.0641479492188,
          41.0256958007812,
          41.0641479492188,
          41.0256958007812,
          41.0256958007812,
          41.0476684570312,
          41.0641479492188,
          41.0641479492188,
          41.0641479492188,
          41.0641479492188,
          41.0641479492188,
          41.0641479492188,
          41.0586547851562,
          41.0586547851562,
          41.0641479492188,
          41.0586547851562,
          41.0641479492188,
          41.0256958007812,
          41.0641479492188,
          41.0641479492188,
          41.0641479492188,
          41.0476684570312,
          41.0586547851562,
          41.0476684570312,
          41.0641479492188,
          41.0641479492188,
          41.0641479492188,
          41.0586547851562,
          41.0586547851562,
          41.0586547851562,
          41.0641479492188,
          41.0641479492188,
          41.0641479492188,
          41.0641479492188,
          41.0641479492188,
          41.0641479492188,
          41.0641479492188,
          41.0586547851562,
          41.0641479492188,
          41.0641479492188,
          41.0256958007812,
          41.0641479492188,
          41.0586547851562,
          41.0586547851562,
          41.0641479492188,
          41.0641479492188,
          41.0586547851562,
          41.0641479492188,
          41.0586547851562,
          41.0641479492188,
          41.0641479492188,
          41.0256958007812,
          41.0586547851562,
          41.0641479492188,
          41.0586547851562,
          41.0641479492188,
          41.0641479492188,
          41.0641479492188,
          41.0586547851562,
          41.0641479492188,
          41.0641479492188,
          41.0641479492188,
          41.0476684570312,
          41.0586547851562,
          41.0641479492188,
          41.0476684570312,
          41.0586547851562,
          41.0256958007812,
          41.0476684570312,
          41.0586547851562,
          41.0641479492188,
          41.0641479492188,
          41.0641479492188,
          41.0641479492188,
          41.0641479492188,
          41.0641479492188,
          41.0641479492188,
          41.0641479492188,
          41.0641479492188,
          41.0641479492188,
          41.0641479492188,
          41.0641479492188,
          41.0256958007812,
          41.0586547851562,
          41.0586547851562,
          41.0641479492188,
          41.0641479492188,
          41.0641479492188,
          41.0641479492188,
          41.0641479492188,
          41.0586547851562,
          41.0586547851562,
          41.0586547851562,
          41.0641479492188,
          41.0641479492188,
          41.0641479492188,
          41.0586547851562,
          41.0641479492188,
          41.0641479492188,
          41.0586547851562,
          41.0476684570312,
          41.0641479492188,
          41.0641479492188,
          41.0641479492188,
          41.0586547851562,
          41.0641479492188,
          41.0641479492188,
          41.0586547851562,
          41.0641479492188,
          41.0641479492188,
          41.0476684570312,
          41.0641479492188,
          41.0641479492188,
          41.0641479492188,
          41.0641479492188,
          41.0641479492188,
          41.0641479492188,
          41.0641479492188,
          41.0641479492188,
          41.0641479492188,
          41.0256958007812,
          41.0641479492188,
          41.0641479492188,
          41.0641479492188,
          41.0641479492188,
          41.0641479492188,
          41.0586547851562,
          41.0256958007812,
          41.0641479492188,
          41.0586547851562,
          41.0256958007812,
          41.0256958007812,
          41.0641479492188,
          41.0641479492188,
          41.0641479492188,
          41.0256958007812,
          41.0476684570312,
          41.0476684570312,
          41.0641479492188,
          41.0641479492188,
          41.0641479492188,
          41.0641479492188,
          41.0641479492188,
          41.0476684570312,
          41.0641479492188,
          41.0641479492188,
          41.0641479492188,
          41.0641479492188,
          41.0641479492188,
          41.0641479492188,
          41.0641479492188,
          41.0641479492188,
          41.0641479492188,
          41.0641479492188,
          41.0256958007812,
          41.0476684570312,
          41.0641479492188,
          41.0641479492188,
          41.0641479492188,
          41.0256958007812,
          41.0256958007812,
          41.0256958007812,
          41.0476684570312,
          41.0586547851562,
          41.0256958007812,
          41.0641479492188,
          41.0641479492188,
          41.0641479492188,
          41.0641479492188,
          41.0256958007812,
          41.0476684570312,
          41.0586547851562,
          41.0641479492188,
          41.0641479492188,
          41.0641479492188,
          41.0641479492188,
          41.0641479492188,
          41.0641479492188,
          41.0641479492188,
          41.0641479492188,
          41.0641479492188,
          41.0641479492188,
          41.0641479492188,
          41.0586547851562,
          41.0641479492188,
          41.0586547851562,
          41.0641479492188,
          41.0641479492188,
          41.0586547851562,
          41.0641479492188,
          41.0586547851562,
          41.0641479492188,
          41.0641479492188,
          41.0641479492188,
          41.0641479492188,
          41.0641479492188,
          41.0641479492188,
          41.0641479492188,
          41.0256958007812,
          41.0641479492188,
          41.0586547851562,
          41.0256958007812,
          41.0586547851562,
          41.0586547851562,
          41.0586547851562,
          41.0641479492188,
          41.0641479492188,
          41.0586547851562,
          41.0641479492188,
          41.0641479492188,
          41.0641479492188,
          41.0641479492188,
          41.0476684570312,
          41.0586547851562,
          41.0641479492188,
          41.0256958007812,
          41.0641479492188,
          41.0476684570312,
          41.0641479492188,
          41.0641479492188,
          41.0586547851562,
          41.0641479492188,
          41.0586547851562,
          41.0641479492188,
          41.0586547851562,
          41.0641479492188,
          41.0641479492188,
          41.0586547851562,
          41.0641479492188,
          41.0641479492188,
          41.0641479492188,
          41.0641479492188,
          41.0641479492188,
          41.0641479492188,
          41.0641479492188,
          41.0641479492188,
          41.0641479492188,
          41.0256958007812,
          41.0641479492188,
          41.0641479492188,
          41.0641479492188,
          41.0256958007812,
          41.0586547851562,
          41.0586547851562,
          41.0641479492188,
          41.0586547851562,
          41.0641479492188,
          41.0476684570312,
          41.0641479492188,
          41.0641479492188,
          41.0641479492188,
          41.0641479492188,
          41.0641479492188,
          41.0641479492188,
          41.0641479492188,
          41.0641479492188,
          41.0641479492188,
          41.0586547851562,
          41.0641479492188,
          41.0641479492188,
          41.0641479492188,
          41.0641479492188,
          41.0586547851562,
          41.0641479492188,
          41.0586547851562,
          41.0256958007812,
          41.0311889648438,
          41.0641479492188,
          41.0586547851562,
          41.0586547851562,
          41.0586547851562,
          41.0586547851562,
          41.0641479492188,
          41.0641479492188,
          41.0586547851562,
          41.0586547851562,
          41.0586547851562,
          41.0641479492188,
          41.0641479492188,
          41.0586547851562,
          41.0641479492188,
          41.0641479492188,
          41.0641479492188,
          41.0256958007812,
          41.0586547851562,
          41.0586547851562,
          41.0641479492188,
          41.0641479492188,
          41.0641479492188,
          41.0256958007812,
          41.0641479492188,
          41.0641479492188,
          41.0641479492188,
          41.0641479492188,
          41.0641479492188,
          41.0641479492188,
          41.0641479492188,
          41.0641479492188,
          41.0641479492188,
          41.0641479492188,
          41.0641479492188,
          41.0641479492188,
          41.0256958007812,
          41.0586547851562,
          41.0641479492188,
          41.0641479492188,
          41.0476684570312,
          41.0641479492188,
          41.0641479492188,
          41.0586547851562,
          41.0641479492188,
          41.0256958007812,
          41.0641479492188,
          41.0641479492188,
          41.0641479492188,
          41.0476684570312,
          41.0641479492188,
          41.0641479492188,
          41.0586547851562,
          41.0641479492188,
          41.0641479492188,
          41.0641479492188,
          41.0641479492188,
          41.0641479492188,
          41.0641479492188,
          41.0641479492188,
          41.0641479492188,
          41.0641479492188,
          41.0586547851562,
          41.0641479492188,
          41.0586547851562,
          41.0586547851562,
          41.0641479492188,
          41.0586547851562,
          41.0586547851562,
          41.0641479492188,
          41.0586547851562,
          41.0641479492188,
          41.0641479492188,
          41.0641479492188,
          41.0641479492188,
          41.0641479492188,
          41.0256958007812,
          41.0641479492188,
          41.0641479492188,
          41.0641479492188,
          41.0641479492188,
          41.0641479492188,
          41.0641479492188,
          41.0586547851562,
          41.0641479492188,
          41.0586547851562,
          41.0641479492188,
          41.0476684570312,
          41.0641479492188,
          41.0641479492188,
          41.0586547851562,
          41.0641479492188,
          41.0641479492188,
          41.0641479492188,
          41.0641479492188,
          41.0641479492188,
          41.0641479492188,
          41.0641479492188,
          41.0476684570312,
          41.0641479492188,
          41.0586547851562,
          41.0641479492188,
          41.0641479492188,
          41.0256958007812,
          41.0641479492188,
          41.0641479492188,
          41.0586547851562,
          41.0641479492188,
          41.0641479492188,
          41.0641479492188,
          41.0586547851562,
          41.0641479492188,
          41.0476684570312,
          41.0256958007812,
          41.0256958007812,
          41.0586547851562,
          41.0641479492188,
          41.0641479492188,
          41.0641479492188,
          41.0641479492188,
          41.0476684570312,
          41.0641479492188,
          41.0586547851562,
          41.0641479492188,
          41.0641479492188,
          41.0641479492188,
          41.0641479492188,
          41.0586547851562,
          41.0641479492188,
          41.0641479492188,
          41.0641479492188,
          41.0476684570312,
          41.0586547851562,
          41.0641479492188,
          41.0586547851562,
          41.0476684570312,
          41.0641479492188,
          41.0641479492188,
          41.0641479492188,
          41.0256958007812,
          41.0586547851562,
          41.0586547851562,
          41.0641479492188,
          41.0641479492188,
          41.0256958007812,
          41.0641479492188,
          41.0641479492188,
          41.0641479492188,
          41.0641479492188,
          41.0586547851562,
          41.0641479492188,
          41.0641479492188,
          41.0586547851562,
          41.0641479492188,
          41.0586547851562,
          41.0641479492188,
          41.0586547851562,
          41.0641479492188,
          41.0641479492188,
          41.0641479492188,
          41.0641479492188,
          41.0256958007812,
          41.0256958007812,
          41.0641479492188,
          41.0641479492188,
          41.0256958007812,
          41.0586547851562,
          41.0641479492188,
          41.0641479492188,
          41.0641479492188,
          41.0641479492188,
          41.0641479492188,
          41.0641479492188,
          41.0586547851562,
          41.0641479492188,
          41.0641479492188,
          41.0641479492188,
          41.0641479492188,
          41.0641479492188,
          41.0641479492188,
          41.0641479492188,
          41.0641479492188,
          41.0641479492188,
          41.0641479492188,
          41.0256958007812,
          41.0641479492188,
          41.0641479492188,
          41.0641479492188,
          41.0641479492188,
          41.0641479492188,
          41.0641479492188,
          41.0641479492188,
          41.0256958007812,
          41.0256958007812,
          41.0641479492188,
          41.0641479492188,
          41.0586547851562,
          41.0641479492188,
          41.0641479492188,
          41.0586547851562,
          41.0641479492188,
          41.0256958007812,
          41.0641479492188,
          41.0641479492188,
          41.0586547851562,
          41.0641479492188,
          41.0641479492188,
          41.0641479492188,
          41.0586547851562,
          41.0586547851562,
          41.0641479492188,
          41.0641479492188,
          41.0641479492188,
          41.0256958007812,
          41.0641479492188,
          41.0641479492188,
          41.0641479492188,
          41.0641479492188,
          41.0641479492188,
          41.0641479492188,
          41.0641479492188,
          41.0641479492188,
          41.0586547851562,
          41.0641479492188,
          41.0641479492188,
          41.0641479492188,
          41.0641479492188,
          41.0641479492188,
          41.0641479492188,
          41.0476684570312,
          41.0586547851562,
          41.0476684570312,
          41.0586547851562,
          41.0586547851562,
          41.0586547851562,
          41.0641479492188
         ]
        },
        {
         "mode": "markers",
         "name": "Cluster 1",
         "type": "scatter",
         "x": [
          28.7237548828125,
          28.7457275390625,
          28.7677001953125,
          28.7347412109375,
          28.7347412109375,
          28.7347412109375,
          28.7237548828125,
          28.7017822265625,
          28.7237548828125,
          28.7237548828125,
          28.7457275390625,
          28.7237548828125,
          28.7457275390625,
          28.7237548828125,
          28.7017822265625
         ],
         "y": [
          41.0531616210938,
          41.0641479492188,
          41.0641479492188,
          41.0586547851562,
          41.0586547851562,
          41.0586547851562,
          41.0531616210938,
          41.0586547851562,
          41.0531616210938,
          41.0531616210938,
          41.0641479492188,
          41.0531616210938,
          41.0641479492188,
          41.0531616210938,
          41.0586547851562
         ]
        }
       ],
       "layout": {
        "template": {
         "data": {
          "bar": [
           {
            "error_x": {
             "color": "#2a3f5f"
            },
            "error_y": {
             "color": "#2a3f5f"
            },
            "marker": {
             "line": {
              "color": "#E5ECF6",
              "width": 0.5
             },
             "pattern": {
              "fillmode": "overlay",
              "size": 10,
              "solidity": 0.2
             }
            },
            "type": "bar"
           }
          ],
          "barpolar": [
           {
            "marker": {
             "line": {
              "color": "#E5ECF6",
              "width": 0.5
             },
             "pattern": {
              "fillmode": "overlay",
              "size": 10,
              "solidity": 0.2
             }
            },
            "type": "barpolar"
           }
          ],
          "carpet": [
           {
            "aaxis": {
             "endlinecolor": "#2a3f5f",
             "gridcolor": "white",
             "linecolor": "white",
             "minorgridcolor": "white",
             "startlinecolor": "#2a3f5f"
            },
            "baxis": {
             "endlinecolor": "#2a3f5f",
             "gridcolor": "white",
             "linecolor": "white",
             "minorgridcolor": "white",
             "startlinecolor": "#2a3f5f"
            },
            "type": "carpet"
           }
          ],
          "choropleth": [
           {
            "colorbar": {
             "outlinewidth": 0,
             "ticks": ""
            },
            "type": "choropleth"
           }
          ],
          "contour": [
           {
            "colorbar": {
             "outlinewidth": 0,
             "ticks": ""
            },
            "colorscale": [
             [
              0,
              "#0d0887"
             ],
             [
              0.1111111111111111,
              "#46039f"
             ],
             [
              0.2222222222222222,
              "#7201a8"
             ],
             [
              0.3333333333333333,
              "#9c179e"
             ],
             [
              0.4444444444444444,
              "#bd3786"
             ],
             [
              0.5555555555555556,
              "#d8576b"
             ],
             [
              0.6666666666666666,
              "#ed7953"
             ],
             [
              0.7777777777777778,
              "#fb9f3a"
             ],
             [
              0.8888888888888888,
              "#fdca26"
             ],
             [
              1,
              "#f0f921"
             ]
            ],
            "type": "contour"
           }
          ],
          "contourcarpet": [
           {
            "colorbar": {
             "outlinewidth": 0,
             "ticks": ""
            },
            "type": "contourcarpet"
           }
          ],
          "heatmap": [
           {
            "colorbar": {
             "outlinewidth": 0,
             "ticks": ""
            },
            "colorscale": [
             [
              0,
              "#0d0887"
             ],
             [
              0.1111111111111111,
              "#46039f"
             ],
             [
              0.2222222222222222,
              "#7201a8"
             ],
             [
              0.3333333333333333,
              "#9c179e"
             ],
             [
              0.4444444444444444,
              "#bd3786"
             ],
             [
              0.5555555555555556,
              "#d8576b"
             ],
             [
              0.6666666666666666,
              "#ed7953"
             ],
             [
              0.7777777777777778,
              "#fb9f3a"
             ],
             [
              0.8888888888888888,
              "#fdca26"
             ],
             [
              1,
              "#f0f921"
             ]
            ],
            "type": "heatmap"
           }
          ],
          "heatmapgl": [
           {
            "colorbar": {
             "outlinewidth": 0,
             "ticks": ""
            },
            "colorscale": [
             [
              0,
              "#0d0887"
             ],
             [
              0.1111111111111111,
              "#46039f"
             ],
             [
              0.2222222222222222,
              "#7201a8"
             ],
             [
              0.3333333333333333,
              "#9c179e"
             ],
             [
              0.4444444444444444,
              "#bd3786"
             ],
             [
              0.5555555555555556,
              "#d8576b"
             ],
             [
              0.6666666666666666,
              "#ed7953"
             ],
             [
              0.7777777777777778,
              "#fb9f3a"
             ],
             [
              0.8888888888888888,
              "#fdca26"
             ],
             [
              1,
              "#f0f921"
             ]
            ],
            "type": "heatmapgl"
           }
          ],
          "histogram": [
           {
            "marker": {
             "pattern": {
              "fillmode": "overlay",
              "size": 10,
              "solidity": 0.2
             }
            },
            "type": "histogram"
           }
          ],
          "histogram2d": [
           {
            "colorbar": {
             "outlinewidth": 0,
             "ticks": ""
            },
            "colorscale": [
             [
              0,
              "#0d0887"
             ],
             [
              0.1111111111111111,
              "#46039f"
             ],
             [
              0.2222222222222222,
              "#7201a8"
             ],
             [
              0.3333333333333333,
              "#9c179e"
             ],
             [
              0.4444444444444444,
              "#bd3786"
             ],
             [
              0.5555555555555556,
              "#d8576b"
             ],
             [
              0.6666666666666666,
              "#ed7953"
             ],
             [
              0.7777777777777778,
              "#fb9f3a"
             ],
             [
              0.8888888888888888,
              "#fdca26"
             ],
             [
              1,
              "#f0f921"
             ]
            ],
            "type": "histogram2d"
           }
          ],
          "histogram2dcontour": [
           {
            "colorbar": {
             "outlinewidth": 0,
             "ticks": ""
            },
            "colorscale": [
             [
              0,
              "#0d0887"
             ],
             [
              0.1111111111111111,
              "#46039f"
             ],
             [
              0.2222222222222222,
              "#7201a8"
             ],
             [
              0.3333333333333333,
              "#9c179e"
             ],
             [
              0.4444444444444444,
              "#bd3786"
             ],
             [
              0.5555555555555556,
              "#d8576b"
             ],
             [
              0.6666666666666666,
              "#ed7953"
             ],
             [
              0.7777777777777778,
              "#fb9f3a"
             ],
             [
              0.8888888888888888,
              "#fdca26"
             ],
             [
              1,
              "#f0f921"
             ]
            ],
            "type": "histogram2dcontour"
           }
          ],
          "mesh3d": [
           {
            "colorbar": {
             "outlinewidth": 0,
             "ticks": ""
            },
            "type": "mesh3d"
           }
          ],
          "parcoords": [
           {
            "line": {
             "colorbar": {
              "outlinewidth": 0,
              "ticks": ""
             }
            },
            "type": "parcoords"
           }
          ],
          "pie": [
           {
            "automargin": true,
            "type": "pie"
           }
          ],
          "scatter": [
           {
            "fillpattern": {
             "fillmode": "overlay",
             "size": 10,
             "solidity": 0.2
            },
            "type": "scatter"
           }
          ],
          "scatter3d": [
           {
            "line": {
             "colorbar": {
              "outlinewidth": 0,
              "ticks": ""
             }
            },
            "marker": {
             "colorbar": {
              "outlinewidth": 0,
              "ticks": ""
             }
            },
            "type": "scatter3d"
           }
          ],
          "scattercarpet": [
           {
            "marker": {
             "colorbar": {
              "outlinewidth": 0,
              "ticks": ""
             }
            },
            "type": "scattercarpet"
           }
          ],
          "scattergeo": [
           {
            "marker": {
             "colorbar": {
              "outlinewidth": 0,
              "ticks": ""
             }
            },
            "type": "scattergeo"
           }
          ],
          "scattergl": [
           {
            "marker": {
             "colorbar": {
              "outlinewidth": 0,
              "ticks": ""
             }
            },
            "type": "scattergl"
           }
          ],
          "scattermapbox": [
           {
            "marker": {
             "colorbar": {
              "outlinewidth": 0,
              "ticks": ""
             }
            },
            "type": "scattermapbox"
           }
          ],
          "scatterpolar": [
           {
            "marker": {
             "colorbar": {
              "outlinewidth": 0,
              "ticks": ""
             }
            },
            "type": "scatterpolar"
           }
          ],
          "scatterpolargl": [
           {
            "marker": {
             "colorbar": {
              "outlinewidth": 0,
              "ticks": ""
             }
            },
            "type": "scatterpolargl"
           }
          ],
          "scatterternary": [
           {
            "marker": {
             "colorbar": {
              "outlinewidth": 0,
              "ticks": ""
             }
            },
            "type": "scatterternary"
           }
          ],
          "surface": [
           {
            "colorbar": {
             "outlinewidth": 0,
             "ticks": ""
            },
            "colorscale": [
             [
              0,
              "#0d0887"
             ],
             [
              0.1111111111111111,
              "#46039f"
             ],
             [
              0.2222222222222222,
              "#7201a8"
             ],
             [
              0.3333333333333333,
              "#9c179e"
             ],
             [
              0.4444444444444444,
              "#bd3786"
             ],
             [
              0.5555555555555556,
              "#d8576b"
             ],
             [
              0.6666666666666666,
              "#ed7953"
             ],
             [
              0.7777777777777778,
              "#fb9f3a"
             ],
             [
              0.8888888888888888,
              "#fdca26"
             ],
             [
              1,
              "#f0f921"
             ]
            ],
            "type": "surface"
           }
          ],
          "table": [
           {
            "cells": {
             "fill": {
              "color": "#EBF0F8"
             },
             "line": {
              "color": "white"
             }
            },
            "header": {
             "fill": {
              "color": "#C8D4E3"
             },
             "line": {
              "color": "white"
             }
            },
            "type": "table"
           }
          ]
         },
         "layout": {
          "annotationdefaults": {
           "arrowcolor": "#2a3f5f",
           "arrowhead": 0,
           "arrowwidth": 1
          },
          "autotypenumbers": "strict",
          "coloraxis": {
           "colorbar": {
            "outlinewidth": 0,
            "ticks": ""
           }
          },
          "colorscale": {
           "diverging": [
            [
             0,
             "#8e0152"
            ],
            [
             0.1,
             "#c51b7d"
            ],
            [
             0.2,
             "#de77ae"
            ],
            [
             0.3,
             "#f1b6da"
            ],
            [
             0.4,
             "#fde0ef"
            ],
            [
             0.5,
             "#f7f7f7"
            ],
            [
             0.6,
             "#e6f5d0"
            ],
            [
             0.7,
             "#b8e186"
            ],
            [
             0.8,
             "#7fbc41"
            ],
            [
             0.9,
             "#4d9221"
            ],
            [
             1,
             "#276419"
            ]
           ],
           "sequential": [
            [
             0,
             "#0d0887"
            ],
            [
             0.1111111111111111,
             "#46039f"
            ],
            [
             0.2222222222222222,
             "#7201a8"
            ],
            [
             0.3333333333333333,
             "#9c179e"
            ],
            [
             0.4444444444444444,
             "#bd3786"
            ],
            [
             0.5555555555555556,
             "#d8576b"
            ],
            [
             0.6666666666666666,
             "#ed7953"
            ],
            [
             0.7777777777777778,
             "#fb9f3a"
            ],
            [
             0.8888888888888888,
             "#fdca26"
            ],
            [
             1,
             "#f0f921"
            ]
           ],
           "sequentialminus": [
            [
             0,
             "#0d0887"
            ],
            [
             0.1111111111111111,
             "#46039f"
            ],
            [
             0.2222222222222222,
             "#7201a8"
            ],
            [
             0.3333333333333333,
             "#9c179e"
            ],
            [
             0.4444444444444444,
             "#bd3786"
            ],
            [
             0.5555555555555556,
             "#d8576b"
            ],
            [
             0.6666666666666666,
             "#ed7953"
            ],
            [
             0.7777777777777778,
             "#fb9f3a"
            ],
            [
             0.8888888888888888,
             "#fdca26"
            ],
            [
             1,
             "#f0f921"
            ]
           ]
          },
          "colorway": [
           "#636efa",
           "#EF553B",
           "#00cc96",
           "#ab63fa",
           "#FFA15A",
           "#19d3f3",
           "#FF6692",
           "#B6E880",
           "#FF97FF",
           "#FECB52"
          ],
          "font": {
           "color": "#2a3f5f"
          },
          "geo": {
           "bgcolor": "white",
           "lakecolor": "white",
           "landcolor": "#E5ECF6",
           "showlakes": true,
           "showland": true,
           "subunitcolor": "white"
          },
          "hoverlabel": {
           "align": "left"
          },
          "hovermode": "closest",
          "mapbox": {
           "style": "light"
          },
          "paper_bgcolor": "white",
          "plot_bgcolor": "#E5ECF6",
          "polar": {
           "angularaxis": {
            "gridcolor": "white",
            "linecolor": "white",
            "ticks": ""
           },
           "bgcolor": "#E5ECF6",
           "radialaxis": {
            "gridcolor": "white",
            "linecolor": "white",
            "ticks": ""
           }
          },
          "scene": {
           "xaxis": {
            "backgroundcolor": "#E5ECF6",
            "gridcolor": "white",
            "gridwidth": 2,
            "linecolor": "white",
            "showbackground": true,
            "ticks": "",
            "zerolinecolor": "white"
           },
           "yaxis": {
            "backgroundcolor": "#E5ECF6",
            "gridcolor": "white",
            "gridwidth": 2,
            "linecolor": "white",
            "showbackground": true,
            "ticks": "",
            "zerolinecolor": "white"
           },
           "zaxis": {
            "backgroundcolor": "#E5ECF6",
            "gridcolor": "white",
            "gridwidth": 2,
            "linecolor": "white",
            "showbackground": true,
            "ticks": "",
            "zerolinecolor": "white"
           }
          },
          "shapedefaults": {
           "line": {
            "color": "#2a3f5f"
           }
          },
          "ternary": {
           "aaxis": {
            "gridcolor": "white",
            "linecolor": "white",
            "ticks": ""
           },
           "baxis": {
            "gridcolor": "white",
            "linecolor": "white",
            "ticks": ""
           },
           "bgcolor": "#E5ECF6",
           "caxis": {
            "gridcolor": "white",
            "linecolor": "white",
            "ticks": ""
           }
          },
          "title": {
           "x": 0.05
          },
          "xaxis": {
           "automargin": true,
           "gridcolor": "white",
           "linecolor": "white",
           "ticks": "",
           "title": {
            "standoff": 15
           },
           "zerolinecolor": "white",
           "zerolinewidth": 2
          },
          "yaxis": {
           "automargin": true,
           "gridcolor": "white",
           "linecolor": "white",
           "ticks": "",
           "title": {
            "standoff": 15
           },
           "zerolinecolor": "white",
           "zerolinewidth": 2
          }
         }
        }
       }
      }
     },
     "metadata": {},
     "output_type": "display_data"
    }
   ],
   "source": [
    "from sklearn.cluster import KMeans\n",
    "\n",
    "# Extract the LONGITUDE and LATITUDE columns as a NumPy array\n",
    "X = df1[['LONGITUDE', 'LATITUDE']].values\n",
    "\n",
    "# Create a KMeans model with 2 clusters\n",
    "kmeans = KMeans(n_clusters=2)\n",
    "\n",
    "# Fit the model to the data\n",
    "kmeans.fit(X)\n",
    "\n",
    "# Predict the cluster labels for the data\n",
    "labels = kmeans.predict(X)\n",
    "\n",
    "# Add a new column to the dataframe with the cluster labels\n",
    "df1['cluster'] = labels\n",
    "\n",
    "# Create a figure with 2 subplots\n",
    "fig = go.Figure()\n",
    "\n",
    "# Add a scatter plot for each cluster\n",
    "for cluster in df1['cluster'].unique():\n",
    "    mask = df1['cluster'] == cluster\n",
    "    fig.add_scatter(x=df1[mask]['LONGITUDE'], y=df1[mask]['LATITUDE'],\n",
    "                    mode='markers',\n",
    "                    name=f'Cluster {cluster}')\n",
    "\n",
    "fig.show()\n",
    "\"\"\"\n",
    "This code first imports the KMeans class from \n",
    "the sklearn.cluster module. \n",
    "It then creates a KMeans model with 2 clusters,\n",
    "fits the model to the data,\n",
    "and predicts the cluster labels for the data.\n",
    "The predicted labels are then added to the df1\n",
    "dataframe as a new column. Finally,\n",
    "a scatter plot is created using the go.\n",
    "Figure object, and a scatter trace is added\n",
    "for each cluster using a loop.\n",
    "The resulting plot will show the data points\n",
    "colored according to their cluster label.\n",
    "\"\"\"\n"
   ]
  },
  {
   "cell_type": "code",
   "execution_count": 64,
   "metadata": {},
   "outputs": [
    {
     "name": "stdout",
     "output_type": "stream",
     "text": [
      "[41.065336756141456, 25.940404390879582]\n"
     ]
    },
    {
     "data": {
      "text/plain": [
       "'\\nThis code defines a function geographic_center() that takes a list of points as input and returns the optimal point using the Geographic center method. To use this function, you would need to pass in a list of points in the form [[lon1, lat1], [lon2, lat2], ...], where lon is the longitude and lat is the latitude of the point. The function will then return the optimal point as a list [lat, lon].\\n'"
      ]
     },
     "execution_count": 64,
     "metadata": {},
     "output_type": "execute_result"
    }
   ],
   "source": [
    "from math import radians, cos, sin, atan2, sqrt, degrees\n",
    "\n",
    "def geographic_center(points):\n",
    "    x = 0\n",
    "    y = 0\n",
    "    z = 0\n",
    "    l = len(points)\n",
    "\n",
    "    for point in points:\n",
    "        lon = radians(point[0])\n",
    "        lat = radians(point[1])\n",
    "        x += cos(lat) * cos(lon)\n",
    "        y += cos(lat) * sin(lon)\n",
    "        z += sin(lat)\n",
    "\n",
    "    x = x / l\n",
    "    y = y / l\n",
    "    z = z / l\n",
    "    lon = atan2(y, x)\n",
    "    hyp = sqrt(x * x + y * y)\n",
    "    lat = atan2(z, hyp)\n",
    "    return [degrees(lat), degrees(lon)]\n",
    "\n",
    "# Example usage\n",
    "points = [[10.0, 20.0], [30.0, 40.0], [50.0, 60.0]]\n",
    "optimal_point = geographic_center(points)\n",
    "print(optimal_point)  # Output: [35.0, 35.0]\n",
    "\"\"\"\n",
    "This code defines a function geographic_center()\n",
    "that takes a list of points as input and\n",
    "returns the optimal point using the Geographic center\n",
    "method. To use this function, you would need to pass in\n",
    "a list of points in the form [[lon1, lat1], [lon2, lat2],\n",
    "...], where lon is the longitude and lat is the\n",
    "latitude of the point. \n",
    "The function will then return the optimal point\n",
    "as a list [lat, lon].\n",
    "\"\"\"\n"
   ]
  },
  {
   "cell_type": "code",
   "execution_count": 77,
   "metadata": {},
   "outputs": [
    {
     "data": {
      "application/vnd.plotly.v1+json": {
       "config": {
        "plotlyServerURL": "https://plot.ly"
       },
       "data": [
        {
         "mode": "markers",
         "name": "Yoğunluk Based Loc",
         "type": "scatter",
         "x": [
          28.8226318359375,
          28.8116455078125,
          28.8116455078125,
          28.8116455078125,
          28.8116455078125,
          28.8116455078125,
          28.8006591796875,
          28.8116455078125,
          28.8226318359375,
          28.8006591796875,
          28.8336181640625,
          28.8226318359375,
          28.8116455078125,
          28.8116455078125,
          28.8116455078125,
          28.8116455078125,
          28.8116455078125,
          28.8226318359375,
          28.8226318359375,
          28.7237548828125,
          28.8116455078125,
          28.8116455078125,
          28.8006591796875,
          28.8336181640625,
          28.8116455078125,
          28.7786865234375,
          28.8116455078125,
          28.8336181640625,
          28.8336181640625,
          28.7896728515625,
          28.8116455078125,
          28.8116455078125,
          28.8116455078125,
          28.8336181640625,
          28.8116455078125,
          28.8116455078125,
          28.8006591796875,
          28.8116455078125,
          28.8116455078125,
          28.7457275390625,
          28.8006591796875,
          28.8116455078125,
          28.8116455078125,
          28.8116455078125,
          28.8336181640625,
          28.8116455078125,
          28.8226318359375,
          28.8006591796875,
          28.8116455078125,
          28.8336181640625,
          28.8006591796875,
          28.8116455078125,
          28.8006591796875,
          28.8336181640625,
          28.8336181640625,
          28.8336181640625,
          28.8116455078125,
          28.8116455078125,
          28.8116455078125,
          28.8006591796875,
          28.8336181640625,
          28.8116455078125,
          28.8006591796875,
          28.8006591796875,
          28.8336181640625,
          28.8116455078125,
          28.8006591796875,
          28.8336181640625,
          28.7896728515625,
          28.8116455078125,
          28.8116455078125,
          28.8116455078125,
          28.7896728515625,
          28.8336181640625,
          28.8116455078125,
          28.8006591796875,
          28.8336181640625,
          28.8116455078125,
          28.8336181640625,
          28.8116455078125,
          28.8336181640625,
          28.8116455078125,
          28.8116455078125,
          28.8116455078125,
          28.8336181640625,
          28.8006591796875,
          28.8116455078125,
          28.8116455078125,
          28.8226318359375,
          28.8226318359375,
          28.8116455078125,
          28.8116455078125,
          28.8336181640625,
          28.7896728515625,
          28.8116455078125,
          28.8116455078125,
          28.8116455078125,
          28.8336181640625,
          28.8116455078125,
          28.8116455078125,
          28.8116455078125,
          28.8116455078125,
          28.8336181640625,
          28.8116455078125,
          28.8116455078125,
          28.8116455078125,
          28.8116455078125,
          28.8336181640625,
          28.8116455078125,
          28.8116455078125,
          28.8116455078125,
          28.8006591796875,
          28.8336181640625,
          28.8336181640625,
          28.8116455078125,
          28.8116455078125,
          28.8116455078125,
          28.8006591796875,
          28.8116455078125,
          28.8336181640625,
          28.7896728515625,
          28.8336181640625,
          28.8116455078125,
          28.8116455078125,
          28.8336181640625,
          28.8336181640625,
          28.8116455078125,
          28.8116455078125,
          28.8116455078125,
          28.8116455078125,
          28.8116455078125,
          28.8116455078125,
          28.7896728515625,
          28.8446044921875,
          28.8226318359375,
          28.8116455078125,
          28.8116455078125,
          28.8116455078125,
          28.8116455078125,
          28.8116455078125,
          28.8116455078125,
          28.8116455078125,
          28.8336181640625,
          28.7896728515625,
          28.8336181640625,
          28.8116455078125,
          28.8116455078125,
          28.8006591796875,
          28.8116455078125,
          28.8336181640625,
          28.8116455078125,
          28.8116455078125,
          28.8336181640625,
          28.7677001953125,
          28.8116455078125,
          28.8116455078125,
          28.8116455078125,
          28.8336181640625,
          28.8116455078125,
          28.8336181640625,
          28.8116455078125,
          28.8116455078125,
          28.8116455078125,
          28.8116455078125,
          28.8116455078125,
          28.8116455078125,
          28.8116455078125,
          28.8116455078125,
          28.8116455078125,
          28.8006591796875,
          28.8116455078125,
          28.8006591796875,
          28.8006591796875,
          28.8116455078125,
          28.8116455078125,
          28.8336181640625,
          28.8116455078125,
          28.8006591796875,
          28.8336181640625,
          28.8116455078125,
          28.8336181640625,
          28.8116455078125,
          28.8336181640625,
          28.8336181640625,
          28.8116455078125,
          28.8336181640625,
          28.8116455078125,
          28.8116455078125,
          28.8336181640625,
          28.8116455078125,
          28.8336181640625,
          28.8116455078125,
          28.8336181640625,
          28.8116455078125,
          28.8116455078125,
          28.8116455078125,
          28.8116455078125,
          28.8336181640625,
          28.8116455078125,
          28.8006591796875,
          28.8116455078125,
          28.8116455078125,
          28.8116455078125,
          28.8116455078125,
          28.8006591796875,
          28.8006591796875,
          28.8006591796875,
          28.8116455078125,
          28.8116455078125,
          28.8116455078125,
          28.8116455078125,
          28.8116455078125,
          28.8336181640625,
          28.8116455078125,
          28.8116455078125,
          28.8116455078125,
          28.8116455078125,
          28.8336181640625,
          28.8116455078125,
          28.8116455078125,
          28.8336181640625,
          28.8116455078125,
          28.8116455078125,
          28.8336181640625,
          28.8116455078125,
          28.7347412109375,
          28.8116455078125,
          28.8006591796875,
          28.8336181640625,
          28.8336181640625,
          28.8116455078125,
          28.8006591796875,
          28.8116455078125,
          28.8116455078125,
          28.8116455078125,
          28.8116455078125,
          28.8116455078125,
          28.8116455078125,
          28.8116455078125,
          28.8116455078125,
          28.8336181640625,
          28.8336181640625,
          28.8006591796875,
          28.8116455078125,
          28.8116455078125,
          28.8116455078125,
          28.8116455078125,
          28.8116455078125,
          28.8336181640625,
          28.8116455078125,
          28.8116455078125,
          28.8116455078125,
          28.8336181640625,
          28.8116455078125,
          28.8116455078125,
          28.8116455078125,
          28.8336181640625,
          28.8116455078125,
          28.8336181640625,
          28.8116455078125,
          28.8116455078125,
          28.8446044921875,
          28.8446044921875,
          28.8116455078125,
          28.8116455078125,
          28.8006591796875,
          28.8116455078125,
          28.7896728515625,
          28.8116455078125,
          28.8336181640625,
          28.8116455078125,
          28.8116455078125,
          28.8116455078125,
          28.8336181640625,
          28.8336181640625,
          28.8116455078125,
          28.8336181640625,
          28.8116455078125,
          28.8116455078125,
          28.8226318359375,
          28.8006591796875,
          28.8116455078125,
          28.8336181640625,
          28.8116455078125,
          28.8116455078125,
          28.8116455078125,
          28.8446044921875,
          28.8116455078125,
          28.8226318359375,
          28.8116455078125,
          28.8006591796875,
          28.8116455078125,
          28.8006591796875,
          28.8116455078125,
          28.8116455078125,
          28.8116455078125,
          28.7896728515625,
          28.8116455078125,
          28.8006591796875,
          28.8336181640625,
          28.8336181640625,
          28.7896728515625,
          28.8116455078125,
          28.8116455078125,
          28.8116455078125,
          28.8006591796875,
          28.8116455078125,
          28.8116455078125,
          28.8116455078125,
          28.8226318359375,
          28.8336181640625,
          28.8116455078125,
          28.8116455078125,
          28.8116455078125,
          28.8116455078125,
          28.8116455078125,
          28.8336181640625,
          28.8336181640625,
          28.8336181640625,
          28.8336181640625,
          28.8336181640625,
          28.8446044921875,
          28.8116455078125,
          28.8116455078125,
          28.8116455078125,
          28.8116455078125,
          28.8116455078125,
          28.8116455078125,
          28.8116455078125,
          28.8006591796875,
          28.8006591796875,
          28.8116455078125,
          28.7347412109375,
          28.8116455078125,
          28.8116455078125,
          28.8336181640625,
          28.8336181640625,
          28.8336181640625,
          28.8116455078125,
          28.8116455078125,
          28.8116455078125,
          28.8116455078125,
          28.8116455078125,
          28.7896728515625,
          28.8116455078125,
          28.7896728515625,
          28.8116455078125,
          28.8116455078125,
          28.8116455078125,
          28.7896728515625,
          28.8336181640625,
          28.8116455078125,
          28.8006591796875,
          28.8116455078125,
          28.8116455078125,
          28.8116455078125,
          28.8336181640625,
          28.8116455078125,
          28.8116455078125,
          28.8116455078125,
          28.8116455078125,
          28.8336181640625,
          28.8116455078125,
          28.8116455078125,
          28.8116455078125,
          28.7347412109375,
          28.8116455078125,
          28.8116455078125,
          28.8116455078125,
          28.8336181640625,
          28.8116455078125,
          28.8336181640625,
          28.8116455078125,
          28.8336181640625,
          28.8116455078125,
          28.8116455078125,
          28.8116455078125,
          28.8116455078125,
          28.8116455078125,
          28.8116455078125,
          28.8116455078125,
          28.8116455078125,
          28.8116455078125,
          28.8116455078125,
          28.8116455078125,
          28.8006591796875,
          28.8116455078125,
          28.8006591796875,
          28.8116455078125,
          28.8226318359375,
          28.8116455078125,
          28.8116455078125,
          28.8336181640625,
          28.8116455078125,
          28.8116455078125,
          28.8116455078125,
          28.8116455078125,
          28.8006591796875,
          28.8336181640625,
          28.8116455078125,
          28.8006591796875,
          28.8336181640625,
          28.8116455078125,
          28.8116455078125,
          28.8116455078125,
          28.8116455078125,
          28.8006591796875,
          28.8006591796875,
          28.8116455078125,
          28.8116455078125,
          28.8116455078125,
          28.8116455078125,
          28.8116455078125,
          28.8116455078125,
          28.8116455078125,
          28.8116455078125,
          28.8116455078125,
          28.8006591796875,
          28.8006591796875,
          28.8116455078125,
          28.8336181640625,
          28.8336181640625,
          28.8116455078125,
          28.8006591796875,
          28.8116455078125,
          28.8336181640625,
          28.8116455078125,
          28.8116455078125,
          28.8006591796875,
          28.8116455078125,
          28.8006591796875,
          28.8336181640625,
          28.8116455078125,
          28.8116455078125,
          28.8116455078125,
          28.7896728515625,
          28.8116455078125,
          28.8116455078125,
          28.8116455078125,
          28.8116455078125,
          28.8116455078125,
          28.8116455078125,
          28.7237548828125,
          28.8116455078125,
          28.8116455078125,
          28.8336181640625,
          28.8116455078125,
          28.8116455078125,
          28.8116455078125,
          28.8116455078125,
          28.8116455078125,
          28.8006591796875,
          28.8336181640625,
          28.8006591796875,
          28.8226318359375,
          28.8116455078125,
          28.8116455078125,
          28.8116455078125,
          28.8226318359375,
          28.7896728515625,
          28.8226318359375,
          28.8336181640625,
          28.8336181640625,
          28.7896728515625,
          28.7017822265625,
          28.8006591796875,
          28.8116455078125,
          28.8336181640625,
          28.8116455078125,
          28.8116455078125,
          28.8116455078125,
          28.8006591796875,
          28.8336181640625,
          28.8116455078125,
          28.8116455078125,
          28.8116455078125,
          28.8116455078125,
          28.8116455078125,
          28.8116455078125,
          28.8336181640625,
          28.8116455078125,
          28.8336181640625,
          28.8336181640625,
          28.8116455078125,
          28.8116455078125,
          28.8116455078125,
          28.8336181640625,
          28.8336181640625,
          28.8116455078125,
          28.8226318359375,
          28.8336181640625,
          28.8116455078125,
          28.8336181640625,
          28.8116455078125,
          28.8226318359375,
          28.8116455078125,
          28.8116455078125,
          28.8116455078125,
          28.8116455078125,
          28.8116455078125,
          28.8226318359375,
          28.8336181640625,
          28.8116455078125,
          28.8006591796875,
          28.8116455078125,
          28.7896728515625,
          28.8116455078125,
          28.8116455078125,
          28.8116455078125,
          28.8006591796875,
          28.8336181640625,
          28.7896728515625,
          28.8116455078125,
          28.8116455078125,
          28.8116455078125,
          28.8116455078125,
          28.8116455078125,
          28.8116455078125,
          28.8116455078125,
          28.7896728515625,
          28.8336181640625,
          28.8116455078125,
          28.7237548828125,
          28.8336181640625,
          28.8006591796875,
          28.8336181640625,
          28.8006591796875,
          28.8116455078125,
          28.8446044921875,
          28.8336181640625,
          28.8116455078125,
          28.8116455078125,
          28.7237548828125,
          28.8116455078125,
          28.8006591796875,
          28.8226318359375,
          28.8116455078125,
          28.8116455078125,
          28.8116455078125,
          28.8336181640625,
          28.8116455078125,
          28.7896728515625,
          28.8336181640625,
          28.8116455078125,
          28.8006591796875,
          28.8116455078125,
          28.8006591796875,
          28.8336181640625,
          28.8336181640625,
          28.8116455078125,
          28.8116455078125,
          28.8116455078125,
          28.8116455078125,
          28.8116455078125,
          28.8116455078125,
          28.8116455078125,
          28.8116455078125,
          28.8116455078125,
          28.8116455078125,
          28.8116455078125,
          28.8116455078125,
          28.8116455078125,
          28.8336181640625,
          28.8116455078125,
          28.8336181640625,
          28.8226318359375,
          28.8336181640625,
          28.8006591796875,
          28.8116455078125,
          28.8336181640625,
          28.8336181640625,
          28.8116455078125,
          28.7896728515625,
          28.8116455078125,
          28.8116455078125,
          28.7457275390625,
          28.8006591796875,
          28.8116455078125,
          28.7896728515625,
          28.8116455078125,
          28.8116455078125,
          28.8116455078125,
          28.8116455078125,
          28.8116455078125,
          28.8336181640625,
          28.8116455078125,
          28.8116455078125,
          28.8116455078125,
          28.8116455078125,
          28.8116455078125,
          28.8116455078125,
          28.8116455078125,
          28.8116455078125,
          28.8116455078125,
          28.8336181640625,
          28.8336181640625,
          28.8116455078125,
          28.8116455078125,
          28.8116455078125,
          28.8116455078125,
          28.8116455078125,
          28.8116455078125,
          28.8116455078125,
          28.8116455078125,
          28.8116455078125,
          28.8006591796875,
          28.8116455078125,
          28.7896728515625,
          28.8116455078125,
          28.8006591796875,
          28.8006591796875,
          28.8006591796875,
          28.8116455078125,
          28.8336181640625,
          28.8336181640625,
          28.8116455078125,
          28.8116455078125,
          28.8116455078125,
          28.8116455078125,
          28.8116455078125,
          28.8116455078125,
          28.8006591796875,
          28.8116455078125,
          28.8116455078125,
          28.8116455078125,
          28.8116455078125,
          28.8116455078125,
          28.8116455078125,
          28.8116455078125,
          28.8116455078125,
          28.8006591796875,
          28.8336181640625,
          28.8116455078125,
          28.8226318359375,
          28.8336181640625,
          28.8116455078125,
          28.8116455078125,
          28.8006591796875,
          28.8336181640625,
          28.7896728515625,
          28.7896728515625,
          28.8336181640625,
          28.8116455078125,
          28.8336181640625,
          28.8116455078125,
          28.8116455078125,
          28.8336181640625,
          28.8116455078125,
          28.8116455078125,
          28.8336181640625,
          28.8116455078125,
          28.8116455078125,
          28.8116455078125,
          28.8116455078125,
          28.8116455078125,
          28.8006591796875,
          28.8116455078125,
          28.8006591796875,
          28.8116455078125,
          28.8116455078125,
          28.8336181640625,
          28.8006591796875,
          28.8116455078125,
          28.8336181640625,
          28.8006591796875,
          28.8116455078125,
          28.8116455078125,
          28.8006591796875,
          28.8116455078125,
          28.8116455078125,
          28.8116455078125,
          28.8116455078125,
          28.8336181640625,
          28.8116455078125,
          28.8116455078125,
          28.8336181640625,
          28.8116455078125,
          28.8116455078125,
          28.8116455078125,
          28.7786865234375,
          28.8226318359375,
          28.8116455078125,
          28.8006591796875,
          28.8116455078125,
          28.8336181640625,
          28.8116455078125,
          28.8116455078125,
          28.7237548828125,
          28.8336181640625,
          28.8006591796875,
          28.8116455078125,
          28.8336181640625,
          28.8116455078125,
          28.8116455078125,
          28.7457275390625,
          28.8116455078125,
          28.8116455078125,
          28.8116455078125,
          28.8116455078125,
          28.8116455078125,
          28.8116455078125,
          28.7896728515625,
          28.8006591796875,
          28.8116455078125,
          28.8116455078125,
          28.8116455078125,
          28.8116455078125,
          28.8116455078125,
          28.8116455078125,
          28.8006591796875,
          28.8336181640625,
          28.8336181640625,
          28.8116455078125,
          28.8116455078125,
          28.8226318359375,
          28.8336181640625,
          28.8116455078125,
          28.8116455078125,
          28.8006591796875,
          28.8116455078125,
          28.8116455078125,
          28.8116455078125,
          28.8116455078125,
          28.8336181640625,
          28.8116455078125,
          28.8116455078125,
          28.8116455078125,
          28.8336181640625,
          28.8116455078125,
          28.8116455078125,
          28.8336181640625,
          28.8336181640625,
          28.8336181640625,
          28.8116455078125,
          28.8116455078125,
          28.8116455078125,
          28.8116455078125,
          28.8116455078125,
          28.8116455078125,
          28.8116455078125,
          28.8116455078125,
          28.8116455078125,
          28.8226318359375,
          28.8116455078125,
          28.8226318359375,
          28.8006591796875,
          28.8116455078125,
          28.8116455078125,
          28.8336181640625,
          28.8116455078125,
          28.8116455078125,
          28.8116455078125,
          28.8116455078125,
          28.8336181640625,
          28.8336181640625,
          28.8006591796875,
          28.8116455078125,
          28.8006591796875,
          28.8116455078125,
          28.8116455078125,
          28.7896728515625,
          28.8336181640625,
          28.8116455078125,
          28.8336181640625,
          28.8116455078125,
          28.8116455078125,
          28.7896728515625,
          28.8336181640625,
          28.8116455078125,
          28.8116455078125,
          28.8006591796875,
          28.8116455078125,
          28.8116455078125,
          28.7896728515625,
          28.8336181640625,
          28.8116455078125,
          28.8336181640625,
          28.8116455078125,
          28.8116455078125,
          28.8336181640625,
          28.8336181640625,
          28.8116455078125,
          28.8006591796875,
          28.8006591796875,
          28.8116455078125,
          28.8336181640625,
          28.8116455078125,
          28.7896728515625,
          28.8006591796875,
          28.8116455078125,
          28.8336181640625,
          28.8226318359375,
          28.8116455078125,
          28.8116455078125,
          28.8116455078125,
          28.8006591796875,
          28.8116455078125,
          28.7896728515625,
          28.8116455078125,
          28.8336181640625,
          28.8116455078125,
          28.8006591796875,
          28.8116455078125,
          28.8336181640625,
          28.8336181640625,
          28.7237548828125,
          28.8336181640625,
          28.8116455078125,
          28.8116455078125,
          28.8116455078125,
          28.8006591796875,
          28.8006591796875,
          28.8226318359375,
          28.8116455078125,
          28.8336181640625,
          28.8116455078125,
          28.8116455078125,
          28.7017822265625,
          28.8116455078125,
          28.8116455078125,
          28.8116455078125,
          28.8116455078125,
          28.8116455078125
         ],
         "y": [
          41.0641479492188,
          41.0256958007812,
          41.0586547851562,
          41.0641479492188,
          41.0586547851562,
          41.0476684570312,
          41.0641479492188,
          41.0476684570312,
          41.0641479492188,
          41.0641479492188,
          41.0641479492188,
          41.0641479492188,
          41.0641479492188,
          41.0641479492188,
          41.0256958007812,
          41.0641479492188,
          41.0256958007812,
          41.0641479492188,
          41.0641479492188,
          41.0531616210938,
          41.0641479492188,
          41.0586547851562,
          41.0641479492188,
          41.0641479492188,
          41.0641479492188,
          41.0641479492188,
          41.0256958007812,
          41.0641479492188,
          41.0641479492188,
          41.0641479492188,
          41.0641479492188,
          41.0641479492188,
          41.0641479492188,
          41.0641479492188,
          41.0641479492188,
          41.0586547851562,
          41.0641479492188,
          41.0586547851562,
          41.0641479492188,
          41.0641479492188,
          41.0641479492188,
          41.0641479492188,
          41.0641479492188,
          41.0586547851562,
          41.0641479492188,
          41.0641479492188,
          41.0641479492188,
          41.0641479492188,
          41.0641479492188,
          41.0641479492188,
          41.0641479492188,
          41.0586547851562,
          41.0641479492188,
          41.0641479492188,
          41.0641479492188,
          41.0641479492188,
          41.0256958007812,
          41.0641479492188,
          41.0641479492188,
          41.0641479492188,
          41.0641479492188,
          41.0586547851562,
          41.0641479492188,
          41.0641479492188,
          41.0641479492188,
          41.0256958007812,
          41.0641479492188,
          41.0641479492188,
          41.0641479492188,
          41.0586547851562,
          41.0586547851562,
          41.0641479492188,
          41.0641479492188,
          41.0641479492188,
          41.0641479492188,
          41.0641479492188,
          41.0641479492188,
          41.0641479492188,
          41.0641479492188,
          41.0256958007812,
          41.0641479492188,
          41.0641479492188,
          41.0641479492188,
          41.0256958007812,
          41.0641479492188,
          41.0641479492188,
          41.0256958007812,
          41.0641479492188,
          41.0641479492188,
          41.0641479492188,
          41.0586547851562,
          41.0586547851562,
          41.0641479492188,
          41.0641479492188,
          41.0256958007812,
          41.0641479492188,
          41.0256958007812,
          41.0641479492188,
          41.0476684570312,
          41.0586547851562,
          41.0641479492188,
          41.0641479492188,
          41.0641479492188,
          41.0256958007812,
          41.0476684570312,
          41.0586547851562,
          41.0641479492188,
          41.0641479492188,
          41.0476684570312,
          41.0476684570312,
          41.0256958007812,
          41.0641479492188,
          41.0641479492188,
          41.0641479492188,
          41.0586547851562,
          41.0586547851562,
          41.0256958007812,
          41.0641479492188,
          41.0641479492188,
          41.0641479492188,
          41.0641479492188,
          41.0641479492188,
          41.0586547851562,
          41.0586547851562,
          41.0641479492188,
          41.0641479492188,
          41.0476684570312,
          41.0586547851562,
          41.0586547851562,
          41.0641479492188,
          41.0586547851562,
          41.0586547851562,
          41.0641479492188,
          41.0586547851562,
          41.0641479492188,
          41.0586547851562,
          41.0586547851562,
          41.0476684570312,
          41.0586547851562,
          41.0641479492188,
          41.0641479492188,
          41.0641479492188,
          41.0641479492188,
          41.0641479492188,
          41.0641479492188,
          41.0476684570312,
          41.0641479492188,
          41.0641479492188,
          41.0641479492188,
          41.0641479492188,
          41.0586547851562,
          41.0586547851562,
          41.0641479492188,
          41.0641479492188,
          41.0476684570312,
          41.0476684570312,
          41.0586547851562,
          41.0641479492188,
          41.0641479492188,
          41.0641479492188,
          41.0586547851562,
          41.0641479492188,
          41.0641479492188,
          41.0641479492188,
          41.0641479492188,
          41.0641479492188,
          41.0586547851562,
          41.0641479492188,
          41.0641479492188,
          41.0641479492188,
          41.0586547851562,
          41.0641479492188,
          41.0641479492188,
          41.0641479492188,
          41.0476684570312,
          41.0641479492188,
          41.0641479492188,
          41.0641479492188,
          41.0641479492188,
          41.0256958007812,
          41.0641479492188,
          41.0641479492188,
          41.0641479492188,
          41.0641479492188,
          41.0586547851562,
          41.0641479492188,
          41.0641479492188,
          41.0256958007812,
          41.0641479492188,
          41.0256958007812,
          41.0641479492188,
          41.0641479492188,
          41.0641479492188,
          41.0586547851562,
          41.0586547851562,
          41.0586547851562,
          41.0641479492188,
          41.0641479492188,
          41.0586547851562,
          41.0641479492188,
          41.0641479492188,
          41.0586547851562,
          41.0476684570312,
          41.0256958007812,
          41.0641479492188,
          41.0641479492188,
          41.0641479492188,
          41.0586547851562,
          41.0641479492188,
          41.0586547851562,
          41.0586547851562,
          41.0586547851562,
          41.0641479492188,
          41.0256958007812,
          41.0586547851562,
          41.0256958007812,
          41.0586547851562,
          41.0641479492188,
          41.0586547851562,
          41.0641479492188,
          41.0641479492188,
          41.0641479492188,
          41.0641479492188,
          41.0641479492188,
          41.0586547851562,
          41.0586547851562,
          41.0586547851562,
          41.0641479492188,
          41.0641479492188,
          41.0641479492188,
          41.0586547851562,
          41.0641479492188,
          41.0476684570312,
          41.0641479492188,
          41.0641479492188,
          41.0586547851562,
          41.0586547851562,
          41.0641479492188,
          41.0641479492188,
          41.0586547851562,
          41.0641479492188,
          41.0641479492188,
          41.0641479492188,
          41.0641479492188,
          41.0586547851562,
          41.0256958007812,
          41.0476684570312,
          41.0256958007812,
          41.0641479492188,
          41.0586547851562,
          41.0641479492188,
          41.0641479492188,
          41.0641479492188,
          41.0641479492188,
          41.0586547851562,
          41.0641479492188,
          41.0641479492188,
          41.0586547851562,
          41.0641479492188,
          41.0586547851562,
          41.0586547851562,
          41.0641479492188,
          41.0586547851562,
          41.0641479492188,
          41.0641479492188,
          41.0641479492188,
          41.0641479492188,
          41.0641479492188,
          41.0586547851562,
          41.0641479492188,
          41.0586547851562,
          41.0641479492188,
          41.0641479492188,
          41.0641479492188,
          41.0641479492188,
          41.0256958007812,
          41.0641479492188,
          41.0256958007812,
          41.0586547851562,
          41.0641479492188,
          41.0641479492188,
          41.0641479492188,
          41.0641479492188,
          41.0586547851562,
          41.0586547851562,
          41.0256958007812,
          41.0641479492188,
          41.0641479492188,
          41.0641479492188,
          41.0586547851562,
          41.0641479492188,
          41.0586547851562,
          41.0641479492188,
          41.0586547851562,
          41.0256958007812,
          41.0641479492188,
          41.0641479492188,
          41.0586547851562,
          41.0641479492188,
          41.0641479492188,
          41.0641479492188,
          41.0641479492188,
          41.0641479492188,
          41.0586547851562,
          41.0586547851562,
          41.0641479492188,
          41.0586547851562,
          41.0476684570312,
          41.0641479492188,
          41.0641479492188,
          41.0641479492188,
          41.0256958007812,
          41.0641479492188,
          41.0256958007812,
          41.0256958007812,
          41.0476684570312,
          41.0641479492188,
          41.0641479492188,
          41.0641479492188,
          41.0641479492188,
          41.0641479492188,
          41.0641479492188,
          41.0586547851562,
          41.0586547851562,
          41.0641479492188,
          41.0586547851562,
          41.0641479492188,
          41.0256958007812,
          41.0641479492188,
          41.0641479492188,
          41.0641479492188,
          41.0476684570312,
          41.0586547851562,
          41.0586547851562,
          41.0476684570312,
          41.0641479492188,
          41.0641479492188,
          41.0641479492188,
          41.0586547851562,
          41.0586547851562,
          41.0586547851562,
          41.0641479492188,
          41.0641479492188,
          41.0641479492188,
          41.0641479492188,
          41.0641479492188,
          41.0641479492188,
          41.0641479492188,
          41.0586547851562,
          41.0641479492188,
          41.0641479492188,
          41.0256958007812,
          41.0641479492188,
          41.0586547851562,
          41.0586547851562,
          41.0641479492188,
          41.0641479492188,
          41.0586547851562,
          41.0641479492188,
          41.0586547851562,
          41.0641479492188,
          41.0641479492188,
          41.0256958007812,
          41.0586547851562,
          41.0641479492188,
          41.0586547851562,
          41.0586547851562,
          41.0641479492188,
          41.0641479492188,
          41.0641479492188,
          41.0586547851562,
          41.0641479492188,
          41.0641479492188,
          41.0641479492188,
          41.0476684570312,
          41.0586547851562,
          41.0641479492188,
          41.0476684570312,
          41.0586547851562,
          41.0256958007812,
          41.0476684570312,
          41.0586547851562,
          41.0641479492188,
          41.0641479492188,
          41.0641479492188,
          41.0641479492188,
          41.0641479492188,
          41.0641479492188,
          41.0641479492188,
          41.0641479492188,
          41.0641479492188,
          41.0641479492188,
          41.0641479492188,
          41.0641479492188,
          41.0256958007812,
          41.0586547851562,
          41.0586547851562,
          41.0641479492188,
          41.0641479492188,
          41.0641479492188,
          41.0641479492188,
          41.0641479492188,
          41.0586547851562,
          41.0586547851562,
          41.0586547851562,
          41.0641479492188,
          41.0641479492188,
          41.0641479492188,
          41.0586547851562,
          41.0641479492188,
          41.0641479492188,
          41.0586547851562,
          41.0476684570312,
          41.0641479492188,
          41.0641479492188,
          41.0641479492188,
          41.0586547851562,
          41.0641479492188,
          41.0641479492188,
          41.0586547851562,
          41.0641479492188,
          41.0641479492188,
          41.0476684570312,
          41.0641479492188,
          41.0641479492188,
          41.0641479492188,
          41.0641479492188,
          41.0641479492188,
          41.0641479492188,
          41.0641479492188,
          41.0641479492188,
          41.0641479492188,
          41.0256958007812,
          41.0641479492188,
          41.0641479492188,
          41.0641479492188,
          41.0641479492188,
          41.0641479492188,
          41.0586547851562,
          41.0256958007812,
          41.0641479492188,
          41.0586547851562,
          41.0531616210938,
          41.0256958007812,
          41.0256958007812,
          41.0641479492188,
          41.0641479492188,
          41.0641479492188,
          41.0256958007812,
          41.0476684570312,
          41.0476684570312,
          41.0641479492188,
          41.0641479492188,
          41.0641479492188,
          41.0641479492188,
          41.0641479492188,
          41.0476684570312,
          41.0641479492188,
          41.0641479492188,
          41.0641479492188,
          41.0641479492188,
          41.0641479492188,
          41.0641479492188,
          41.0641479492188,
          41.0586547851562,
          41.0641479492188,
          41.0641479492188,
          41.0641479492188,
          41.0256958007812,
          41.0476684570312,
          41.0641479492188,
          41.0641479492188,
          41.0641479492188,
          41.0256958007812,
          41.0256958007812,
          41.0256958007812,
          41.0476684570312,
          41.0586547851562,
          41.0256958007812,
          41.0641479492188,
          41.0641479492188,
          41.0641479492188,
          41.0641479492188,
          41.0256958007812,
          41.0476684570312,
          41.0586547851562,
          41.0641479492188,
          41.0641479492188,
          41.0641479492188,
          41.0641479492188,
          41.0641479492188,
          41.0641479492188,
          41.0641479492188,
          41.0641479492188,
          41.0641479492188,
          41.0641479492188,
          41.0641479492188,
          41.0586547851562,
          41.0641479492188,
          41.0586547851562,
          41.0641479492188,
          41.0641479492188,
          41.0586547851562,
          41.0641479492188,
          41.0586547851562,
          41.0641479492188,
          41.0641479492188,
          41.0641479492188,
          41.0641479492188,
          41.0641479492188,
          41.0641479492188,
          41.0641479492188,
          41.0256958007812,
          41.0641479492188,
          41.0586547851562,
          41.0256958007812,
          41.0586547851562,
          41.0586547851562,
          41.0586547851562,
          41.0641479492188,
          41.0641479492188,
          41.0586547851562,
          41.0531616210938,
          41.0641479492188,
          41.0641479492188,
          41.0641479492188,
          41.0641479492188,
          41.0476684570312,
          41.0586547851562,
          41.0641479492188,
          41.0256958007812,
          41.0641479492188,
          41.0531616210938,
          41.0476684570312,
          41.0641479492188,
          41.0641479492188,
          41.0586547851562,
          41.0641479492188,
          41.0586547851562,
          41.0641479492188,
          41.0586547851562,
          41.0641479492188,
          41.0641479492188,
          41.0586547851562,
          41.0641479492188,
          41.0641479492188,
          41.0641479492188,
          41.0641479492188,
          41.0641479492188,
          41.0641479492188,
          41.0641479492188,
          41.0641479492188,
          41.0641479492188,
          41.0256958007812,
          41.0641479492188,
          41.0641479492188,
          41.0641479492188,
          41.0256958007812,
          41.0586547851562,
          41.0586547851562,
          41.0641479492188,
          41.0586547851562,
          41.0641479492188,
          41.0476684570312,
          41.0641479492188,
          41.0641479492188,
          41.0641479492188,
          41.0641479492188,
          41.0641479492188,
          41.0641479492188,
          41.0641479492188,
          41.0641479492188,
          41.0641479492188,
          41.0586547851562,
          41.0641479492188,
          41.0641479492188,
          41.0641479492188,
          41.0641479492188,
          41.0641479492188,
          41.0586547851562,
          41.0641479492188,
          41.0586547851562,
          41.0256958007812,
          41.0311889648438,
          41.0641479492188,
          41.0586547851562,
          41.0586547851562,
          41.0586547851562,
          41.0586547851562,
          41.0641479492188,
          41.0641479492188,
          41.0586547851562,
          41.0586547851562,
          41.0586547851562,
          41.0641479492188,
          41.0641479492188,
          41.0586547851562,
          41.0641479492188,
          41.0641479492188,
          41.0641479492188,
          41.0256958007812,
          41.0586547851562,
          41.0586547851562,
          41.0641479492188,
          41.0641479492188,
          41.0641479492188,
          41.0256958007812,
          41.0641479492188,
          41.0641479492188,
          41.0641479492188,
          41.0641479492188,
          41.0641479492188,
          41.0641479492188,
          41.0641479492188,
          41.0641479492188,
          41.0641479492188,
          41.0641479492188,
          41.0641479492188,
          41.0641479492188,
          41.0256958007812,
          41.0586547851562,
          41.0641479492188,
          41.0641479492188,
          41.0476684570312,
          41.0641479492188,
          41.0641479492188,
          41.0586547851562,
          41.0641479492188,
          41.0256958007812,
          41.0641479492188,
          41.0641479492188,
          41.0641479492188,
          41.0476684570312,
          41.0641479492188,
          41.0641479492188,
          41.0586547851562,
          41.0641479492188,
          41.0641479492188,
          41.0641479492188,
          41.0641479492188,
          41.0641479492188,
          41.0641479492188,
          41.0641479492188,
          41.0641479492188,
          41.0641479492188,
          41.0586547851562,
          41.0641479492188,
          41.0586547851562,
          41.0586547851562,
          41.0641479492188,
          41.0586547851562,
          41.0586547851562,
          41.0641479492188,
          41.0586547851562,
          41.0641479492188,
          41.0641479492188,
          41.0641479492188,
          41.0641479492188,
          41.0641479492188,
          41.0256958007812,
          41.0641479492188,
          41.0641479492188,
          41.0641479492188,
          41.0641479492188,
          41.0641479492188,
          41.0641479492188,
          41.0586547851562,
          41.0641479492188,
          41.0586547851562,
          41.0641479492188,
          41.0476684570312,
          41.0641479492188,
          41.0641479492188,
          41.0586547851562,
          41.0641479492188,
          41.0641479492188,
          41.0641479492188,
          41.0641479492188,
          41.0641479492188,
          41.0641479492188,
          41.0641479492188,
          41.0476684570312,
          41.0641479492188,
          41.0586547851562,
          41.0641479492188,
          41.0641479492188,
          41.0256958007812,
          41.0531616210938,
          41.0641479492188,
          41.0641479492188,
          41.0586547851562,
          41.0641479492188,
          41.0641479492188,
          41.0641479492188,
          41.0641479492188,
          41.0586547851562,
          41.0641479492188,
          41.0476684570312,
          41.0256958007812,
          41.0256958007812,
          41.0586547851562,
          41.0641479492188,
          41.0641479492188,
          41.0641479492188,
          41.0641479492188,
          41.0476684570312,
          41.0641479492188,
          41.0586547851562,
          41.0641479492188,
          41.0641479492188,
          41.0641479492188,
          41.0641479492188,
          41.0586547851562,
          41.0641479492188,
          41.0641479492188,
          41.0641479492188,
          41.0476684570312,
          41.0586547851562,
          41.0641479492188,
          41.0586547851562,
          41.0476684570312,
          41.0641479492188,
          41.0641479492188,
          41.0641479492188,
          41.0256958007812,
          41.0586547851562,
          41.0586547851562,
          41.0641479492188,
          41.0641479492188,
          41.0256958007812,
          41.0641479492188,
          41.0641479492188,
          41.0641479492188,
          41.0641479492188,
          41.0586547851562,
          41.0641479492188,
          41.0641479492188,
          41.0586547851562,
          41.0641479492188,
          41.0586547851562,
          41.0641479492188,
          41.0586547851562,
          41.0641479492188,
          41.0641479492188,
          41.0641479492188,
          41.0641479492188,
          41.0256958007812,
          41.0256958007812,
          41.0641479492188,
          41.0641479492188,
          41.0256958007812,
          41.0586547851562,
          41.0641479492188,
          41.0641479492188,
          41.0641479492188,
          41.0641479492188,
          41.0641479492188,
          41.0641479492188,
          41.0586547851562,
          41.0641479492188,
          41.0641479492188,
          41.0641479492188,
          41.0641479492188,
          41.0641479492188,
          41.0641479492188,
          41.0641479492188,
          41.0641479492188,
          41.0641479492188,
          41.0641479492188,
          41.0256958007812,
          41.0641479492188,
          41.0641479492188,
          41.0641479492188,
          41.0641479492188,
          41.0641479492188,
          41.0641479492188,
          41.0641479492188,
          41.0256958007812,
          41.0256958007812,
          41.0641479492188,
          41.0641479492188,
          41.0586547851562,
          41.0641479492188,
          41.0641479492188,
          41.0586547851562,
          41.0641479492188,
          41.0256958007812,
          41.0641479492188,
          41.0641479492188,
          41.0586547851562,
          41.0641479492188,
          41.0641479492188,
          41.0641479492188,
          41.0586547851562,
          41.0586547851562,
          41.0641479492188,
          41.0641479492188,
          41.0641479492188,
          41.0256958007812,
          41.0641479492188,
          41.0641479492188,
          41.0641479492188,
          41.0641479492188,
          41.0641479492188,
          41.0641479492188,
          41.0531616210938,
          41.0641479492188,
          41.0641479492188,
          41.0586547851562,
          41.0641479492188,
          41.0641479492188,
          41.0641479492188,
          41.0641479492188,
          41.0641479492188,
          41.0641479492188,
          41.0476684570312,
          41.0586547851562,
          41.0586547851562,
          41.0476684570312,
          41.0586547851562,
          41.0586547851562,
          41.0586547851562,
          41.0641479492188
         ]
        },
        {
         "mode": "markers",
         "name": "Optimum Loc",
         "type": "scatter",
         "x": [
          28.850899,
          28.812941,
          28.820821,
          28.5602292,
          28.139876,
          28.8548222,
          28.9141459,
          28.8320013,
          28.8314834,
          28.8542913,
          28.8108901,
          28.8603332,
          28.8321864,
          28.8464294,
          28.8567602,
          28.8273527,
          28.8365713,
          28.8141833,
          28.8337263,
          28.8271602,
          28.8542213,
          28.8689013,
          28.8477168,
          28.8484524,
          28.8320781,
          28.8516587,
          28.7838074,
          28.8509364,
          28.9175603,
          28.8664987,
          28.8546345
         ],
         "y": [
          41.037205,
          41.042879,
          41.0417052,
          41.027057,
          41.0256149,
          41.047158,
          41.0658507,
          41.03674,
          41.0234637,
          41.03059,
          41.00443,
          41.0367394,
          41.042834,
          41.0464602,
          41.0259872,
          41.0371874,
          41.05446,
          41.0547894,
          41.04069,
          41.0406896,
          41.0347,
          41.03729,
          41.0350228,
          41.024135,
          41.0386388,
          41.0420536,
          41.0420324,
          41.0342317,
          41.0092624,
          41.0335241,
          41.0533493
         ]
        },
        {
         "marker": {
          "color": "darkmagenta",
          "size": 10
         },
         "mode": "markers",
         "name": "Optimal Point",
         "type": "scatter",
         "x": [
          28.813026536586886
         ],
         "y": [
          41.0589596599315
         ]
        }
       ],
       "layout": {
        "template": {
         "data": {
          "bar": [
           {
            "error_x": {
             "color": "#2a3f5f"
            },
            "error_y": {
             "color": "#2a3f5f"
            },
            "marker": {
             "line": {
              "color": "#E5ECF6",
              "width": 0.5
             },
             "pattern": {
              "fillmode": "overlay",
              "size": 10,
              "solidity": 0.2
             }
            },
            "type": "bar"
           }
          ],
          "barpolar": [
           {
            "marker": {
             "line": {
              "color": "#E5ECF6",
              "width": 0.5
             },
             "pattern": {
              "fillmode": "overlay",
              "size": 10,
              "solidity": 0.2
             }
            },
            "type": "barpolar"
           }
          ],
          "carpet": [
           {
            "aaxis": {
             "endlinecolor": "#2a3f5f",
             "gridcolor": "white",
             "linecolor": "white",
             "minorgridcolor": "white",
             "startlinecolor": "#2a3f5f"
            },
            "baxis": {
             "endlinecolor": "#2a3f5f",
             "gridcolor": "white",
             "linecolor": "white",
             "minorgridcolor": "white",
             "startlinecolor": "#2a3f5f"
            },
            "type": "carpet"
           }
          ],
          "choropleth": [
           {
            "colorbar": {
             "outlinewidth": 0,
             "ticks": ""
            },
            "type": "choropleth"
           }
          ],
          "contour": [
           {
            "colorbar": {
             "outlinewidth": 0,
             "ticks": ""
            },
            "colorscale": [
             [
              0,
              "#0d0887"
             ],
             [
              0.1111111111111111,
              "#46039f"
             ],
             [
              0.2222222222222222,
              "#7201a8"
             ],
             [
              0.3333333333333333,
              "#9c179e"
             ],
             [
              0.4444444444444444,
              "#bd3786"
             ],
             [
              0.5555555555555556,
              "#d8576b"
             ],
             [
              0.6666666666666666,
              "#ed7953"
             ],
             [
              0.7777777777777778,
              "#fb9f3a"
             ],
             [
              0.8888888888888888,
              "#fdca26"
             ],
             [
              1,
              "#f0f921"
             ]
            ],
            "type": "contour"
           }
          ],
          "contourcarpet": [
           {
            "colorbar": {
             "outlinewidth": 0,
             "ticks": ""
            },
            "type": "contourcarpet"
           }
          ],
          "heatmap": [
           {
            "colorbar": {
             "outlinewidth": 0,
             "ticks": ""
            },
            "colorscale": [
             [
              0,
              "#0d0887"
             ],
             [
              0.1111111111111111,
              "#46039f"
             ],
             [
              0.2222222222222222,
              "#7201a8"
             ],
             [
              0.3333333333333333,
              "#9c179e"
             ],
             [
              0.4444444444444444,
              "#bd3786"
             ],
             [
              0.5555555555555556,
              "#d8576b"
             ],
             [
              0.6666666666666666,
              "#ed7953"
             ],
             [
              0.7777777777777778,
              "#fb9f3a"
             ],
             [
              0.8888888888888888,
              "#fdca26"
             ],
             [
              1,
              "#f0f921"
             ]
            ],
            "type": "heatmap"
           }
          ],
          "heatmapgl": [
           {
            "colorbar": {
             "outlinewidth": 0,
             "ticks": ""
            },
            "colorscale": [
             [
              0,
              "#0d0887"
             ],
             [
              0.1111111111111111,
              "#46039f"
             ],
             [
              0.2222222222222222,
              "#7201a8"
             ],
             [
              0.3333333333333333,
              "#9c179e"
             ],
             [
              0.4444444444444444,
              "#bd3786"
             ],
             [
              0.5555555555555556,
              "#d8576b"
             ],
             [
              0.6666666666666666,
              "#ed7953"
             ],
             [
              0.7777777777777778,
              "#fb9f3a"
             ],
             [
              0.8888888888888888,
              "#fdca26"
             ],
             [
              1,
              "#f0f921"
             ]
            ],
            "type": "heatmapgl"
           }
          ],
          "histogram": [
           {
            "marker": {
             "pattern": {
              "fillmode": "overlay",
              "size": 10,
              "solidity": 0.2
             }
            },
            "type": "histogram"
           }
          ],
          "histogram2d": [
           {
            "colorbar": {
             "outlinewidth": 0,
             "ticks": ""
            },
            "colorscale": [
             [
              0,
              "#0d0887"
             ],
             [
              0.1111111111111111,
              "#46039f"
             ],
             [
              0.2222222222222222,
              "#7201a8"
             ],
             [
              0.3333333333333333,
              "#9c179e"
             ],
             [
              0.4444444444444444,
              "#bd3786"
             ],
             [
              0.5555555555555556,
              "#d8576b"
             ],
             [
              0.6666666666666666,
              "#ed7953"
             ],
             [
              0.7777777777777778,
              "#fb9f3a"
             ],
             [
              0.8888888888888888,
              "#fdca26"
             ],
             [
              1,
              "#f0f921"
             ]
            ],
            "type": "histogram2d"
           }
          ],
          "histogram2dcontour": [
           {
            "colorbar": {
             "outlinewidth": 0,
             "ticks": ""
            },
            "colorscale": [
             [
              0,
              "#0d0887"
             ],
             [
              0.1111111111111111,
              "#46039f"
             ],
             [
              0.2222222222222222,
              "#7201a8"
             ],
             [
              0.3333333333333333,
              "#9c179e"
             ],
             [
              0.4444444444444444,
              "#bd3786"
             ],
             [
              0.5555555555555556,
              "#d8576b"
             ],
             [
              0.6666666666666666,
              "#ed7953"
             ],
             [
              0.7777777777777778,
              "#fb9f3a"
             ],
             [
              0.8888888888888888,
              "#fdca26"
             ],
             [
              1,
              "#f0f921"
             ]
            ],
            "type": "histogram2dcontour"
           }
          ],
          "mesh3d": [
           {
            "colorbar": {
             "outlinewidth": 0,
             "ticks": ""
            },
            "type": "mesh3d"
           }
          ],
          "parcoords": [
           {
            "line": {
             "colorbar": {
              "outlinewidth": 0,
              "ticks": ""
             }
            },
            "type": "parcoords"
           }
          ],
          "pie": [
           {
            "automargin": true,
            "type": "pie"
           }
          ],
          "scatter": [
           {
            "fillpattern": {
             "fillmode": "overlay",
             "size": 10,
             "solidity": 0.2
            },
            "type": "scatter"
           }
          ],
          "scatter3d": [
           {
            "line": {
             "colorbar": {
              "outlinewidth": 0,
              "ticks": ""
             }
            },
            "marker": {
             "colorbar": {
              "outlinewidth": 0,
              "ticks": ""
             }
            },
            "type": "scatter3d"
           }
          ],
          "scattercarpet": [
           {
            "marker": {
             "colorbar": {
              "outlinewidth": 0,
              "ticks": ""
             }
            },
            "type": "scattercarpet"
           }
          ],
          "scattergeo": [
           {
            "marker": {
             "colorbar": {
              "outlinewidth": 0,
              "ticks": ""
             }
            },
            "type": "scattergeo"
           }
          ],
          "scattergl": [
           {
            "marker": {
             "colorbar": {
              "outlinewidth": 0,
              "ticks": ""
             }
            },
            "type": "scattergl"
           }
          ],
          "scattermapbox": [
           {
            "marker": {
             "colorbar": {
              "outlinewidth": 0,
              "ticks": ""
             }
            },
            "type": "scattermapbox"
           }
          ],
          "scatterpolar": [
           {
            "marker": {
             "colorbar": {
              "outlinewidth": 0,
              "ticks": ""
             }
            },
            "type": "scatterpolar"
           }
          ],
          "scatterpolargl": [
           {
            "marker": {
             "colorbar": {
              "outlinewidth": 0,
              "ticks": ""
             }
            },
            "type": "scatterpolargl"
           }
          ],
          "scatterternary": [
           {
            "marker": {
             "colorbar": {
              "outlinewidth": 0,
              "ticks": ""
             }
            },
            "type": "scatterternary"
           }
          ],
          "surface": [
           {
            "colorbar": {
             "outlinewidth": 0,
             "ticks": ""
            },
            "colorscale": [
             [
              0,
              "#0d0887"
             ],
             [
              0.1111111111111111,
              "#46039f"
             ],
             [
              0.2222222222222222,
              "#7201a8"
             ],
             [
              0.3333333333333333,
              "#9c179e"
             ],
             [
              0.4444444444444444,
              "#bd3786"
             ],
             [
              0.5555555555555556,
              "#d8576b"
             ],
             [
              0.6666666666666666,
              "#ed7953"
             ],
             [
              0.7777777777777778,
              "#fb9f3a"
             ],
             [
              0.8888888888888888,
              "#fdca26"
             ],
             [
              1,
              "#f0f921"
             ]
            ],
            "type": "surface"
           }
          ],
          "table": [
           {
            "cells": {
             "fill": {
              "color": "#EBF0F8"
             },
             "line": {
              "color": "white"
             }
            },
            "header": {
             "fill": {
              "color": "#C8D4E3"
             },
             "line": {
              "color": "white"
             }
            },
            "type": "table"
           }
          ]
         },
         "layout": {
          "annotationdefaults": {
           "arrowcolor": "#2a3f5f",
           "arrowhead": 0,
           "arrowwidth": 1
          },
          "autotypenumbers": "strict",
          "coloraxis": {
           "colorbar": {
            "outlinewidth": 0,
            "ticks": ""
           }
          },
          "colorscale": {
           "diverging": [
            [
             0,
             "#8e0152"
            ],
            [
             0.1,
             "#c51b7d"
            ],
            [
             0.2,
             "#de77ae"
            ],
            [
             0.3,
             "#f1b6da"
            ],
            [
             0.4,
             "#fde0ef"
            ],
            [
             0.5,
             "#f7f7f7"
            ],
            [
             0.6,
             "#e6f5d0"
            ],
            [
             0.7,
             "#b8e186"
            ],
            [
             0.8,
             "#7fbc41"
            ],
            [
             0.9,
             "#4d9221"
            ],
            [
             1,
             "#276419"
            ]
           ],
           "sequential": [
            [
             0,
             "#0d0887"
            ],
            [
             0.1111111111111111,
             "#46039f"
            ],
            [
             0.2222222222222222,
             "#7201a8"
            ],
            [
             0.3333333333333333,
             "#9c179e"
            ],
            [
             0.4444444444444444,
             "#bd3786"
            ],
            [
             0.5555555555555556,
             "#d8576b"
            ],
            [
             0.6666666666666666,
             "#ed7953"
            ],
            [
             0.7777777777777778,
             "#fb9f3a"
            ],
            [
             0.8888888888888888,
             "#fdca26"
            ],
            [
             1,
             "#f0f921"
            ]
           ],
           "sequentialminus": [
            [
             0,
             "#0d0887"
            ],
            [
             0.1111111111111111,
             "#46039f"
            ],
            [
             0.2222222222222222,
             "#7201a8"
            ],
            [
             0.3333333333333333,
             "#9c179e"
            ],
            [
             0.4444444444444444,
             "#bd3786"
            ],
            [
             0.5555555555555556,
             "#d8576b"
            ],
            [
             0.6666666666666666,
             "#ed7953"
            ],
            [
             0.7777777777777778,
             "#fb9f3a"
            ],
            [
             0.8888888888888888,
             "#fdca26"
            ],
            [
             1,
             "#f0f921"
            ]
           ]
          },
          "colorway": [
           "#636efa",
           "#EF553B",
           "#00cc96",
           "#ab63fa",
           "#FFA15A",
           "#19d3f3",
           "#FF6692",
           "#B6E880",
           "#FF97FF",
           "#FECB52"
          ],
          "font": {
           "color": "#2a3f5f"
          },
          "geo": {
           "bgcolor": "white",
           "lakecolor": "white",
           "landcolor": "#E5ECF6",
           "showlakes": true,
           "showland": true,
           "subunitcolor": "white"
          },
          "hoverlabel": {
           "align": "left"
          },
          "hovermode": "closest",
          "mapbox": {
           "style": "light"
          },
          "paper_bgcolor": "white",
          "plot_bgcolor": "#E5ECF6",
          "polar": {
           "angularaxis": {
            "gridcolor": "white",
            "linecolor": "white",
            "ticks": ""
           },
           "bgcolor": "#E5ECF6",
           "radialaxis": {
            "gridcolor": "white",
            "linecolor": "white",
            "ticks": ""
           }
          },
          "scene": {
           "xaxis": {
            "backgroundcolor": "#E5ECF6",
            "gridcolor": "white",
            "gridwidth": 2,
            "linecolor": "white",
            "showbackground": true,
            "ticks": "",
            "zerolinecolor": "white"
           },
           "yaxis": {
            "backgroundcolor": "#E5ECF6",
            "gridcolor": "white",
            "gridwidth": 2,
            "linecolor": "white",
            "showbackground": true,
            "ticks": "",
            "zerolinecolor": "white"
           },
           "zaxis": {
            "backgroundcolor": "#E5ECF6",
            "gridcolor": "white",
            "gridwidth": 2,
            "linecolor": "white",
            "showbackground": true,
            "ticks": "",
            "zerolinecolor": "white"
           }
          },
          "shapedefaults": {
           "line": {
            "color": "#2a3f5f"
           }
          },
          "ternary": {
           "aaxis": {
            "gridcolor": "white",
            "linecolor": "white",
            "ticks": ""
           },
           "baxis": {
            "gridcolor": "white",
            "linecolor": "white",
            "ticks": ""
           },
           "bgcolor": "#E5ECF6",
           "caxis": {
            "gridcolor": "white",
            "linecolor": "white",
            "ticks": ""
           }
          },
          "title": {
           "x": 0.05
          },
          "xaxis": {
           "automargin": true,
           "gridcolor": "white",
           "linecolor": "white",
           "ticks": "",
           "title": {
            "standoff": 15
           },
           "zerolinecolor": "white",
           "zerolinewidth": 2
          },
          "yaxis": {
           "automargin": true,
           "gridcolor": "white",
           "linecolor": "white",
           "ticks": "",
           "title": {
            "standoff": 15
           },
           "zerolinecolor": "white",
           "zerolinewidth": 2
          }
         }
        }
       }
      }
     },
     "metadata": {},
     "output_type": "display_data"
    }
   ],
   "source": [
    "def weighted_average(points, weights):\n",
    "    total_weight = sum(weights)\n",
    "    x_coord = sum([p[0] * w for p, w in zip(points, weights)]) / total_weight\n",
    "    y_coord = sum([p[1] * w for p, w in zip(points, weights)]) / total_weight\n",
    "    return (x_coord, y_coord)\n",
    "points = list(zip(df1['LONGITUDE'], df1['LATITUDE']))\n",
    "weights = df1['NUMBER_OF_VEHICLES']\n",
    "optimum_point = weighted_average(points, weights)\n",
    "\n",
    "import plotly.graph_objects as go\n",
    "\n",
    "# Create a figure with 2 subplots\n",
    "fig = go.Figure()\n",
    "\n",
    "# Add a scatter plot to the first subplot\n",
    "fig.add_scatter(x=df1['LONGITUDE'], y=df1['LATITUDE'],\n",
    "                mode='markers',\n",
    "                name='Yoğunluk Based Loc')\n",
    "\n",
    "# Add a scatter plot to the second subplot\n",
    "fig.add_scatter(x=df3['LONGITUDE'], y=df3['LATITUDE'],\n",
    "                mode='markers',\n",
    "                name='Optimum Loc')\n",
    "\n",
    "# Add the optimal point as a new trace\n",
    "fig.add_scatter(x=[optimum_point[0]], y=[optimum_point[1]],\n",
    "                mode='markers',\n",
    "                name='Optimal Point',\n",
    "                marker=dict(size=10, color='darkmagenta'))\n",
    "\n",
    "fig.show()"
   ]
  },
  {
   "cell_type": "code",
   "execution_count": 73,
   "metadata": {},
   "outputs": [
    {
     "data": {
      "application/vnd.plotly.v1+json": {
       "config": {
        "plotlyServerURL": "https://plot.ly"
       },
       "data": [
        {
         "hovertemplate": "X-Axis=%{x}<br>Y-Axis=%{y}<br>size=%{marker.size}<br>color=%{marker.color}<extra></extra>",
         "legendgroup": "",
         "marker": {
          "color": [
           28.850899,
           28.812941,
           28.820821,
           28.5602292,
           28.139876,
           28.8548222,
           28.9141459,
           28.8320013,
           28.8314834,
           28.8542913,
           28.8108901,
           28.8603332,
           28.8321864,
           28.8464294,
           28.8567602,
           28.8273527,
           28.8365713,
           28.8141833,
           28.8337263,
           28.8271602,
           28.8542213,
           28.8689013,
           28.8477168,
           28.8484524,
           28.8320781,
           28.8516587,
           28.7838074,
           28.8509364,
           28.9175603,
           28.8664987,
           28.8546345
          ],
          "coloraxis": "coloraxis",
          "size": [
           41.037205,
           41.042879,
           41.0417052,
           41.027057,
           41.0256149,
           41.047158,
           41.0658507,
           41.03674,
           41.0234637,
           41.03059,
           41.00443,
           41.0367394,
           41.042834,
           41.0464602,
           41.0259872,
           41.0371874,
           41.05446,
           41.0547894,
           41.04069,
           41.0406896,
           41.0347,
           41.03729,
           41.0350228,
           41.024135,
           41.0386388,
           41.0420536,
           41.0420324,
           41.0342317,
           41.0092624,
           41.0335241,
           41.0533493
          ],
          "sizemode": "area",
          "sizeref": 0.10266462675,
          "symbol": "circle"
         },
         "mode": "markers",
         "name": "",
         "orientation": "v",
         "showlegend": false,
         "type": "scatter",
         "x": [
          28.850899,
          28.812941,
          28.820821,
          28.5602292,
          28.139876,
          28.8548222,
          28.9141459,
          28.8320013,
          28.8314834,
          28.8542913,
          28.8108901,
          28.8603332,
          28.8321864,
          28.8464294,
          28.8567602,
          28.8273527,
          28.8365713,
          28.8141833,
          28.8337263,
          28.8271602,
          28.8542213,
          28.8689013,
          28.8477168,
          28.8484524,
          28.8320781,
          28.8516587,
          28.7838074,
          28.8509364,
          28.9175603,
          28.8664987,
          28.8546345
         ],
         "xaxis": "x",
         "y": [
          41.037205,
          41.042879,
          41.0417052,
          41.027057,
          41.0256149,
          41.047158,
          41.0658507,
          41.03674,
          41.0234637,
          41.03059,
          41.00443,
          41.0367394,
          41.042834,
          41.0464602,
          41.0259872,
          41.0371874,
          41.05446,
          41.0547894,
          41.04069,
          41.0406896,
          41.0347,
          41.03729,
          41.0350228,
          41.024135,
          41.0386388,
          41.0420536,
          41.0420324,
          41.0342317,
          41.0092624,
          41.0335241,
          41.0533493
         ],
         "yaxis": "y"
        }
       ],
       "layout": {
        "coloraxis": {
         "colorbar": {
          "title": {
           "text": "color"
          }
         },
         "colorscale": [
          [
           0,
           "#0d0887"
          ],
          [
           0.1111111111111111,
           "#46039f"
          ],
          [
           0.2222222222222222,
           "#7201a8"
          ],
          [
           0.3333333333333333,
           "#9c179e"
          ],
          [
           0.4444444444444444,
           "#bd3786"
          ],
          [
           0.5555555555555556,
           "#d8576b"
          ],
          [
           0.6666666666666666,
           "#ed7953"
          ],
          [
           0.7777777777777778,
           "#fb9f3a"
          ],
          [
           0.8888888888888888,
           "#fdca26"
          ],
          [
           1,
           "#f0f921"
          ]
         ]
        },
        "legend": {
         "itemsizing": "constant",
         "tracegroupgap": 0
        },
        "template": {
         "data": {
          "bar": [
           {
            "error_x": {
             "color": "#2a3f5f"
            },
            "error_y": {
             "color": "#2a3f5f"
            },
            "marker": {
             "line": {
              "color": "#E5ECF6",
              "width": 0.5
             },
             "pattern": {
              "fillmode": "overlay",
              "size": 10,
              "solidity": 0.2
             }
            },
            "type": "bar"
           }
          ],
          "barpolar": [
           {
            "marker": {
             "line": {
              "color": "#E5ECF6",
              "width": 0.5
             },
             "pattern": {
              "fillmode": "overlay",
              "size": 10,
              "solidity": 0.2
             }
            },
            "type": "barpolar"
           }
          ],
          "carpet": [
           {
            "aaxis": {
             "endlinecolor": "#2a3f5f",
             "gridcolor": "white",
             "linecolor": "white",
             "minorgridcolor": "white",
             "startlinecolor": "#2a3f5f"
            },
            "baxis": {
             "endlinecolor": "#2a3f5f",
             "gridcolor": "white",
             "linecolor": "white",
             "minorgridcolor": "white",
             "startlinecolor": "#2a3f5f"
            },
            "type": "carpet"
           }
          ],
          "choropleth": [
           {
            "colorbar": {
             "outlinewidth": 0,
             "ticks": ""
            },
            "type": "choropleth"
           }
          ],
          "contour": [
           {
            "colorbar": {
             "outlinewidth": 0,
             "ticks": ""
            },
            "colorscale": [
             [
              0,
              "#0d0887"
             ],
             [
              0.1111111111111111,
              "#46039f"
             ],
             [
              0.2222222222222222,
              "#7201a8"
             ],
             [
              0.3333333333333333,
              "#9c179e"
             ],
             [
              0.4444444444444444,
              "#bd3786"
             ],
             [
              0.5555555555555556,
              "#d8576b"
             ],
             [
              0.6666666666666666,
              "#ed7953"
             ],
             [
              0.7777777777777778,
              "#fb9f3a"
             ],
             [
              0.8888888888888888,
              "#fdca26"
             ],
             [
              1,
              "#f0f921"
             ]
            ],
            "type": "contour"
           }
          ],
          "contourcarpet": [
           {
            "colorbar": {
             "outlinewidth": 0,
             "ticks": ""
            },
            "type": "contourcarpet"
           }
          ],
          "heatmap": [
           {
            "colorbar": {
             "outlinewidth": 0,
             "ticks": ""
            },
            "colorscale": [
             [
              0,
              "#0d0887"
             ],
             [
              0.1111111111111111,
              "#46039f"
             ],
             [
              0.2222222222222222,
              "#7201a8"
             ],
             [
              0.3333333333333333,
              "#9c179e"
             ],
             [
              0.4444444444444444,
              "#bd3786"
             ],
             [
              0.5555555555555556,
              "#d8576b"
             ],
             [
              0.6666666666666666,
              "#ed7953"
             ],
             [
              0.7777777777777778,
              "#fb9f3a"
             ],
             [
              0.8888888888888888,
              "#fdca26"
             ],
             [
              1,
              "#f0f921"
             ]
            ],
            "type": "heatmap"
           }
          ],
          "heatmapgl": [
           {
            "colorbar": {
             "outlinewidth": 0,
             "ticks": ""
            },
            "colorscale": [
             [
              0,
              "#0d0887"
             ],
             [
              0.1111111111111111,
              "#46039f"
             ],
             [
              0.2222222222222222,
              "#7201a8"
             ],
             [
              0.3333333333333333,
              "#9c179e"
             ],
             [
              0.4444444444444444,
              "#bd3786"
             ],
             [
              0.5555555555555556,
              "#d8576b"
             ],
             [
              0.6666666666666666,
              "#ed7953"
             ],
             [
              0.7777777777777778,
              "#fb9f3a"
             ],
             [
              0.8888888888888888,
              "#fdca26"
             ],
             [
              1,
              "#f0f921"
             ]
            ],
            "type": "heatmapgl"
           }
          ],
          "histogram": [
           {
            "marker": {
             "pattern": {
              "fillmode": "overlay",
              "size": 10,
              "solidity": 0.2
             }
            },
            "type": "histogram"
           }
          ],
          "histogram2d": [
           {
            "colorbar": {
             "outlinewidth": 0,
             "ticks": ""
            },
            "colorscale": [
             [
              0,
              "#0d0887"
             ],
             [
              0.1111111111111111,
              "#46039f"
             ],
             [
              0.2222222222222222,
              "#7201a8"
             ],
             [
              0.3333333333333333,
              "#9c179e"
             ],
             [
              0.4444444444444444,
              "#bd3786"
             ],
             [
              0.5555555555555556,
              "#d8576b"
             ],
             [
              0.6666666666666666,
              "#ed7953"
             ],
             [
              0.7777777777777778,
              "#fb9f3a"
             ],
             [
              0.8888888888888888,
              "#fdca26"
             ],
             [
              1,
              "#f0f921"
             ]
            ],
            "type": "histogram2d"
           }
          ],
          "histogram2dcontour": [
           {
            "colorbar": {
             "outlinewidth": 0,
             "ticks": ""
            },
            "colorscale": [
             [
              0,
              "#0d0887"
             ],
             [
              0.1111111111111111,
              "#46039f"
             ],
             [
              0.2222222222222222,
              "#7201a8"
             ],
             [
              0.3333333333333333,
              "#9c179e"
             ],
             [
              0.4444444444444444,
              "#bd3786"
             ],
             [
              0.5555555555555556,
              "#d8576b"
             ],
             [
              0.6666666666666666,
              "#ed7953"
             ],
             [
              0.7777777777777778,
              "#fb9f3a"
             ],
             [
              0.8888888888888888,
              "#fdca26"
             ],
             [
              1,
              "#f0f921"
             ]
            ],
            "type": "histogram2dcontour"
           }
          ],
          "mesh3d": [
           {
            "colorbar": {
             "outlinewidth": 0,
             "ticks": ""
            },
            "type": "mesh3d"
           }
          ],
          "parcoords": [
           {
            "line": {
             "colorbar": {
              "outlinewidth": 0,
              "ticks": ""
             }
            },
            "type": "parcoords"
           }
          ],
          "pie": [
           {
            "automargin": true,
            "type": "pie"
           }
          ],
          "scatter": [
           {
            "fillpattern": {
             "fillmode": "overlay",
             "size": 10,
             "solidity": 0.2
            },
            "type": "scatter"
           }
          ],
          "scatter3d": [
           {
            "line": {
             "colorbar": {
              "outlinewidth": 0,
              "ticks": ""
             }
            },
            "marker": {
             "colorbar": {
              "outlinewidth": 0,
              "ticks": ""
             }
            },
            "type": "scatter3d"
           }
          ],
          "scattercarpet": [
           {
            "marker": {
             "colorbar": {
              "outlinewidth": 0,
              "ticks": ""
             }
            },
            "type": "scattercarpet"
           }
          ],
          "scattergeo": [
           {
            "marker": {
             "colorbar": {
              "outlinewidth": 0,
              "ticks": ""
             }
            },
            "type": "scattergeo"
           }
          ],
          "scattergl": [
           {
            "marker": {
             "colorbar": {
              "outlinewidth": 0,
              "ticks": ""
             }
            },
            "type": "scattergl"
           }
          ],
          "scattermapbox": [
           {
            "marker": {
             "colorbar": {
              "outlinewidth": 0,
              "ticks": ""
             }
            },
            "type": "scattermapbox"
           }
          ],
          "scatterpolar": [
           {
            "marker": {
             "colorbar": {
              "outlinewidth": 0,
              "ticks": ""
             }
            },
            "type": "scatterpolar"
           }
          ],
          "scatterpolargl": [
           {
            "marker": {
             "colorbar": {
              "outlinewidth": 0,
              "ticks": ""
             }
            },
            "type": "scatterpolargl"
           }
          ],
          "scatterternary": [
           {
            "marker": {
             "colorbar": {
              "outlinewidth": 0,
              "ticks": ""
             }
            },
            "type": "scatterternary"
           }
          ],
          "surface": [
           {
            "colorbar": {
             "outlinewidth": 0,
             "ticks": ""
            },
            "colorscale": [
             [
              0,
              "#0d0887"
             ],
             [
              0.1111111111111111,
              "#46039f"
             ],
             [
              0.2222222222222222,
              "#7201a8"
             ],
             [
              0.3333333333333333,
              "#9c179e"
             ],
             [
              0.4444444444444444,
              "#bd3786"
             ],
             [
              0.5555555555555556,
              "#d8576b"
             ],
             [
              0.6666666666666666,
              "#ed7953"
             ],
             [
              0.7777777777777778,
              "#fb9f3a"
             ],
             [
              0.8888888888888888,
              "#fdca26"
             ],
             [
              1,
              "#f0f921"
             ]
            ],
            "type": "surface"
           }
          ],
          "table": [
           {
            "cells": {
             "fill": {
              "color": "#EBF0F8"
             },
             "line": {
              "color": "white"
             }
            },
            "header": {
             "fill": {
              "color": "#C8D4E3"
             },
             "line": {
              "color": "white"
             }
            },
            "type": "table"
           }
          ]
         },
         "layout": {
          "annotationdefaults": {
           "arrowcolor": "#2a3f5f",
           "arrowhead": 0,
           "arrowwidth": 1
          },
          "autotypenumbers": "strict",
          "coloraxis": {
           "colorbar": {
            "outlinewidth": 0,
            "ticks": ""
           }
          },
          "colorscale": {
           "diverging": [
            [
             0,
             "#8e0152"
            ],
            [
             0.1,
             "#c51b7d"
            ],
            [
             0.2,
             "#de77ae"
            ],
            [
             0.3,
             "#f1b6da"
            ],
            [
             0.4,
             "#fde0ef"
            ],
            [
             0.5,
             "#f7f7f7"
            ],
            [
             0.6,
             "#e6f5d0"
            ],
            [
             0.7,
             "#b8e186"
            ],
            [
             0.8,
             "#7fbc41"
            ],
            [
             0.9,
             "#4d9221"
            ],
            [
             1,
             "#276419"
            ]
           ],
           "sequential": [
            [
             0,
             "#0d0887"
            ],
            [
             0.1111111111111111,
             "#46039f"
            ],
            [
             0.2222222222222222,
             "#7201a8"
            ],
            [
             0.3333333333333333,
             "#9c179e"
            ],
            [
             0.4444444444444444,
             "#bd3786"
            ],
            [
             0.5555555555555556,
             "#d8576b"
            ],
            [
             0.6666666666666666,
             "#ed7953"
            ],
            [
             0.7777777777777778,
             "#fb9f3a"
            ],
            [
             0.8888888888888888,
             "#fdca26"
            ],
            [
             1,
             "#f0f921"
            ]
           ],
           "sequentialminus": [
            [
             0,
             "#0d0887"
            ],
            [
             0.1111111111111111,
             "#46039f"
            ],
            [
             0.2222222222222222,
             "#7201a8"
            ],
            [
             0.3333333333333333,
             "#9c179e"
            ],
            [
             0.4444444444444444,
             "#bd3786"
            ],
            [
             0.5555555555555556,
             "#d8576b"
            ],
            [
             0.6666666666666666,
             "#ed7953"
            ],
            [
             0.7777777777777778,
             "#fb9f3a"
            ],
            [
             0.8888888888888888,
             "#fdca26"
            ],
            [
             1,
             "#f0f921"
            ]
           ]
          },
          "colorway": [
           "#636efa",
           "#EF553B",
           "#00cc96",
           "#ab63fa",
           "#FFA15A",
           "#19d3f3",
           "#FF6692",
           "#B6E880",
           "#FF97FF",
           "#FECB52"
          ],
          "font": {
           "color": "#2a3f5f"
          },
          "geo": {
           "bgcolor": "white",
           "lakecolor": "white",
           "landcolor": "#E5ECF6",
           "showlakes": true,
           "showland": true,
           "subunitcolor": "white"
          },
          "hoverlabel": {
           "align": "left"
          },
          "hovermode": "closest",
          "mapbox": {
           "style": "light"
          },
          "paper_bgcolor": "white",
          "plot_bgcolor": "#E5ECF6",
          "polar": {
           "angularaxis": {
            "gridcolor": "white",
            "linecolor": "white",
            "ticks": ""
           },
           "bgcolor": "#E5ECF6",
           "radialaxis": {
            "gridcolor": "white",
            "linecolor": "white",
            "ticks": ""
           }
          },
          "scene": {
           "xaxis": {
            "backgroundcolor": "#E5ECF6",
            "gridcolor": "white",
            "gridwidth": 2,
            "linecolor": "white",
            "showbackground": true,
            "ticks": "",
            "zerolinecolor": "white"
           },
           "yaxis": {
            "backgroundcolor": "#E5ECF6",
            "gridcolor": "white",
            "gridwidth": 2,
            "linecolor": "white",
            "showbackground": true,
            "ticks": "",
            "zerolinecolor": "white"
           },
           "zaxis": {
            "backgroundcolor": "#E5ECF6",
            "gridcolor": "white",
            "gridwidth": 2,
            "linecolor": "white",
            "showbackground": true,
            "ticks": "",
            "zerolinecolor": "white"
           }
          },
          "shapedefaults": {
           "line": {
            "color": "#2a3f5f"
           }
          },
          "ternary": {
           "aaxis": {
            "gridcolor": "white",
            "linecolor": "white",
            "ticks": ""
           },
           "baxis": {
            "gridcolor": "white",
            "linecolor": "white",
            "ticks": ""
           },
           "bgcolor": "#E5ECF6",
           "caxis": {
            "gridcolor": "white",
            "linecolor": "white",
            "ticks": ""
           }
          },
          "title": {
           "x": 0.05
          },
          "xaxis": {
           "automargin": true,
           "gridcolor": "white",
           "linecolor": "white",
           "ticks": "",
           "title": {
            "standoff": 15
           },
           "zerolinecolor": "white",
           "zerolinewidth": 2
          },
          "yaxis": {
           "automargin": true,
           "gridcolor": "white",
           "linecolor": "white",
           "ticks": "",
           "title": {
            "standoff": 15
           },
           "zerolinecolor": "white",
           "zerolinewidth": 2
          }
         }
        },
        "title": {
         "text": "Scatter Plot"
        },
        "xaxis": {
         "anchor": "y",
         "domain": [
          0,
          1
         ],
         "title": {
          "text": "X-Axis"
         }
        },
        "yaxis": {
         "anchor": "x",
         "domain": [
          0,
          1
         ],
         "title": {
          "text": "Y-Axis"
         }
        }
       }
      }
     },
     "metadata": {},
     "output_type": "display_data"
    }
   ],
   "source": [
    "import plotly.express as px\n",
    "\n",
    "fig = px.scatter(x = df3[\"LONGITUDE\"][:100], y = df3[\"LATITUDE\"][:100], color = df3[\"LONGITUDE\"][:100], size = df3[\"LATITUDE\"][:100],\n",
    "                 title = \"Scatter Plot\", labels = {\"x\": \"X-Axis\", \"y\": \"Y-Axis\"})\n",
    "fig.show()\n"
   ]
  },
  {
   "cell_type": "code",
   "execution_count": 74,
   "metadata": {},
   "outputs": [
    {
     "data": {
      "text/html": [
       "<div>\n",
       "<style scoped>\n",
       "    .dataframe tbody tr th:only-of-type {\n",
       "        vertical-align: middle;\n",
       "    }\n",
       "\n",
       "    .dataframe tbody tr th {\n",
       "        vertical-align: top;\n",
       "    }\n",
       "\n",
       "    .dataframe thead th {\n",
       "        text-align: right;\n",
       "    }\n",
       "</style>\n",
       "<table border=\"1\" class=\"dataframe\">\n",
       "  <thead>\n",
       "    <tr style=\"text-align: right;\">\n",
       "      <th></th>\n",
       "      <th>ILCE</th>\n",
       "      <th>Lokasyon</th>\n",
       "      <th>LATITUDE</th>\n",
       "      <th>LONGITUDE</th>\n",
       "    </tr>\n",
       "  </thead>\n",
       "  <tbody>\n",
       "    <tr>\n",
       "      <th>31</th>\n",
       "      <td>BAHCELIEVLER</td>\n",
       "      <td>75.Yï¿½l CumhurIyet Ilkokulu</td>\n",
       "      <td>41.017576</td>\n",
       "      <td>28.836471</td>\n",
       "    </tr>\n",
       "    <tr>\n",
       "      <th>32</th>\n",
       "      <td>BAHCELIEVLER</td>\n",
       "      <td>Mustafa Kemal Ilkokulu</td>\n",
       "      <td>41.017575</td>\n",
       "      <td>28.821150</td>\n",
       "    </tr>\n",
       "    <tr>\n",
       "      <th>34</th>\n",
       "      <td>BAHCELIEVLER</td>\n",
       "      <td>Koza Ilkokulu</td>\n",
       "      <td>41.006173</td>\n",
       "      <td>28.872530</td>\n",
       "    </tr>\n",
       "    <tr>\n",
       "      <th>35</th>\n",
       "      <td>BAHCELIEVLER</td>\n",
       "      <td>Atatï¿½rk Ilkokulu</td>\n",
       "      <td>41.004349</td>\n",
       "      <td>28.815245</td>\n",
       "    </tr>\n",
       "    <tr>\n",
       "      <th>36</th>\n",
       "      <td>BAHCELIEVLER</td>\n",
       "      <td>GSD EGItIm Vakï¿½f BahCelIevler Ilkokulu</td>\n",
       "      <td>41.010282</td>\n",
       "      <td>28.841550</td>\n",
       "    </tr>\n",
       "    <tr>\n",
       "      <th>37</th>\n",
       "      <td>BAHCELIEVLER</td>\n",
       "      <td>ITO BIlIm Ve Sanat MerkezI</td>\n",
       "      <td>41.015096</td>\n",
       "      <td>28.816031</td>\n",
       "    </tr>\n",
       "    <tr>\n",
       "      <th>38</th>\n",
       "      <td>BAHCELIEVLER</td>\n",
       "      <td>SIyavuSpaSa I.ï¿½.O</td>\n",
       "      <td>41.000860</td>\n",
       "      <td>28.849991</td>\n",
       "    </tr>\n",
       "    <tr>\n",
       "      <th>39</th>\n",
       "      <td>BAHCELIEVLER</td>\n",
       "      <td>Basï¿½n SItesI Iett DuraGï¿½</td>\n",
       "      <td>41.008190</td>\n",
       "      <td>28.728724</td>\n",
       "    </tr>\n",
       "    <tr>\n",
       "      <th>40</th>\n",
       "      <td>BAHCELIEVLER</td>\n",
       "      <td>BahCelIevler BeledIyesI</td>\n",
       "      <td>40.997499</td>\n",
       "      <td>28.841801</td>\n",
       "    </tr>\n",
       "    <tr>\n",
       "      <th>41</th>\n",
       "      <td>BAHCELIEVLER</td>\n",
       "      <td>Haznedar DuraGï¿½</td>\n",
       "      <td>41.002440</td>\n",
       "      <td>28.867136</td>\n",
       "    </tr>\n",
       "    <tr>\n",
       "      <th>42</th>\n",
       "      <td>BAHCELIEVLER</td>\n",
       "      <td>Yayla</td>\n",
       "      <td>41.000988</td>\n",
       "      <td>28.845612</td>\n",
       "    </tr>\n",
       "    <tr>\n",
       "      <th>43</th>\n",
       "      <td>BAHCELIEVLER</td>\n",
       "      <td>SIrInevler</td>\n",
       "      <td>40.999013</td>\n",
       "      <td>28.838232</td>\n",
       "    </tr>\n",
       "    <tr>\n",
       "      <th>44</th>\n",
       "      <td>BAHCELIEVLER</td>\n",
       "      <td>Mustafa Kemal PaSa CaddesI</td>\n",
       "      <td>41.007843</td>\n",
       "      <td>28.851313</td>\n",
       "    </tr>\n",
       "    <tr>\n",
       "      <th>45</th>\n",
       "      <td>BAHCELIEVLER</td>\n",
       "      <td>BahCelIevler Metrobï¿½s</td>\n",
       "      <td>40.995323</td>\n",
       "      <td>28.862079</td>\n",
       "    </tr>\n",
       "    <tr>\n",
       "      <th>46</th>\n",
       "      <td>BAHCELIEVLER</td>\n",
       "      <td>Atakï¿½y Metro Istasyonu</td>\n",
       "      <td>40.991384</td>\n",
       "      <td>28.843565</td>\n",
       "    </tr>\n",
       "    <tr>\n",
       "      <th>47</th>\n",
       "      <td>BAHCELIEVLER</td>\n",
       "      <td>BahCelIevler Parkï¿½</td>\n",
       "      <td>40.882411</td>\n",
       "      <td>29.236534</td>\n",
       "    </tr>\n",
       "    <tr>\n",
       "      <th>48</th>\n",
       "      <td>BAHCELIEVLER</td>\n",
       "      <td>BahCelIevler beledIyesI parkï¿½</td>\n",
       "      <td>40.997374</td>\n",
       "      <td>28.587401</td>\n",
       "    </tr>\n",
       "    <tr>\n",
       "      <th>49</th>\n",
       "      <td>BAHCELIEVLER</td>\n",
       "      <td>NatIonal SovereIgnty Park</td>\n",
       "      <td>41.017175</td>\n",
       "      <td>28.708816</td>\n",
       "    </tr>\n",
       "    <tr>\n",
       "      <th>50</th>\n",
       "      <td>BAHCELIEVLER</td>\n",
       "      <td>Kï¿½brï¿½s Parkï¿½</td>\n",
       "      <td>41.000025</td>\n",
       "      <td>28.861743</td>\n",
       "    </tr>\n",
       "    <tr>\n",
       "      <th>51</th>\n",
       "      <td>BAHCELIEVLER</td>\n",
       "      <td>ï¿½mer IncI Parkï¿½</td>\n",
       "      <td>40.997931</td>\n",
       "      <td>28.847191</td>\n",
       "    </tr>\n",
       "    <tr>\n",
       "      <th>52</th>\n",
       "      <td>BAHCELIEVLER</td>\n",
       "      <td>SehItler ParkI IstanbulevlerI</td>\n",
       "      <td>41.005432</td>\n",
       "      <td>28.872617</td>\n",
       "    </tr>\n",
       "    <tr>\n",
       "      <th>53</th>\n",
       "      <td>BAHCELIEVLER</td>\n",
       "      <td>AydIn UnIversIty EnglIsh Preparatory School</td>\n",
       "      <td>41.000090</td>\n",
       "      <td>28.857851</td>\n",
       "    </tr>\n",
       "  </tbody>\n",
       "</table>\n",
       "</div>"
      ],
      "text/plain": [
       "            ILCE                                     Lokasyon   LATITUDE  \\\n",
       "31  BAHCELIEVLER                 75.Yï¿½l CumhurIyet Ilkokulu  41.017576   \n",
       "32  BAHCELIEVLER                       Mustafa Kemal Ilkokulu  41.017575   \n",
       "34  BAHCELIEVLER                                Koza Ilkokulu  41.006173   \n",
       "35  BAHCELIEVLER                           Atatï¿½rk Ilkokulu  41.004349   \n",
       "36  BAHCELIEVLER     GSD EGItIm Vakï¿½f BahCelIevler Ilkokulu  41.010282   \n",
       "37  BAHCELIEVLER                   ITO BIlIm Ve Sanat MerkezI  41.015096   \n",
       "38  BAHCELIEVLER                          SIyavuSpaSa I.ï¿½.O  41.000860   \n",
       "39  BAHCELIEVLER                 Basï¿½n SItesI Iett DuraGï¿½  41.008190   \n",
       "40  BAHCELIEVLER                      BahCelIevler BeledIyesI  40.997499   \n",
       "41  BAHCELIEVLER                            Haznedar DuraGï¿½  41.002440   \n",
       "42  BAHCELIEVLER                                        Yayla  41.000988   \n",
       "43  BAHCELIEVLER                                   SIrInevler  40.999013   \n",
       "44  BAHCELIEVLER                   Mustafa Kemal PaSa CaddesI  41.007843   \n",
       "45  BAHCELIEVLER                      BahCelIevler Metrobï¿½s  40.995323   \n",
       "46  BAHCELIEVLER                     Atakï¿½y Metro Istasyonu  40.991384   \n",
       "47  BAHCELIEVLER                         BahCelIevler Parkï¿½  40.882411   \n",
       "48  BAHCELIEVLER              BahCelIevler beledIyesI parkï¿½  40.997374   \n",
       "49  BAHCELIEVLER                    NatIonal SovereIgnty Park  41.017175   \n",
       "50  BAHCELIEVLER                           Kï¿½brï¿½s Parkï¿½  41.000025   \n",
       "51  BAHCELIEVLER                          ï¿½mer IncI Parkï¿½  40.997931   \n",
       "52  BAHCELIEVLER                SehItler ParkI IstanbulevlerI  41.005432   \n",
       "53  BAHCELIEVLER  AydIn UnIversIty EnglIsh Preparatory School  41.000090   \n",
       "\n",
       "    LONGITUDE  \n",
       "31  28.836471  \n",
       "32  28.821150  \n",
       "34  28.872530  \n",
       "35  28.815245  \n",
       "36  28.841550  \n",
       "37  28.816031  \n",
       "38  28.849991  \n",
       "39  28.728724  \n",
       "40  28.841801  \n",
       "41  28.867136  \n",
       "42  28.845612  \n",
       "43  28.838232  \n",
       "44  28.851313  \n",
       "45  28.862079  \n",
       "46  28.843565  \n",
       "47  29.236534  \n",
       "48  28.587401  \n",
       "49  28.708816  \n",
       "50  28.861743  \n",
       "51  28.847191  \n",
       "52  28.872617  \n",
       "53  28.857851  "
      ]
     },
     "execution_count": 74,
     "metadata": {},
     "output_type": "execute_result"
    }
   ],
   "source": [
    "df4 = df2[(df2.ILCE\t== \"BAHCELIEVLER\") & (df2.LONGITUDE > 28) ]\n",
    "df4"
   ]
  },
  {
   "cell_type": "code",
   "execution_count": 75,
   "metadata": {},
   "outputs": [
    {
     "name": "stderr",
     "output_type": "stream",
     "text": [
      "<ipython-input-75-d762cb77e3aa>:5: FutureWarning:\n",
      "\n",
      "The behavior of `series[i:j]` with an integer-dtype index is deprecated. In a future version, this will be treated as *label-based* indexing, consistent with e.g. `series[i]` lookups. To retain the old behavior, use `series.iloc[i:j]`. To get the future behavior, use `series.loc[i:j]`.\n",
      "\n",
      "<ipython-input-75-d762cb77e3aa>:6: FutureWarning:\n",
      "\n",
      "The behavior of `series[i:j]` with an integer-dtype index is deprecated. In a future version, this will be treated as *label-based* indexing, consistent with e.g. `series[i]` lookups. To retain the old behavior, use `series.iloc[i:j]`. To get the future behavior, use `series.loc[i:j]`.\n",
      "\n"
     ]
    },
    {
     "data": {
      "image/png": "[encoded data removed]",
      "text/plain": [
       "<Figure size 720x360 with 1 Axes>"
      ]
     },
     "metadata": {
      "needs_background": "light"
     },
     "output_type": "display_data"
    }
   ],
   "source": [
    "plt.figure(figsize = (10, 5))\n",
    "x = df4[\"LONGITUDE\"][::]\n",
    "y = df4[\"LATITUDE\"][::]\n",
    "#plt.plot(x, y, 'go',c = 'r')\n",
    "plt.scatter(df4[\"LONGITUDE\"][:8], df4[\"LATITUDE\"][:8], c = 'r', s =90, alpha = 0.6, label = 'One')\n",
    "plt.scatter(df4[\"LONGITUDE\"][8:30], df4[\"LATITUDE\"][8:30], c = 'b', s = 90, alpha = 0.6, label = 'One')\n",
    "plt.xlabel(\"X-Axis\")\n",
    "plt.ylabel(\"Y-Axis\")\n",
    "plt.show()"
   ]
  },
  {
   "cell_type": "code",
   "execution_count": 76,
   "metadata": {},
   "outputs": [
    {
     "name": "stderr",
     "output_type": "stream",
     "text": [
      "<ipython-input-76-d762cb77e3aa>:5: FutureWarning:\n",
      "\n",
      "The behavior of `series[i:j]` with an integer-dtype index is deprecated. In a future version, this will be treated as *label-based* indexing, consistent with e.g. `series[i]` lookups. To retain the old behavior, use `series.iloc[i:j]`. To get the future behavior, use `series.loc[i:j]`.\n",
      "\n",
      "<ipython-input-76-d762cb77e3aa>:6: FutureWarning:\n",
      "\n",
      "The behavior of `series[i:j]` with an integer-dtype index is deprecated. In a future version, this will be treated as *label-based* indexing, consistent with e.g. `series[i]` lookups. To retain the old behavior, use `series.iloc[i:j]`. To get the future behavior, use `series.loc[i:j]`.\n",
      "\n"
     ]
    },
    {
     "data": {
      "image/png": "[encoded data removed]",
      "text/plain": [
       "<Figure size 720x360 with 1 Axes>"
      ]
     },
     "metadata": {
      "needs_background": "light"
     },
     "output_type": "display_data"
    }
   ],
   "source": [
    "plt.figure(figsize = (10, 5))\n",
    "x = df4[\"LONGITUDE\"][::]\n",
    "y = df4[\"LATITUDE\"][::]\n",
    "#plt.plot(x, y, 'go',c = 'r')\n",
    "plt.scatter(df4[\"LONGITUDE\"][:8], df4[\"LATITUDE\"][:8], c = 'r', s =90, alpha = 0.6, label = 'One')\n",
    "plt.scatter(df4[\"LONGITUDE\"][8:30], df4[\"LATITUDE\"][8:30], c = 'b', s = 90, alpha = 0.6, label = 'One')\n",
    "plt.xlabel(\"X-Axis\")\n",
    "plt.ylabel(\"Y-Axis\")\n",
    "plt.show()"
   ]
  }
 ],
 "metadata": {
  "kernelspec": {
   "display_name": "base",
   "language": "python",
   "name": "python3"
  },
  "language_info": {
   "codemirror_mode": {
    "name": "ipython",
    "version": 3
   },
   "file_extension": ".py",
   "mimetype": "text/x-python",
   "name": "python",
   "nbconvert_exporter": "python",
   "pygments_lexer": "ipython3",
   "version": "3.8.8 (default, Apr 13 2021, 15:08:03) [MSC v.1916 64 bit (AMD64)]"
  },
  "orig_nbformat": 4,
  "vscode": {
   "interpreter": {
    "hash": "5179d32cf6ec497baf3f8a3ef987cc77c5d2dc691fdde20a56316522f61a7323"
   }
  }
 },
 "nbformat": 4,
 "nbformat_minor": 2
}
